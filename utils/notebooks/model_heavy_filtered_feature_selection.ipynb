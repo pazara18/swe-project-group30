{
 "cells": [
  {
   "cell_type": "code",
   "execution_count": 7,
   "metadata": {},
   "outputs": [],
   "source": [
    "import tensorflow\n",
    "import pandas as pd\n",
    "import numpy as np\n",
    "from sklearn.preprocessing import OneHotEncoder\n",
    "import matplotlib.pyplot as plt\n",
    "from sklearn.model_selection import train_test_split\n",
    "import joblib"
   ]
  },
  {
   "cell_type": "code",
   "execution_count": 3,
   "metadata": {},
   "outputs": [],
   "source": [
    "\n",
    "\n",
    "health_data =  pd.read_csv('../merged_final_data_heavy_filtered.csv')"
   ]
  },
  {
   "cell_type": "code",
   "execution_count": 4,
   "metadata": {
    "colab": {
     "base_uri": "https://localhost:8080/"
    },
    "id": "ZlGgwLy3Ue53",
    "outputId": "c8445da5-b78c-41cb-a139-55849a01bba9"
   },
   "outputs": [
    {
     "name": "stdout",
     "output_type": "stream",
     "text": [
      "Index(['Age', 'Gender', 'Race', 'Tobacco smoking status NHIS',\n",
      "       'Pain severity - 0-10 verbal numeric rating [Score] - Reported',\n",
      "       'Heart rate', 'Body Height', 'Body Weight', 'Body Mass Index',\n",
      "       'Hemoglobin [Mass/volume] in Blood', 'Systolic Blood Pressure',\n",
      "       'Diastolic Blood Pressure',\n",
      "       'Stress is when someone feels tense  nervous  anxious or can't sleep at night because their mind is troubled. How stressed are you?',\n",
      "       'Hypertension'],\n",
      "      dtype='object')\n"
     ]
    }
   ],
   "source": [
    "print(health_data.columns)"
   ]
  },
  {
   "cell_type": "code",
   "execution_count": 8,
   "metadata": {},
   "outputs": [
    {
     "data": {
      "text/plain": [
       "['../weights/encoder.joblib']"
      ]
     },
     "execution_count": 8,
     "metadata": {},
     "output_type": "execute_result"
    }
   ],
   "source": [
    "columns_to_encode = ['Tobacco smoking status NHIS',  \n",
    "                    \"Stress is when someone feels tense  nervous  anxious or can't sleep at night because their mind is troubled. How stressed are you?\", \n",
    "                    \"Gender\", \n",
    "                     \"Race\"]\n",
    "OHE    = OneHotEncoder(sparse=False)\n",
    "encoded_columns =    OHE.fit_transform(health_data[columns_to_encode])\n",
    "joblib.dump(OHE, '../weights/encoder.joblib')\n",
    "                     \n",
    "                     "
   ]
  },
  {
   "cell_type": "code",
   "execution_count": 9,
   "metadata": {},
   "outputs": [
    {
     "name": "stdout",
     "output_type": "stream",
     "text": [
      "(45459, 17)\n"
     ]
    }
   ],
   "source": [
    "print(encoded_columns.shape)"
   ]
  },
  {
   "cell_type": "code",
   "execution_count": 10,
   "metadata": {},
   "outputs": [],
   "source": [
    "column_name = OHE.get_feature_names(columns_to_encode)\n",
    "one_hot_encoded_frame =  pd.DataFrame(encoded_columns, columns= column_name)"
   ]
  },
  {
   "cell_type": "code",
   "execution_count": 11,
   "metadata": {},
   "outputs": [],
   "source": [
    "only_scalar = health_data.drop(columns_to_encode, axis=1)\n"
   ]
  },
  {
   "cell_type": "code",
   "execution_count": 14,
   "metadata": {},
   "outputs": [],
   "source": [
    "#only_scalar_filtered_frame =only_scalar.drop(['TIME','PATIENT'], axis=1) #filter time and patient\n",
    "only_scalar_filtered_frame  = only_scalar\n",
    "final_frame = pd.concat([one_hot_encoded_frame,only_scalar_filtered_frame], axis=1)"
   ]
  },
  {
   "cell_type": "code",
   "execution_count": 15,
   "metadata": {},
   "outputs": [],
   "source": [
    "encoded_full_column_list = final_frame.columns"
   ]
  },
  {
   "cell_type": "code",
   "execution_count": 16,
   "metadata": {},
   "outputs": [],
   "source": [
    "final_frame.to_csv(\"./feature_selection/final_Frame.csv\")"
   ]
  },
  {
   "cell_type": "markdown",
   "metadata": {
    "id": "kDSzK674s-4k"
   },
   "source": [
    "Shuffle the dataset."
   ]
  },
  {
   "cell_type": "code",
   "execution_count": 17,
   "metadata": {
    "id": "dZiwd2-oVirj"
   },
   "outputs": [],
   "source": [
    "from sklearn.utils import shuffle\n",
    "\n",
    "processed_data = shuffle(final_frame).values"
   ]
  },
  {
   "cell_type": "code",
   "execution_count": 18,
   "metadata": {},
   "outputs": [],
   "source": [
    "X = processed_data[:,:-1].astype(float)\n",
    "y = processed_data[:,-1].astype(int)\n"
   ]
  },
  {
   "cell_type": "code",
   "execution_count": 19,
   "metadata": {},
   "outputs": [],
   "source": [
    "hyper_label = list(np.where(y==1)[0])\n",
    "non_hyper_label = np.where(y==0)[0]\n",
    "new_non_hyper_label = list(np.random.choice(non_hyper_label, size = int(len(hyper_label))))\n",
    "new_label_indices = hyper_label + new_non_hyper_label\n",
    "y_balanced = y[new_label_indices]\n",
    "X_balanced =X[new_label_indices]"
   ]
  },
  {
   "cell_type": "code",
   "execution_count": 22,
   "metadata": {},
   "outputs": [
    {
     "name": "stdout",
     "output_type": "stream",
     "text": [
      "[[-0.17594244 -0.53806179  0.58433752 ...  1.57732102 -0.69423553\n",
      "  -0.36360384]\n",
      " [-0.17594244 -0.53806179  0.58433752 ...  0.42978781 -0.56937106\n",
      "   0.04150273]\n",
      " [-0.17594244 -0.53806179  0.58433752 ... -0.37348544 -0.44450659\n",
      "   0.24405601]\n",
      " ...\n",
      " [-0.17594244 -0.53806179  0.58433752 ... -0.83249873 -0.00748096\n",
      "  -0.46488049]\n",
      " [-0.17594244  1.85852261 -1.7113397  ...  1.00355441 -0.88153223\n",
      "  -1.17381698]\n",
      " [-0.17594244 -0.53806179  0.58433752 ... -0.60299208  0.05495127\n",
      "  -0.66743377]]\n"
     ]
    },
    {
     "data": {
      "text/plain": [
       "(17518, 26)"
      ]
     },
     "execution_count": 22,
     "metadata": {},
     "output_type": "execute_result"
    }
   ],
   "source": [
    "from sklearn.preprocessing import StandardScaler\n",
    "from sklearn.datasets import load_digits\n",
    "from sklearn.feature_selection import SelectKBest, chi2, f_classif\n",
    "\n",
    "scaler_x = StandardScaler().fit(X_balanced)\n",
    "X_balanced = scaler_x.transform(X_balanced)\n",
    "print(X_balanced)\n",
    "\n",
    "kbest = SelectKBest(f_classif, k=26)\n",
    "X_new = kbest.fit_transform(X_balanced, y_balanced)\n",
    "X_new.shape"
   ]
  },
  {
   "cell_type": "code",
   "execution_count": 23,
   "metadata": {},
   "outputs": [
    {
     "data": {
      "text/plain": [
       "array([4.75454059e+02, 4.97705011e+02, 1.61333448e+02, 7.68127797e-01,\n",
       "       6.09141057e-02, 2.21071158e+00, 7.92837317e-01, 1.50310296e-03,\n",
       "       2.88841827e-01, 3.56831940e+00, 3.56831940e+00, 1.77272678e+01,\n",
       "       1.46636351e+01, 2.99966178e-01, 4.39755388e+00, 8.56110336e-01,\n",
       "       2.97009667e+01, 1.82083088e+04, 4.27132876e-03, 2.47773868e+01,\n",
       "       1.63714771e+01, 3.77516439e+03, 5.54194152e+03, 4.97420714e-01,\n",
       "       2.37338429e+02, 2.40604703e+02])"
      ]
     },
     "execution_count": 23,
     "metadata": {},
     "output_type": "execute_result"
    }
   ],
   "source": [
    "kbest.scores_"
   ]
  },
  {
   "cell_type": "code",
   "execution_count": 24,
   "metadata": {},
   "outputs": [
    {
     "name": "stdout",
     "output_type": "stream",
     "text": [
      "[ 0  1  2  3  4  5  6  7  8  9 10 11 12 13 14 15 16 17 18 19 20 21 22 23\n",
      " 24 25]\n"
     ]
    }
   ],
   "source": [
    "cols = kbest.get_support(indices=True)\n",
    "print(cols)\n",
    "best_columns_data_frame = final_frame.iloc[:,cols]\n",
    "\n"
   ]
  },
  {
   "cell_type": "code",
   "execution_count": 26,
   "metadata": {},
   "outputs": [],
   "source": [
    "encoded_full_column_list = final_frame.columns\n",
    "full_column_dict = {}\n",
    "encoded_full_column_list = list(encoded_full_column_list)\n",
    "\n",
    "encoded_full_column_list.remove('Hypertension')\n",
    "\n",
    "i=0\n",
    "for _ in range(0,len(encoded_full_column_list)):\n",
    "    \n",
    "    full_column_dict[encoded_full_column_list[_]] = kbest.scores_[i]\n",
    "    i +=1\n",
    "    \n",
    "\n",
    "#print(encoded_full_column_list[80])\n",
    "#print(kbest.scores_[80])"
   ]
  },
  {
   "cell_type": "code",
   "execution_count": 27,
   "metadata": {},
   "outputs": [],
   "source": [
    "import csv\n",
    "#sort dictionary based on values\n",
    "sorted_full_column_dict = {k: v for k, v in sorted(full_column_dict.items(), key=lambda item: item[1], reverse=True)}\n",
    "#print(sorted_full_column_dict)\n",
    "\n",
    "with open('./feature_selection/FINAL_FRAMEscaled_feature_selection_importance_sorted_fclassif.csv', 'w') as csv_file:  \n",
    "    writer = csv.writer(csv_file)\n",
    "    for key, value in sorted_full_column_dict.items():\n",
    "       writer.writerow([key, value])"
   ]
  },
  {
   "cell_type": "code",
   "execution_count": 28,
   "metadata": {},
   "outputs": [],
   "source": [
    "best_columns_data_frame.to_csv('./feature_selection/FINAL_FRAME_best_columns_data_frame.csv')"
   ]
  },
  {
   "cell_type": "code",
   "execution_count": 29,
   "metadata": {
    "id": "UloEuNuXXe8-"
   },
   "outputs": [],
   "source": [
    " X_train, X_test, y_train, y_test = train_test_split(X_new, y_balanced, test_size=0.1)"
   ]
  },
  {
   "cell_type": "code",
   "execution_count": 30,
   "metadata": {},
   "outputs": [
    {
     "data": {
      "text/plain": [
       "(15766, 26)"
      ]
     },
     "execution_count": 30,
     "metadata": {},
     "output_type": "execute_result"
    }
   ],
   "source": [
    "X_train.shape"
   ]
  },
  {
   "cell_type": "code",
   "execution_count": 31,
   "metadata": {},
   "outputs": [
    {
     "name": "stdout",
     "output_type": "stream",
     "text": [
      "float64\n"
     ]
    }
   ],
   "source": [
    "print(X_train.dtype)"
   ]
  },
  {
   "cell_type": "code",
   "execution_count": 32,
   "metadata": {},
   "outputs": [
    {
     "name": "stdout",
     "output_type": "stream",
     "text": [
      "test: {0: 883, 1: 869}\n",
      "train: {0: 7876, 1: 7890}\n"
     ]
    }
   ],
   "source": [
    "unique, counts = np.unique(y_test, return_counts=True)\n",
    "print(\"test:\",dict(zip(unique, counts)))\n",
    "\n",
    "\n",
    "unique, counts = np.unique(y_train, return_counts=True)\n",
    "print(\"train:\",dict(zip(unique, counts)))"
   ]
  },
  {
   "cell_type": "markdown",
   "metadata": {
    "id": "wDi9jfnRqUgJ"
   },
   "source": [
    "Fully connected neural network model with 3 hidden layers:"
   ]
  },
  {
   "cell_type": "code",
   "execution_count": 40,
   "metadata": {
    "id": "bVz5-8xuqEsy"
   },
   "outputs": [],
   "source": [
    "import tensorflow as tf \n",
    "\n",
    "model = tf.keras.models.Sequential([\n",
    "  tf.keras.Input(shape=(X_train[0].shape[0],)), #Xtrain[0].shape[0] = 108 -> input size\n",
    "  tf.keras.layers.Dense(128, activation='relu'), #represents 1st hidden layer \n",
    "  tf.keras.layers.Dropout(0.2), # dropout regularization with dropout probability 20% percent\n",
    "  tf.keras.layers.Dense(128, activation='relu'), #represents the 2nd hidden layer \n",
    "  tf.keras.layers.Dropout(0.2), # dropout regularization with dropout probability 20% percent\n",
    "  tf.keras.layers.Dense(128, activation='relu'), #represents the 3rd hidden layer \n",
    "  tf.keras.layers.Dropout(0.2), # dropout regularization with dropout probability 20% percent\n",
    "  tf.keras.layers.Dense(1, activation='sigmoid') # sigmoid activation at output since it is binary classification\n",
    "])"
   ]
  },
  {
   "cell_type": "code",
   "execution_count": 41,
   "metadata": {
    "id": "5FNnHp_QrGCv"
   },
   "outputs": [],
   "source": [
    "model.compile(optimizer='adam', \n",
    "              loss='binary_crossentropy',\n",
    "              metrics=['accuracy'])"
   ]
  },
  {
   "cell_type": "code",
   "execution_count": 42,
   "metadata": {},
   "outputs": [
    {
     "name": "stdout",
     "output_type": "stream",
     "text": [
      "Model: \"sequential_2\"\n",
      "_________________________________________________________________\n",
      "Layer (type)                 Output Shape              Param #   \n",
      "=================================================================\n",
      "dense_8 (Dense)              (None, 128)               3456      \n",
      "_________________________________________________________________\n",
      "dropout_6 (Dropout)          (None, 128)               0         \n",
      "_________________________________________________________________\n",
      "dense_9 (Dense)              (None, 128)               16512     \n",
      "_________________________________________________________________\n",
      "dropout_7 (Dropout)          (None, 128)               0         \n",
      "_________________________________________________________________\n",
      "dense_10 (Dense)             (None, 128)               16512     \n",
      "_________________________________________________________________\n",
      "dropout_8 (Dropout)          (None, 128)               0         \n",
      "_________________________________________________________________\n",
      "dense_11 (Dense)             (None, 1)                 129       \n",
      "=================================================================\n",
      "Total params: 36,609\n",
      "Trainable params: 36,609\n",
      "Non-trainable params: 0\n",
      "_________________________________________________________________\n"
     ]
    }
   ],
   "source": [
    "model.summary()"
   ]
  },
  {
   "cell_type": "markdown",
   "metadata": {
    "id": "aS2gk-MarTGl"
   },
   "source": [
    "Train the model with 10 epochs:"
   ]
  },
  {
   "cell_type": "code",
   "execution_count": 43,
   "metadata": {
    "colab": {
     "base_uri": "https://localhost:8080/"
    },
    "id": "HxyIThDGP_gj",
    "outputId": "360b23ea-a569-412d-a2da-90a2a7eec26a"
   },
   "outputs": [
    {
     "name": "stdout",
     "output_type": "stream",
     "text": [
      "Epoch 1/128\n",
      "493/493 [==============================] - 1s 2ms/step - loss: 0.4272 - accuracy: 0.8055 - val_loss: 0.2899 - val_accuracy: 0.8761\n",
      "Epoch 2/128\n",
      "493/493 [==============================] - 1s 1ms/step - loss: 0.3060 - accuracy: 0.8810 - val_loss: 0.2717 - val_accuracy: 0.8950\n",
      "Epoch 3/128\n",
      "493/493 [==============================] - 1s 1ms/step - loss: 0.2851 - accuracy: 0.8943 - val_loss: 0.2513 - val_accuracy: 0.9132\n",
      "Epoch 4/128\n",
      "493/493 [==============================] - 1s 1ms/step - loss: 0.2678 - accuracy: 0.9043 - val_loss: 0.2430 - val_accuracy: 0.9150\n",
      "Epoch 5/128\n",
      "493/493 [==============================] - 1s 1ms/step - loss: 0.2512 - accuracy: 0.9099 - val_loss: 0.2414 - val_accuracy: 0.9178\n",
      "Epoch 6/128\n",
      "493/493 [==============================] - 1s 1ms/step - loss: 0.2547 - accuracy: 0.9071 - val_loss: 0.2356 - val_accuracy: 0.9155\n",
      "Epoch 7/128\n",
      "493/493 [==============================] - 1s 1ms/step - loss: 0.2394 - accuracy: 0.9139 - val_loss: 0.2345 - val_accuracy: 0.9184\n",
      "Epoch 8/128\n",
      "493/493 [==============================] - 1s 1ms/step - loss: 0.2385 - accuracy: 0.9153 - val_loss: 0.2274 - val_accuracy: 0.9218\n",
      "Epoch 9/128\n",
      "493/493 [==============================] - 1s 1ms/step - loss: 0.2289 - accuracy: 0.9197 - val_loss: 0.2286 - val_accuracy: 0.9195\n",
      "Epoch 10/128\n",
      "493/493 [==============================] - 1s 1ms/step - loss: 0.2225 - accuracy: 0.9197 - val_loss: 0.2223 - val_accuracy: 0.9229\n",
      "Epoch 11/128\n",
      "493/493 [==============================] - 1s 1ms/step - loss: 0.2229 - accuracy: 0.9211 - val_loss: 0.2214 - val_accuracy: 0.9224\n",
      "Epoch 12/128\n",
      "493/493 [==============================] - 1s 1ms/step - loss: 0.2195 - accuracy: 0.9214 - val_loss: 0.2174 - val_accuracy: 0.9212\n",
      "Epoch 13/128\n",
      "493/493 [==============================] - 1s 1ms/step - loss: 0.2275 - accuracy: 0.9206 - val_loss: 0.2186 - val_accuracy: 0.9252\n",
      "Epoch 14/128\n",
      "493/493 [==============================] - 1s 1ms/step - loss: 0.2167 - accuracy: 0.9235 - val_loss: 0.2169 - val_accuracy: 0.9247\n",
      "Epoch 15/128\n",
      "493/493 [==============================] - 1s 1ms/step - loss: 0.2076 - accuracy: 0.9247 - val_loss: 0.2166 - val_accuracy: 0.9264\n",
      "Epoch 16/128\n",
      "493/493 [==============================] - 1s 1ms/step - loss: 0.2112 - accuracy: 0.9231 - val_loss: 0.2131 - val_accuracy: 0.9264\n",
      "Epoch 17/128\n",
      "493/493 [==============================] - 1s 1ms/step - loss: 0.2152 - accuracy: 0.9217 - val_loss: 0.2203 - val_accuracy: 0.9241\n",
      "Epoch 18/128\n",
      "493/493 [==============================] - 1s 1ms/step - loss: 0.2031 - accuracy: 0.9284 - val_loss: 0.2139 - val_accuracy: 0.9252\n",
      "Epoch 19/128\n",
      "493/493 [==============================] - 1s 1ms/step - loss: 0.2068 - accuracy: 0.9273 - val_loss: 0.2223 - val_accuracy: 0.9252\n",
      "Epoch 20/128\n",
      "493/493 [==============================] - 1s 1ms/step - loss: 0.2006 - accuracy: 0.9278 - val_loss: 0.2189 - val_accuracy: 0.9247\n",
      "Epoch 21/128\n",
      "493/493 [==============================] - 1s 1ms/step - loss: 0.2054 - accuracy: 0.9275 - val_loss: 0.2185 - val_accuracy: 0.9258\n",
      "Epoch 22/128\n",
      "493/493 [==============================] - 1s 1ms/step - loss: 0.1967 - accuracy: 0.9285 - val_loss: 0.2216 - val_accuracy: 0.9235\n",
      "Epoch 23/128\n",
      "493/493 [==============================] - 1s 1ms/step - loss: 0.2020 - accuracy: 0.9266 - val_loss: 0.2262 - val_accuracy: 0.9224\n",
      "Epoch 24/128\n",
      "493/493 [==============================] - 1s 1ms/step - loss: 0.1972 - accuracy: 0.9304 - val_loss: 0.2197 - val_accuracy: 0.9235\n",
      "Epoch 25/128\n",
      "493/493 [==============================] - 1s 1ms/step - loss: 0.1942 - accuracy: 0.9254 - val_loss: 0.2180 - val_accuracy: 0.9252\n",
      "Epoch 26/128\n",
      "493/493 [==============================] - 1s 1ms/step - loss: 0.1887 - accuracy: 0.9327 - val_loss: 0.2173 - val_accuracy: 0.9241\n",
      "Epoch 27/128\n",
      "493/493 [==============================] - 1s 1ms/step - loss: 0.1905 - accuracy: 0.9319 - val_loss: 0.2128 - val_accuracy: 0.9275\n",
      "Epoch 28/128\n",
      "493/493 [==============================] - 1s 1ms/step - loss: 0.2058 - accuracy: 0.9212 - val_loss: 0.2216 - val_accuracy: 0.9264\n",
      "Epoch 29/128\n",
      "493/493 [==============================] - 1s 1ms/step - loss: 0.1852 - accuracy: 0.9338 - val_loss: 0.2206 - val_accuracy: 0.9235\n",
      "Epoch 30/128\n",
      "493/493 [==============================] - 1s 1ms/step - loss: 0.1903 - accuracy: 0.9330 - val_loss: 0.2218 - val_accuracy: 0.9275\n",
      "Epoch 31/128\n",
      "493/493 [==============================] - 1s 1ms/step - loss: 0.1847 - accuracy: 0.9327 - val_loss: 0.2199 - val_accuracy: 0.9258\n",
      "Epoch 32/128\n",
      "493/493 [==============================] - 1s 1ms/step - loss: 0.1814 - accuracy: 0.9354 - val_loss: 0.2262 - val_accuracy: 0.9258\n",
      "Epoch 33/128\n",
      "493/493 [==============================] - 1s 2ms/step - loss: 0.1887 - accuracy: 0.9322 - val_loss: 0.2183 - val_accuracy: 0.9287\n",
      "Epoch 34/128\n",
      "493/493 [==============================] - 1s 2ms/step - loss: 0.1830 - accuracy: 0.9345 - val_loss: 0.2266 - val_accuracy: 0.9241\n",
      "Epoch 35/128\n",
      "493/493 [==============================] - 1s 1ms/step - loss: 0.1871 - accuracy: 0.9312 - val_loss: 0.2275 - val_accuracy: 0.9269\n",
      "Epoch 36/128\n",
      "493/493 [==============================] - 1s 1ms/step - loss: 0.1782 - accuracy: 0.9380 - val_loss: 0.2247 - val_accuracy: 0.9235\n",
      "Epoch 37/128\n",
      "493/493 [==============================] - 1s 1ms/step - loss: 0.1704 - accuracy: 0.9388 - val_loss: 0.2226 - val_accuracy: 0.9264\n",
      "Epoch 38/128\n",
      "493/493 [==============================] - 1s 1ms/step - loss: 0.1835 - accuracy: 0.9349 - val_loss: 0.2184 - val_accuracy: 0.9287\n",
      "Epoch 39/128\n",
      "493/493 [==============================] - 1s 1ms/step - loss: 0.1714 - accuracy: 0.9383 - val_loss: 0.2212 - val_accuracy: 0.9258\n",
      "Epoch 40/128\n",
      "493/493 [==============================] - 1s 1ms/step - loss: 0.1798 - accuracy: 0.9348 - val_loss: 0.2227 - val_accuracy: 0.9287\n",
      "Epoch 41/128\n",
      "493/493 [==============================] - 1s 1ms/step - loss: 0.1796 - accuracy: 0.9371 - val_loss: 0.2219 - val_accuracy: 0.9229\n",
      "Epoch 42/128\n",
      "493/493 [==============================] - 1s 1ms/step - loss: 0.1758 - accuracy: 0.9375 - val_loss: 0.2224 - val_accuracy: 0.9264\n",
      "Epoch 43/128\n",
      "493/493 [==============================] - 1s 1ms/step - loss: 0.1773 - accuracy: 0.9365 - val_loss: 0.2307 - val_accuracy: 0.9224\n",
      "Epoch 44/128\n",
      "493/493 [==============================] - 1s 1ms/step - loss: 0.1849 - accuracy: 0.9343 - val_loss: 0.2307 - val_accuracy: 0.9235\n",
      "Epoch 45/128\n",
      "493/493 [==============================] - 1s 1ms/step - loss: 0.1737 - accuracy: 0.9351 - val_loss: 0.2292 - val_accuracy: 0.9224\n",
      "Epoch 46/128\n",
      "493/493 [==============================] - 1s 1ms/step - loss: 0.1729 - accuracy: 0.9373 - val_loss: 0.2281 - val_accuracy: 0.9247\n",
      "Epoch 47/128\n",
      "493/493 [==============================] - 1s 1ms/step - loss: 0.1730 - accuracy: 0.9381 - val_loss: 0.2264 - val_accuracy: 0.9281\n",
      "Epoch 48/128\n",
      "493/493 [==============================] - 1s 1ms/step - loss: 0.1677 - accuracy: 0.9408 - val_loss: 0.2310 - val_accuracy: 0.9229\n",
      "Epoch 49/128\n",
      "493/493 [==============================] - 1s 1ms/step - loss: 0.1678 - accuracy: 0.9391 - val_loss: 0.2296 - val_accuracy: 0.9298\n",
      "Epoch 50/128\n",
      "493/493 [==============================] - 1s 1ms/step - loss: 0.1716 - accuracy: 0.9368 - val_loss: 0.2356 - val_accuracy: 0.9212\n",
      "Epoch 51/128\n",
      "493/493 [==============================] - 1s 1ms/step - loss: 0.1637 - accuracy: 0.9385 - val_loss: 0.2226 - val_accuracy: 0.9298\n",
      "Epoch 52/128\n",
      "493/493 [==============================] - 1s 1ms/step - loss: 0.1705 - accuracy: 0.9369 - val_loss: 0.2296 - val_accuracy: 0.9264\n",
      "Epoch 53/128\n",
      "493/493 [==============================] - 1s 1ms/step - loss: 0.1652 - accuracy: 0.9380 - val_loss: 0.2298 - val_accuracy: 0.9224\n",
      "Epoch 54/128\n",
      "493/493 [==============================] - 1s 1ms/step - loss: 0.1634 - accuracy: 0.9405 - val_loss: 0.2326 - val_accuracy: 0.9264\n",
      "Epoch 55/128\n",
      "493/493 [==============================] - 1s 1ms/step - loss: 0.1661 - accuracy: 0.9400 - val_loss: 0.2341 - val_accuracy: 0.9252\n",
      "Epoch 56/128\n",
      "493/493 [==============================] - 1s 1ms/step - loss: 0.1641 - accuracy: 0.9382 - val_loss: 0.2412 - val_accuracy: 0.9229\n",
      "Epoch 57/128\n",
      "493/493 [==============================] - 1s 1ms/step - loss: 0.1557 - accuracy: 0.9414 - val_loss: 0.2329 - val_accuracy: 0.9264\n"
     ]
    },
    {
     "name": "stdout",
     "output_type": "stream",
     "text": [
      "Epoch 58/128\n",
      "493/493 [==============================] - 1s 1ms/step - loss: 0.1606 - accuracy: 0.9396 - val_loss: 0.2419 - val_accuracy: 0.9247\n",
      "Epoch 59/128\n",
      "493/493 [==============================] - 1s 1ms/step - loss: 0.1615 - accuracy: 0.9420 - val_loss: 0.2390 - val_accuracy: 0.9224\n",
      "Epoch 60/128\n",
      "493/493 [==============================] - 1s 1ms/step - loss: 0.1636 - accuracy: 0.9408 - val_loss: 0.2409 - val_accuracy: 0.9252\n",
      "Epoch 61/128\n",
      "493/493 [==============================] - 1s 1ms/step - loss: 0.1617 - accuracy: 0.9417 - val_loss: 0.2484 - val_accuracy: 0.9189\n",
      "Epoch 62/128\n",
      "493/493 [==============================] - 1s 1ms/step - loss: 0.1622 - accuracy: 0.9388 - val_loss: 0.2431 - val_accuracy: 0.9247\n",
      "Epoch 63/128\n",
      "493/493 [==============================] - 1s 1ms/step - loss: 0.1591 - accuracy: 0.9417 - val_loss: 0.2445 - val_accuracy: 0.9218\n",
      "Epoch 64/128\n",
      "493/493 [==============================] - 1s 2ms/step - loss: 0.1587 - accuracy: 0.9398 - val_loss: 0.2429 - val_accuracy: 0.9258\n",
      "Epoch 65/128\n",
      "493/493 [==============================] - 1s 1ms/step - loss: 0.1566 - accuracy: 0.9428 - val_loss: 0.2374 - val_accuracy: 0.9269\n",
      "Epoch 66/128\n",
      "493/493 [==============================] - 1s 2ms/step - loss: 0.1604 - accuracy: 0.9393 - val_loss: 0.2330 - val_accuracy: 0.9258\n",
      "Epoch 67/128\n",
      "493/493 [==============================] - 1s 1ms/step - loss: 0.1564 - accuracy: 0.9425 - val_loss: 0.2420 - val_accuracy: 0.9235\n",
      "Epoch 68/128\n",
      "493/493 [==============================] - 1s 1ms/step - loss: 0.1537 - accuracy: 0.9416 - val_loss: 0.2373 - val_accuracy: 0.9264\n",
      "Epoch 69/128\n",
      "493/493 [==============================] - 1s 1ms/step - loss: 0.1510 - accuracy: 0.9441 - val_loss: 0.2392 - val_accuracy: 0.9281\n",
      "Epoch 70/128\n",
      "493/493 [==============================] - 1s 1ms/step - loss: 0.1539 - accuracy: 0.9447 - val_loss: 0.2443 - val_accuracy: 0.9264\n",
      "Epoch 71/128\n",
      "493/493 [==============================] - 1s 1ms/step - loss: 0.1529 - accuracy: 0.9450 - val_loss: 0.2435 - val_accuracy: 0.9281\n",
      "Epoch 72/128\n",
      "493/493 [==============================] - 1s 1ms/step - loss: 0.1481 - accuracy: 0.9431 - val_loss: 0.2454 - val_accuracy: 0.9224\n",
      "Epoch 73/128\n",
      "493/493 [==============================] - 1s 1ms/step - loss: 0.1482 - accuracy: 0.9454 - val_loss: 0.2432 - val_accuracy: 0.9241\n",
      "Epoch 74/128\n",
      "493/493 [==============================] - 1s 1ms/step - loss: 0.1513 - accuracy: 0.9438 - val_loss: 0.2585 - val_accuracy: 0.9195\n",
      "Epoch 75/128\n",
      "493/493 [==============================] - 1s 1ms/step - loss: 0.1581 - accuracy: 0.9411 - val_loss: 0.2467 - val_accuracy: 0.9229\n",
      "Epoch 76/128\n",
      "493/493 [==============================] - 1s 1ms/step - loss: 0.1538 - accuracy: 0.9428 - val_loss: 0.2587 - val_accuracy: 0.9258\n",
      "Epoch 77/128\n",
      "493/493 [==============================] - 1s 1ms/step - loss: 0.1583 - accuracy: 0.9402 - val_loss: 0.2434 - val_accuracy: 0.9258\n",
      "Epoch 78/128\n",
      "493/493 [==============================] - 1s 1ms/step - loss: 0.1534 - accuracy: 0.9452 - val_loss: 0.2452 - val_accuracy: 0.9218\n",
      "Epoch 79/128\n",
      "493/493 [==============================] - 1s 1ms/step - loss: 0.1526 - accuracy: 0.9449 - val_loss: 0.2527 - val_accuracy: 0.9212\n",
      "Epoch 80/128\n",
      "493/493 [==============================] - 1s 1ms/step - loss: 0.1527 - accuracy: 0.9405 - val_loss: 0.2508 - val_accuracy: 0.9195\n",
      "Epoch 81/128\n",
      "493/493 [==============================] - 1s 1ms/step - loss: 0.1501 - accuracy: 0.9435 - val_loss: 0.2591 - val_accuracy: 0.9184\n",
      "Epoch 82/128\n",
      "493/493 [==============================] - 1s 1ms/step - loss: 0.1440 - accuracy: 0.9483 - val_loss: 0.2513 - val_accuracy: 0.9241\n",
      "Epoch 83/128\n",
      "493/493 [==============================] - 1s 1ms/step - loss: 0.1477 - accuracy: 0.9451 - val_loss: 0.2595 - val_accuracy: 0.9224\n",
      "Epoch 84/128\n",
      "493/493 [==============================] - 1s 1ms/step - loss: 0.1454 - accuracy: 0.9462 - val_loss: 0.2593 - val_accuracy: 0.9172\n",
      "Epoch 85/128\n",
      "493/493 [==============================] - 1s 1ms/step - loss: 0.1454 - accuracy: 0.9454 - val_loss: 0.2622 - val_accuracy: 0.9207\n",
      "Epoch 86/128\n",
      "493/493 [==============================] - 1s 1ms/step - loss: 0.1374 - accuracy: 0.9483 - val_loss: 0.2523 - val_accuracy: 0.9195\n",
      "Epoch 87/128\n",
      "493/493 [==============================] - 1s 1ms/step - loss: 0.1440 - accuracy: 0.9462 - val_loss: 0.2460 - val_accuracy: 0.9241\n",
      "Epoch 88/128\n",
      "493/493 [==============================] - 1s 1ms/step - loss: 0.1499 - accuracy: 0.9415 - val_loss: 0.2434 - val_accuracy: 0.9269\n",
      "Epoch 89/128\n",
      "493/493 [==============================] - 1s 1ms/step - loss: 0.1567 - accuracy: 0.9403 - val_loss: 0.2445 - val_accuracy: 0.9275\n",
      "Epoch 90/128\n",
      "493/493 [==============================] - 1s 1ms/step - loss: 0.1429 - accuracy: 0.9464 - val_loss: 0.2582 - val_accuracy: 0.9184\n",
      "Epoch 91/128\n",
      "493/493 [==============================] - 1s 1ms/step - loss: 0.1480 - accuracy: 0.9427 - val_loss: 0.2513 - val_accuracy: 0.9247\n",
      "Epoch 92/128\n",
      "493/493 [==============================] - 1s 1ms/step - loss: 0.1447 - accuracy: 0.9470 - val_loss: 0.2574 - val_accuracy: 0.9252\n",
      "Epoch 93/128\n",
      "493/493 [==============================] - 1s 1ms/step - loss: 0.1377 - accuracy: 0.9475 - val_loss: 0.2479 - val_accuracy: 0.9269\n",
      "Epoch 94/128\n",
      "493/493 [==============================] - 1s 1ms/step - loss: 0.1449 - accuracy: 0.9463 - val_loss: 0.2572 - val_accuracy: 0.9252\n",
      "Epoch 95/128\n",
      "493/493 [==============================] - 1s 1ms/step - loss: 0.1434 - accuracy: 0.9465 - val_loss: 0.2562 - val_accuracy: 0.9172\n",
      "Epoch 96/128\n",
      "493/493 [==============================] - 1s 1ms/step - loss: 0.1468 - accuracy: 0.9430 - val_loss: 0.2495 - val_accuracy: 0.9247\n",
      "Epoch 97/128\n",
      "493/493 [==============================] - 1s 1ms/step - loss: 0.1462 - accuracy: 0.9464 - val_loss: 0.2547 - val_accuracy: 0.9258\n",
      "Epoch 98/128\n",
      "493/493 [==============================] - 1s 1ms/step - loss: 0.1342 - accuracy: 0.9505 - val_loss: 0.2541 - val_accuracy: 0.9224\n",
      "Epoch 99/128\n",
      "493/493 [==============================] - 1s 1ms/step - loss: 0.1510 - accuracy: 0.9459 - val_loss: 0.2549 - val_accuracy: 0.9235\n",
      "Epoch 100/128\n",
      "493/493 [==============================] - 1s 1ms/step - loss: 0.1422 - accuracy: 0.9471 - val_loss: 0.2662 - val_accuracy: 0.9218\n",
      "Epoch 101/128\n",
      "493/493 [==============================] - 1s 1ms/step - loss: 0.1458 - accuracy: 0.9443 - val_loss: 0.2576 - val_accuracy: 0.9258\n",
      "Epoch 102/128\n",
      "493/493 [==============================] - 1s 1ms/step - loss: 0.1341 - accuracy: 0.9504 - val_loss: 0.2656 - val_accuracy: 0.9241\n",
      "Epoch 103/128\n",
      "493/493 [==============================] - 1s 1ms/step - loss: 0.1365 - accuracy: 0.9484 - val_loss: 0.2682 - val_accuracy: 0.9235\n",
      "Epoch 104/128\n",
      "493/493 [==============================] - 1s 1ms/step - loss: 0.1343 - accuracy: 0.9496 - val_loss: 0.2707 - val_accuracy: 0.9195\n",
      "Epoch 105/128\n",
      "493/493 [==============================] - 1s 1ms/step - loss: 0.1352 - accuracy: 0.9508 - val_loss: 0.2631 - val_accuracy: 0.9172\n",
      "Epoch 106/128\n",
      "493/493 [==============================] - 1s 1ms/step - loss: 0.1387 - accuracy: 0.9461 - val_loss: 0.2696 - val_accuracy: 0.9201\n",
      "Epoch 107/128\n",
      "493/493 [==============================] - 1s 1ms/step - loss: 0.1394 - accuracy: 0.9455 - val_loss: 0.2562 - val_accuracy: 0.9241\n",
      "Epoch 108/128\n",
      "493/493 [==============================] - 1s 1ms/step - loss: 0.1382 - accuracy: 0.9487 - val_loss: 0.2523 - val_accuracy: 0.9241\n",
      "Epoch 109/128\n",
      "493/493 [==============================] - 1s 1ms/step - loss: 0.1402 - accuracy: 0.9472 - val_loss: 0.2571 - val_accuracy: 0.9247\n",
      "Epoch 110/128\n",
      "493/493 [==============================] - 1s 1ms/step - loss: 0.1369 - accuracy: 0.9470 - val_loss: 0.2556 - val_accuracy: 0.9201\n",
      "Epoch 111/128\n",
      "493/493 [==============================] - 1s 1ms/step - loss: 0.1375 - accuracy: 0.9488 - val_loss: 0.2603 - val_accuracy: 0.9218\n",
      "Epoch 112/128\n",
      "493/493 [==============================] - 1s 1ms/step - loss: 0.1317 - accuracy: 0.9493 - val_loss: 0.2688 - val_accuracy: 0.9247\n",
      "Epoch 113/128\n",
      "493/493 [==============================] - 1s 1ms/step - loss: 0.1283 - accuracy: 0.9512 - val_loss: 0.2701 - val_accuracy: 0.9218\n",
      "Epoch 114/128\n",
      "493/493 [==============================] - 1s 1ms/step - loss: 0.1349 - accuracy: 0.9482 - val_loss: 0.2756 - val_accuracy: 0.9241\n"
     ]
    },
    {
     "name": "stdout",
     "output_type": "stream",
     "text": [
      "Epoch 115/128\n",
      "493/493 [==============================] - 1s 1ms/step - loss: 0.1379 - accuracy: 0.9464 - val_loss: 0.2731 - val_accuracy: 0.9178\n",
      "Epoch 116/128\n",
      "493/493 [==============================] - 1s 1ms/step - loss: 0.1318 - accuracy: 0.9488 - val_loss: 0.2594 - val_accuracy: 0.9264\n",
      "Epoch 117/128\n",
      "493/493 [==============================] - 1s 1ms/step - loss: 0.1264 - accuracy: 0.9505 - val_loss: 0.2607 - val_accuracy: 0.9252\n",
      "Epoch 118/128\n",
      "493/493 [==============================] - 1s 1ms/step - loss: 0.1353 - accuracy: 0.9507 - val_loss: 0.2570 - val_accuracy: 0.9207\n",
      "Epoch 119/128\n",
      "493/493 [==============================] - 1s 1ms/step - loss: 0.1330 - accuracy: 0.9487 - val_loss: 0.2644 - val_accuracy: 0.9264\n",
      "Epoch 120/128\n",
      "493/493 [==============================] - 1s 1ms/step - loss: 0.1373 - accuracy: 0.9485 - val_loss: 0.2708 - val_accuracy: 0.9207\n",
      "Epoch 121/128\n",
      "493/493 [==============================] - 1s 1ms/step - loss: 0.1318 - accuracy: 0.9495 - val_loss: 0.2473 - val_accuracy: 0.9247\n",
      "Epoch 122/128\n",
      "493/493 [==============================] - 1s 1ms/step - loss: 0.1319 - accuracy: 0.9505 - val_loss: 0.2701 - val_accuracy: 0.9207\n",
      "Epoch 123/128\n",
      "493/493 [==============================] - 1s 1ms/step - loss: 0.1338 - accuracy: 0.9476 - val_loss: 0.2593 - val_accuracy: 0.9218\n",
      "Epoch 124/128\n",
      "493/493 [==============================] - 1s 1ms/step - loss: 0.1294 - accuracy: 0.9512 - val_loss: 0.2568 - val_accuracy: 0.9224\n",
      "Epoch 125/128\n",
      "493/493 [==============================] - 1s 1ms/step - loss: 0.1335 - accuracy: 0.9477 - val_loss: 0.2668 - val_accuracy: 0.9207\n",
      "Epoch 126/128\n",
      "493/493 [==============================] - 1s 1ms/step - loss: 0.1280 - accuracy: 0.9521 - val_loss: 0.2800 - val_accuracy: 0.9212\n",
      "Epoch 127/128\n",
      "493/493 [==============================] - 1s 1ms/step - loss: 0.1333 - accuracy: 0.9505 - val_loss: 0.2640 - val_accuracy: 0.9218\n",
      "Epoch 128/128\n",
      "493/493 [==============================] - 1s 1ms/step - loss: 0.1308 - accuracy: 0.9521 - val_loss: 0.2686 - val_accuracy: 0.9167\n"
     ]
    }
   ],
   "source": [
    "r2 = model.fit(X_train, y_train, validation_data=(X_test,y_test), epochs=128)"
   ]
  },
  {
   "cell_type": "markdown",
   "metadata": {
    "id": "cdbGFMKmrPsU"
   },
   "source": [
    "Plot the losses:"
   ]
  },
  {
   "cell_type": "code",
   "execution_count": 44,
   "metadata": {
    "colab": {
     "base_uri": "https://localhost:8080/",
     "height": 281
    },
    "id": "eFCAh_9Srkc9",
    "outputId": "2b1d48ad-5d05-445f-be6e-53c6c69e5da3"
   },
   "outputs": [
    {
     "data": {
      "text/plain": [
       "<matplotlib.legend.Legend at 0x19251cf7c70>"
      ]
     },
     "execution_count": 44,
     "metadata": {},
     "output_type": "execute_result"
    },
    {
     "data": {
      "image/png": "[encoded data removed]",
      "text/plain": [
       "<Figure size 432x288 with 1 Axes>"
      ]
     },
     "metadata": {
      "needs_background": "light"
     },
     "output_type": "display_data"
    }
   ],
   "source": [
    "plt.plot(r2.history['loss'], label='loss')\n",
    "plt.plot(r2.history['val_loss'], label='val_loss')\n",
    "plt.legend()"
   ]
  },
  {
   "cell_type": "markdown",
   "metadata": {
    "id": "--olrolUrRdx"
   },
   "source": [
    "Plot the accuracies:"
   ]
  },
  {
   "cell_type": "code",
   "execution_count": 45,
   "metadata": {
    "colab": {
     "base_uri": "https://localhost:8080/",
     "height": 281
    },
    "id": "LL2qwSSvrmWy",
    "outputId": "c2d1311e-7c43-4832-de14-f4b2e280520d"
   },
   "outputs": [
    {
     "data": {
      "text/plain": [
       "<matplotlib.legend.Legend at 0x1925311ae20>"
      ]
     },
     "execution_count": 45,
     "metadata": {},
     "output_type": "execute_result"
    },
    {
     "data": {
      "image/png": "[encoded data removed]",
      "text/plain": [
       "<Figure size 432x288 with 1 Axes>"
      ]
     },
     "metadata": {
      "needs_background": "light"
     },
     "output_type": "display_data"
    }
   ],
   "source": [
    "plt.plot(r2.history['accuracy'], label='acc')\n",
    "plt.plot(r2.history['val_accuracy'], label='val_acc')\n",
    "plt.legend()"
   ]
  },
  {
   "cell_type": "code",
   "execution_count": 46,
   "metadata": {
    "colab": {
     "base_uri": "https://localhost:8080/"
    },
    "id": "uzNf6IUxro9G",
    "outputId": "68d8f4a1-10dd-4ab8-e5cc-23761d184b0d"
   },
   "outputs": [
    {
     "name": "stdout",
     "output_type": "stream",
     "text": [
      "55/55 [==============================] - 0s 724us/step - loss: 0.2686 - accuracy: 0.9167\n",
      "[0.268596887588501, 0.9166666865348816]\n"
     ]
    }
   ],
   "source": [
    "print(model.evaluate(X_test, y_test))"
   ]
  },
  {
   "cell_type": "code",
   "execution_count": 50,
   "metadata": {},
   "outputs": [
    {
     "name": "stdout",
     "output_type": "stream",
     "text": [
      "[[801  82]\n",
      " [ 91 778]]\n"
     ]
    }
   ],
   "source": [
    "from sklearn.metrics import confusion_matrix\n",
    "y_pred = model.predict(X_test)\n",
    "y_pred[y_pred <= 0.5] = 0.\n",
    "y_pred[y_pred > 0.5] = 1.\n",
    "print(confusion_matrix(y_test, y_pred)) "
   ]
  },
  {
   "cell_type": "code",
   "execution_count": 68,
   "metadata": {},
   "outputs": [],
   "source": [
    "model.save_weights('../weights/best25_features/')\n"
   ]
  },
  {
   "cell_type": "markdown",
   "metadata": {
    "id": "oEjqnSkkKwkP"
   },
   "source": [
    "**Applying this dataset on different models to create benchmarks to compare with Fully Connected model:**"
   ]
  },
  {
   "cell_type": "markdown",
   "metadata": {
    "id": "Up6ggCZ6K7_h"
   },
   "source": [
    "*Logistic Regression* **(linear classifier):**"
   ]
  },
  {
   "cell_type": "code",
   "execution_count": 47,
   "metadata": {
    "colab": {
     "base_uri": "https://localhost:8080/"
    },
    "id": "LbK0ykIJLls0",
    "outputId": "7bbf0310-2368-45e4-d576-e39c9f440b6d"
   },
   "outputs": [
    {
     "name": "stdout",
     "output_type": "stream",
     "text": [
      "0.8738424457693771\n",
      "0.8721461187214612\n"
     ]
    }
   ],
   "source": [
    "from sklearn.linear_model import LogisticRegression\n",
    "model =LogisticRegression()\n",
    "model.fit(X_train, y_train)\n",
    "print(model.score(X_train, y_train))\n",
    "print(model.score(X_test,y_test))\n",
    "\n"
   ]
  },
  {
   "cell_type": "code",
   "execution_count": 48,
   "metadata": {
    "colab": {
     "base_uri": "https://localhost:8080/"
    },
    "id": "cLvXlm3Eis1R",
    "outputId": "b1cbb427-a4bd-4d82-abb2-dc382eb439d8"
   },
   "outputs": [
    {
     "name": "stdout",
     "output_type": "stream",
     "text": [
      "weight for the feature 0 : 0.21733941070314228\n",
      "weight for the feature 1 : -0.004160888682481486\n",
      "weight for the feature 2 : -0.08116337395550444\n",
      "weight for the feature 3 : 0.01907570225224065\n",
      "weight for the feature 4 : 0.0034820541766670695\n",
      "weight for the feature 5 : -0.02323698214483446\n",
      "weight for the feature 6 : 0.016011097201585927\n",
      "weight for the feature 7 : -0.004769038853859348\n",
      "weight for the feature 8 : 0.0012275948063656876\n",
      "weight for the feature 9 : -0.05036278849747555\n",
      "weight for the feature 10 : 0.05036278849747555\n",
      "weight for the feature 11 : 0.0638641774332631\n",
      "weight for the feature 12 : 0.03639477146130328\n",
      "weight for the feature 13 : -0.04780659553618885\n",
      "weight for the feature 14 : 0.05430853392070615\n",
      "weight for the feature 15 : -0.04799029974057749\n",
      "weight for the feature 16 : -0.04953864647228976\n",
      "weight for the feature 17 : -3.4085412657068153\n",
      "weight for the feature 18 : 0.042449639640983666\n",
      "weight for the feature 19 : -0.11700568477510156\n",
      "weight for the feature 20 : 0.12489715373842256\n",
      "weight for the feature 21 : -0.4008939073777306\n",
      "weight for the feature 22 : 0.0817779815337891\n",
      "weight for the feature 23 : -0.2782942751408406\n",
      "weight for the feature 24 : 0.12383283036930877\n",
      "weight for the feature 25 : 0.1618706777264803\n",
      "sorted list, positive weights contribute MORE TO DETERMINE potential hypertension case and negative features conribute more to make prediction as NOT hypertension. So we can say 0 valued weights do not contribute to anything: [-3.40854127e+00 -4.00893907e-01 -2.78294275e-01 -1.17005685e-01\n",
      " -8.11633740e-02 -5.03627885e-02 -4.95386465e-02 -4.79902997e-02\n",
      " -4.78065955e-02 -2.32369821e-02 -4.76903885e-03 -4.16088868e-03\n",
      "  1.22759481e-03  3.48205418e-03  1.60110972e-02  1.90757023e-02\n",
      "  3.63947715e-02  4.24496396e-02  5.03627885e-02  5.43085339e-02\n",
      "  6.38641774e-02  8.17779815e-02  1.23832830e-01  1.24897154e-01\n",
      "  1.61870678e-01  2.17339411e-01]\n"
     ]
    }
   ],
   "source": [
    "for i in range(X_train[0].shape[0]):\n",
    " print(\"weight for the feature\",i,\":\",model.coef_[0][i])\n",
    "\n",
    "model.coef_[0].sort()\n",
    "\n",
    "print(\"sorted list, positive weights contribute MORE TO DETERMINE potential hypertension case and negative features conribute more to make prediction as NOT hypertension. So we can say 0 valued weights do not contribute to anything:\",model.coef_[0])"
   ]
  },
  {
   "cell_type": "markdown",
   "metadata": {
    "id": "F2cS87lMLDDT"
   },
   "source": [
    "*Decision Tree*  "
   ]
  },
  {
   "cell_type": "code",
   "execution_count": 49,
   "metadata": {
    "colab": {
     "base_uri": "https://localhost:8080/"
    },
    "id": "BLXjjRAFLmGd",
    "outputId": "383a288e-c694-4d7b-c7fc-dbfb311ce006"
   },
   "outputs": [
    {
     "name": "stdout",
     "output_type": "stream",
     "text": [
      "1.0\n",
      "0.901255707762557\n"
     ]
    }
   ],
   "source": [
    "from sklearn.tree import DecisionTreeClassifier\n",
    "model =DecisionTreeClassifier()\n",
    "model.fit(X_train, y_train)\n",
    "print(model.score(X_train, y_train))\n",
    "print(model.score(X_test,y_test))"
   ]
  },
  {
   "cell_type": "markdown",
   "metadata": {
    "id": "KUe9EcWyLFhl"
   },
   "source": [
    "*AdaBoost*"
   ]
  },
  {
   "cell_type": "code",
   "execution_count": 147,
   "metadata": {
    "colab": {
     "base_uri": "https://localhost:8080/"
    },
    "id": "PEk2Fd8eLmhY",
    "outputId": "6e6071e3-e2ec-4315-ffa5-1f741b628138"
   },
   "outputs": [
    {
     "name": "stdout",
     "output_type": "stream",
     "text": [
      "0.986135322495642\n",
      "0.9850419554906968\n"
     ]
    }
   ],
   "source": [
    "from sklearn.ensemble import AdaBoostClassifier\n",
    "model =AdaBoostClassifier()\n",
    "model.fit(X_train, y_train)\n",
    "print(model.score(X_train, y_train))\n",
    "print(model.score(X_test,y_test))"
   ]
  },
  {
   "cell_type": "code",
   "execution_count": 148,
   "metadata": {},
   "outputs": [
    {
     "name": "stdout",
     "output_type": "stream",
     "text": [
      "test: {0: 2697, 1: 44}\n",
      "train: {0: 24302, 1: 365}\n"
     ]
    }
   ],
   "source": [
    "unique, counts = np.unique(y_test, return_counts=True)\n",
    "print(\"test:\",dict(zip(unique, counts)))\n",
    "\n",
    "\n",
    "unique, counts = np.unique(y_train, return_counts=True)\n",
    "print(\"train:\",dict(zip(unique, counts)))"
   ]
  },
  {
   "cell_type": "code",
   "execution_count": 151,
   "metadata": {},
   "outputs": [
    {
     "data": {
      "image/png": "[encoded data removed]",
      "text/plain": [
       "<Figure size 432x288 with 1 Axes>"
      ]
     },
     "metadata": {
      "needs_background": "light"
     },
     "output_type": "display_data"
    }
   ],
   "source": [
    "# Visualize the data (tsne is great but slow.)\n",
    "\n",
    "from sklearn.manifold import TSNE\n",
    "tsne = TSNE(n_components=2)\n",
    "transformed = tsne.fit_transform(X_train)\n",
    "\n",
    "#visualize in the 2d\n",
    "plt.scatter(transformed[:,0], transformed[:,1], c=y_train, s=10) #take first two columns in order to get 2d plot.\n",
    "plt.show()"
   ]
  },
  {
   "cell_type": "code",
   "execution_count": 152,
   "metadata": {},
   "outputs": [
    {
     "data": {
      "image/png": "[encoded data removed]",
      "text/plain": [
       "<Figure size 432x288 with 1 Axes>"
      ]
     },
     "metadata": {
      "needs_background": "light"
     },
     "output_type": "display_data"
    }
   ],
   "source": [
    "transformed = tsne.fit_transform(X_test)\n",
    "\n",
    "# visualize the clouds in 2-D\n",
    "plt.scatter(transformed[:,0], transformed[:,1], c=y_test, s=10) #take first two columns in order to get 2d plot.\n",
    "plt.show()"
   ]
  }
 ],
 "metadata": {
  "colab": {
   "collapsed_sections": [],
   "machine_shape": "hm",
   "name": "fraud_detection_model.ipynb",
   "provenance": []
  },
  "kernelspec": {
   "display_name": "Python 3",
   "language": "python",
   "name": "python3"
  },
  "language_info": {
   "codemirror_mode": {
    "name": "ipython",
    "version": 3
   },
   "file_extension": ".py",
   "mimetype": "text/x-python",
   "name": "python",
   "nbconvert_exporter": "python",
   "pygments_lexer": "ipython3",
   "version": "3.8.5"
  }
 },
 "nbformat": 4,
 "nbformat_minor": 1
}
