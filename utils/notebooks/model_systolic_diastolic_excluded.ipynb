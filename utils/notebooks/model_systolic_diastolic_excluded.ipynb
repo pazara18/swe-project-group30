{
 "cells": [
  {
   "cell_type": "code",
   "execution_count": 1,
   "metadata": {},
   "outputs": [],
   "source": [
    "import tensorflow\n",
    "import pandas as pd\n",
    "import numpy as np\n",
    "from sklearn.preprocessing import OneHotEncoder\n",
    "import matplotlib.pyplot as plt\n",
    "from sklearn.model_selection import train_test_split"
   ]
  },
  {
   "cell_type": "code",
   "execution_count": 2,
   "metadata": {},
   "outputs": [],
   "source": [
    "\n",
    "\n",
    "health_data =  pd.read_csv('../merged_final_data_clean.csv')"
   ]
  },
  {
   "cell_type": "code",
   "execution_count": 3,
   "metadata": {
    "colab": {
     "base_uri": "https://localhost:8080/"
    },
    "id": "ZlGgwLy3Ue53",
    "outputId": "c8445da5-b78c-41cb-a139-55849a01bba9"
   },
   "outputs": [
    {
     "name": "stdout",
     "output_type": "stream",
     "text": [
      "Index(['TIME', 'PATIENT', 'Age', 'Gender', 'Race', 'Triglycerides',\n",
      "       'How many family members  including yourself  do you currently live with?',\n",
      "       'Hemoglobin [Mass/volume] in Blood', 'Body Mass Index',\n",
      "       'Low Density Lipoprotein Cholesterol', 'Calcium', 'Are you a refugee?',\n",
      "       'In the past year  have you or any family members you live with been unable to get any of the following when it was really needed?',\n",
      "       'Total Cholesterol',\n",
      "       'Stress is when someone feels tense  nervous  anxious or can't sleep at night because their mind is troubled. How stressed are you?',\n",
      "       'High Density Lipoprotein Cholesterol', 'Carbon Dioxide',\n",
      "       'Are you worried about losing your housing?',\n",
      "       'Platelets [#/volume] in Blood by Automated count', 'Body Height',\n",
      "       'How often do you see or talk to people that you care about and feel close to (For example: talking to friends on the phone  visiting friends or family  going to church or club meetings)?',\n",
      "       'Chloride', 'What is your main insurance?',\n",
      "       'During the past year  what was the total combined income for you and the family members you live with? This information will help us determine if you are eligible for any benefits.',\n",
      "       'In the past year  have you spent more than 2 nights in a row in a jail  prison  detention center  or juvenile correctional facility?',\n",
      "       'What is your current work situation?', 'Sodium',\n",
      "       'Are you Hispanic or Latino?', 'Urea Nitrogen', 'Potassium',\n",
      "       'MCH [Entitic mass] by Automated count',\n",
      "       'Do you feel physically and emotionally safe where you currently live?',\n",
      "       'Creatinine',\n",
      "       'What is the highest level of school that you have finished?',\n",
      "       'Which race(s) are you?',\n",
      "       'In the past year  have you been afraid of your partner or ex-partner?',\n",
      "       'Has lack of transportation kept you from medical appointments  meetings  work  or from getting things needed for daily living?',\n",
      "       'MCHC [Mass/volume] by Automated count',\n",
      "       'MCV [Entitic volume] by Automated count', 'Glucose',\n",
      "       'What is your housing situation today?',\n",
      "       'Pain severity - 0-10 verbal numeric rating [Score] - Reported',\n",
      "       'Respiratory rate', 'Tobacco smoking status NHIS', 'Body Weight',\n",
      "       'At any point in the past 2 years  has season or migrant farm work been your or your family's main source of income?',\n",
      "       'Have you been discharged from the armed forces of the United States?',\n",
      "       'Heart rate', 'Systolic Blood Pressure', 'Diastolic Blood Pressure',\n",
      "       'Hypertension'],\n",
      "      dtype='object')\n"
     ]
    }
   ],
   "source": [
    "print(health_data.columns)"
   ]
  },
  {
   "cell_type": "code",
   "execution_count": 4,
   "metadata": {},
   "outputs": [],
   "source": [
    "columns_to_encode = ['Tobacco smoking status NHIS',  \n",
    "                    \"Stress is when someone feels tense  nervous  anxious or can't sleep at night because their mind is troubled. How stressed are you?\", \n",
    "                     \"Are you a refugee?\", \n",
    "                     \"In the past year  have you or any family members you live with been unable to get any of the following when it was really needed?\",\n",
    "                     \"Are you worried about losing your housing?\",\n",
    "                     \"What is your main insurance?\",\n",
    "                     \"In the past year  have you spent more than 2 nights in a row in a jail  prison  detention center  or juvenile correctional facility?\",\n",
    "                     \"What is your current work situation?\",\n",
    "                     \"Are you Hispanic or Latino?\",\n",
    "                     \"Do you feel physically and emotionally safe where you currently live?\",\n",
    "                     \"What is the highest level of school that you have finished?\",\n",
    "                     \"Which race(s) are you?\",\n",
    "                     \"In the past year  have you been afraid of your partner or ex-partner?\",\n",
    "                     \"Has lack of transportation kept you from medical appointments  meetings  work  or from getting things needed for daily living?\",\n",
    "                     \"What is your housing situation today?\",\n",
    "                     \"Tobacco smoking status NHIS\",\n",
    "                     \"At any point in the past 2 years  has season or migrant farm work been your or your family's main source of income?\",\n",
    "                     \"Have you been discharged from the armed forces of the United States?\",\n",
    "                    \"Gender\", \n",
    "                     \"Race\",\n",
    "                    \"How often do you see or talk to people that you care about and feel close to (For example: talking to friends on the phone  visiting friends or family  going to church or club meetings)?\"]\n",
    "\n",
    "OHE    = OneHotEncoder(sparse=False)\n",
    "encoded_columns =    OHE.fit_transform(health_data[columns_to_encode])\n",
    "                     \n",
    "                     "
   ]
  },
  {
   "cell_type": "code",
   "execution_count": 5,
   "metadata": {},
   "outputs": [
    {
     "name": "stdout",
     "output_type": "stream",
     "text": [
      "(3585, 80)\n"
     ]
    }
   ],
   "source": [
    "print(encoded_columns.shape)"
   ]
  },
  {
   "cell_type": "code",
   "execution_count": 6,
   "metadata": {},
   "outputs": [],
   "source": [
    "only_scalar = health_data.drop(columns_to_encode, axis=1).values\n"
   ]
  },
  {
   "cell_type": "code",
   "execution_count": 7,
   "metadata": {},
   "outputs": [
    {
     "name": "stdout",
     "output_type": "stream",
     "text": [
      "[['2008-09-26' '0003a94b-ff6d-f3e0-6ae6-79e07c897c7a' 59 ... 107.0 70.0 0]\n",
      " ['2021-07-04' '0014944d-3b3c-b330-0908-cdb7baff589c' 36 ... 127.0 81.0 0]\n",
      " ['2021-08-25' '001f6494-0eb7-d400-743b-c9227ddd0e7a' 57 ... 122.0 85.0 0]\n",
      " ...\n",
      " ['2013-07-19' 'fb04ca3b-b31e-2328-9d88-d4871e896f43' 35 ... 132.0 86.0 1]\n",
      " ['2014-07-01' 'fb13fe03-4236-d153-48ca-11e1021ad534' 32 ... 102.0 75.0 1]\n",
      " ['2013-09-24' 'fbe243fa-bb90-68d2-f77f-af9af6a32336' 50 ... 120.0 79.0 1]]\n"
     ]
    }
   ],
   "source": [
    "print(only_scalar)"
   ]
  },
  {
   "cell_type": "code",
   "execution_count": 27,
   "metadata": {},
   "outputs": [
    {
     "name": "stdout",
     "output_type": "stream",
     "text": [
      "[[59 127.7 6.0 ... 92.5 63.0 0]\n",
      " [36 128.6 4.0 ... 89.8 86.0 0]\n",
      " [57 103.1 2.0 ... 82.4 80.0 0]\n",
      " ...\n",
      " [35 153.7 6.0 ... 82.5 79.0 1]\n",
      " [32 136.9 1.0 ... 69.5 80.0 1]\n",
      " [50 124.7 8.0 ... 92.7 97.0 1]]\n"
     ]
    }
   ],
   "source": [
    "only_scalar_filtered =only_scalar[:,2:-3] #filter time and patient AND DIASTALIC AND SYSTOLIC\n",
    "labels =only_scalar[:,-1]\n",
    "labels = np.expand_dims(labels, axis=-1)\n",
    "\n",
    "only_scalar_filtered = np.concatenate([only_scalar_filtered, labels], axis=1)\n",
    "\n",
    "print(only_scalar_filtered)"
   ]
  },
  {
   "cell_type": "code",
   "execution_count": 28,
   "metadata": {},
   "outputs": [],
   "source": [
    "processed_data = np.concatenate([only_scalar_filtered, encoded_columns], axis=1)"
   ]
  },
  {
   "cell_type": "code",
   "execution_count": 29,
   "metadata": {},
   "outputs": [
    {
     "name": "stdout",
     "output_type": "stream",
     "text": [
      "(3585, 107)\n"
     ]
    }
   ],
   "source": [
    "print(processed_data.shape)"
   ]
  },
  {
   "cell_type": "markdown",
   "metadata": {
    "id": "kDSzK674s-4k"
   },
   "source": [
    "Shuffle the dataset."
   ]
  },
  {
   "cell_type": "code",
   "execution_count": 30,
   "metadata": {
    "id": "dZiwd2-oVirj"
   },
   "outputs": [],
   "source": [
    "from sklearn.utils import shuffle\n",
    "\n",
    "processed_data = shuffle(processed_data)"
   ]
  },
  {
   "cell_type": "code",
   "execution_count": 31,
   "metadata": {},
   "outputs": [],
   "source": [
    "X = processed_data[:,:-1].astype(float)\n",
    "y = processed_data[:,-1].astype(int)"
   ]
  },
  {
   "cell_type": "markdown",
   "metadata": {
    "id": "QsoPOklKlxMl"
   },
   "source": [
    "Split the data into train and test set. 18% of it preserved for test set, and remaining 72% for train set."
   ]
  },
  {
   "cell_type": "code",
   "execution_count": 32,
   "metadata": {
    "id": "UloEuNuXXe8-"
   },
   "outputs": [],
   "source": [
    " X_train, X_test, y_train, y_test = train_test_split(X, y, test_size=0.1)"
   ]
  },
  {
   "cell_type": "code",
   "execution_count": 34,
   "metadata": {},
   "outputs": [
    {
     "data": {
      "text/plain": [
       "106"
      ]
     },
     "execution_count": 34,
     "metadata": {},
     "output_type": "execute_result"
    }
   ],
   "source": [
    "X_train[0].shape[0]"
   ]
  },
  {
   "cell_type": "code",
   "execution_count": 36,
   "metadata": {},
   "outputs": [
    {
     "name": "stdout",
     "output_type": "stream",
     "text": [
      "float64\n"
     ]
    }
   ],
   "source": [
    "print(X_train.dtype)"
   ]
  },
  {
   "cell_type": "code",
   "execution_count": 38,
   "metadata": {},
   "outputs": [
    {
     "name": "stdout",
     "output_type": "stream",
     "text": [
      "[0 0 0 ... 1 1 0]\n"
     ]
    }
   ],
   "source": [
    "print(y_train)"
   ]
  },
  {
   "cell_type": "markdown",
   "metadata": {
    "id": "wDi9jfnRqUgJ"
   },
   "source": [
    "Fully connected neural network model with 3 hidden layers:"
   ]
  },
  {
   "cell_type": "code",
   "execution_count": 55,
   "metadata": {
    "id": "bVz5-8xuqEsy"
   },
   "outputs": [],
   "source": [
    "import tensorflow as tf \n",
    "\n",
    "model = tf.keras.models.Sequential([\n",
    "  tf.keras.Input(shape=(X_train[0].shape[0],)), #Xtrain[0].shape[0] = 104\n",
    "  tf.keras.layers.Dense(15, activation='relu'), #represents 1st hidden layer \n",
    "  tf.keras.layers.Dropout(0.2), # dropout regularization with dropout probability 20% percent\n",
    "  tf.keras.layers.Dense(7, activation='relu'), #represents the 2nd hidden layer \n",
    "  tf.keras.layers.Dropout(0.2), # dropout regularization with dropout probability 20% percent\n",
    "  tf.keras.layers.Dense(4, activation='relu'), #represents the 3rd hidden layer \n",
    "  tf.keras.layers.Dropout(0.2), # dropout regularization with dropout probability 20% percent\n",
    "  tf.keras.layers.Dense(1, activation='sigmoid') # sigmoid activation at output since it is binary classification\n",
    "])"
   ]
  },
  {
   "cell_type": "code",
   "execution_count": 56,
   "metadata": {
    "id": "5FNnHp_QrGCv"
   },
   "outputs": [],
   "source": [
    "model.compile(optimizer='adam', \n",
    "              loss='binary_crossentropy',\n",
    "              metrics=['accuracy'])"
   ]
  },
  {
   "cell_type": "markdown",
   "metadata": {
    "id": "aS2gk-MarTGl"
   },
   "source": [
    "Train the model with 10 epochs:"
   ]
  },
  {
   "cell_type": "code",
   "execution_count": 57,
   "metadata": {
    "colab": {
     "base_uri": "https://localhost:8080/"
    },
    "id": "HxyIThDGP_gj",
    "outputId": "360b23ea-a569-412d-a2da-90a2a7eec26a"
   },
   "outputs": [
    {
     "name": "stdout",
     "output_type": "stream",
     "text": [
      "Epoch 1/150\n",
      "101/101 [==============================] - 1s 890us/step - loss: 19911.3032 - accuracy: 0.1746\n",
      "Epoch 2/150\n",
      "101/101 [==============================] - 0s 910us/step - loss: 2116.1180 - accuracy: 0.5821\n",
      "Epoch 3/150\n",
      "101/101 [==============================] - 0s 1ms/step - loss: 746.0180 - accuracy: 0.7824\n",
      "Epoch 4/150\n",
      "101/101 [==============================] - 0s 840us/step - loss: 475.4041 - accuracy: 0.8253\n",
      "Epoch 5/150\n",
      "101/101 [==============================] - 0s 820us/step - loss: 300.5241 - accuracy: 0.8459\n",
      "Epoch 6/150\n",
      "101/101 [==============================] - 0s 980us/step - loss: 245.9800 - accuracy: 0.8524\n",
      "Epoch 7/150\n",
      "101/101 [==============================] - 0s 930us/step - loss: 189.8506 - accuracy: 0.8586\n",
      "Epoch 8/150\n",
      "101/101 [==============================] - 0s 1ms/step - loss: 187.2163 - accuracy: 0.8644\n",
      "Epoch 9/150\n",
      "101/101 [==============================] - 0s 1ms/step - loss: 165.6396 - accuracy: 0.8763\n",
      "Epoch 10/150\n",
      "101/101 [==============================] - 0s 920us/step - loss: 114.0695 - accuracy: 0.8685\n",
      "Epoch 11/150\n",
      "101/101 [==============================] - 0s 810us/step - loss: 78.3891 - accuracy: 0.8880\n",
      "Epoch 12/150\n",
      "101/101 [==============================] - 0s 1ms/step - loss: 125.8271 - accuracy: 0.8882\n",
      "Epoch 13/150\n",
      "101/101 [==============================] - 0s 1ms/step - loss: 48.8158 - accuracy: 0.8974\n",
      "Epoch 14/150\n",
      "101/101 [==============================] - 0s 960us/step - loss: 40.6934 - accuracy: 0.8896\n",
      "Epoch 15/150\n",
      "101/101 [==============================] - 0s 820us/step - loss: 27.7659 - accuracy: 0.9068\n",
      "Epoch 16/150\n",
      "101/101 [==============================] - 0s 900us/step - loss: 25.6768 - accuracy: 0.9105\n",
      "Epoch 17/150\n",
      "101/101 [==============================] - 0s 900us/step - loss: 11.0367 - accuracy: 0.8995\n",
      "Epoch 18/150\n",
      "101/101 [==============================] - 0s 860us/step - loss: 25.0794 - accuracy: 0.8922\n",
      "Epoch 19/150\n",
      "101/101 [==============================] - 0s 1ms/step - loss: 9.4671 - accuracy: 0.8918\n",
      "Epoch 20/150\n",
      "101/101 [==============================] - 0s 1ms/step - loss: 34.1138 - accuracy: 0.8951\n",
      "Epoch 21/150\n",
      "101/101 [==============================] - 0s 930us/step - loss: 5.0534 - accuracy: 0.9008\n",
      "Epoch 22/150\n",
      "101/101 [==============================] - 0s 1ms/step - loss: 18.4071 - accuracy: 0.9067\n",
      "Epoch 23/150\n",
      "101/101 [==============================] - 0s 1ms/step - loss: 16.0309 - accuracy: 0.9000\n",
      "Epoch 24/150\n",
      "101/101 [==============================] - 0s 800us/step - loss: 8.3116 - accuracy: 0.9076\n",
      "Epoch 25/150\n",
      "101/101 [==============================] - 0s 850us/step - loss: 10.1432 - accuracy: 0.8958\n",
      "Epoch 26/150\n",
      "101/101 [==============================] - 0s 890us/step - loss: 4.1885 - accuracy: 0.9025\n",
      "Epoch 27/150\n",
      "101/101 [==============================] - 0s 1ms/step - loss: 6.2364 - accuracy: 0.8957\n",
      "Epoch 28/150\n",
      "101/101 [==============================] - 0s 1ms/step - loss: 13.1103 - accuracy: 0.8980\n",
      "Epoch 29/150\n",
      "101/101 [==============================] - 0s 1ms/step - loss: 2.8764 - accuracy: 0.8991\n",
      "Epoch 30/150\n",
      "101/101 [==============================] - 0s 890us/step - loss: 1.7793 - accuracy: 0.8988\n",
      "Epoch 31/150\n",
      "101/101 [==============================] - 0s 840us/step - loss: 8.4417 - accuracy: 0.9065\n",
      "Epoch 32/150\n",
      "101/101 [==============================] - 0s 862us/step - loss: 1.6678 - accuracy: 0.8989\n",
      "Epoch 33/150\n",
      "101/101 [==============================] - 0s 892us/step - loss: 11.1183 - accuracy: 0.9081\n",
      "Epoch 34/150\n",
      "101/101 [==============================] - 0s 920us/step - loss: 2.7659 - accuracy: 0.9079\n",
      "Epoch 35/150\n",
      "101/101 [==============================] - 0s 870us/step - loss: 1.7459 - accuracy: 0.8947\n",
      "Epoch 36/150\n",
      "101/101 [==============================] - 0s 980us/step - loss: 2.1749 - accuracy: 0.9038\n",
      "Epoch 37/150\n",
      "101/101 [==============================] - 0s 910us/step - loss: 0.9141 - accuracy: 0.9050\n",
      "Epoch 38/150\n",
      "101/101 [==============================] - 0s 950us/step - loss: 0.8463 - accuracy: 0.9001\n",
      "Epoch 39/150\n",
      "101/101 [==============================] - 0s 1ms/step - loss: 0.7527 - accuracy: 0.9085\n",
      "Epoch 40/150\n",
      "101/101 [==============================] - 0s 930us/step - loss: 0.7418 - accuracy: 0.8943\n",
      "Epoch 41/150\n",
      "101/101 [==============================] - 0s 870us/step - loss: 1.0798 - accuracy: 0.8869\n",
      "Epoch 42/150\n",
      "101/101 [==============================] - 0s 860us/step - loss: 0.9242 - accuracy: 0.8961\n",
      "Epoch 43/150\n",
      "101/101 [==============================] - 0s 860us/step - loss: 0.6487 - accuracy: 0.9081\n",
      "Epoch 44/150\n",
      "101/101 [==============================] - 0s 1ms/step - loss: 0.4456 - accuracy: 0.9126\n",
      "Epoch 45/150\n",
      "101/101 [==============================] - 0s 1ms/step - loss: 0.4780 - accuracy: 0.9088\n",
      "Epoch 46/150\n",
      "101/101 [==============================] - 0s 1ms/step - loss: 0.3828 - accuracy: 0.9086\n",
      "Epoch 47/150\n",
      "101/101 [==============================] - 0s 1ms/step - loss: 0.5532 - accuracy: 0.9057\n",
      "Epoch 48/150\n",
      "101/101 [==============================] - 0s 1ms/step - loss: 0.5040 - accuracy: 0.8893\n",
      "Epoch 49/150\n",
      "101/101 [==============================] - 0s 850us/step - loss: 0.7058 - accuracy: 0.9053\n",
      "Epoch 50/150\n",
      "101/101 [==============================] - 0s 1ms/step - loss: 0.4160 - accuracy: 0.9033\n",
      "Epoch 51/150\n",
      "101/101 [==============================] - 0s 1ms/step - loss: 0.6692 - accuracy: 0.9064\n",
      "Epoch 52/150\n",
      "101/101 [==============================] - 0s 1000us/step - loss: 0.3601 - accuracy: 0.9043\n",
      "Epoch 53/150\n",
      "101/101 [==============================] - 0s 1ms/step - loss: 0.3575 - accuracy: 0.8982\n",
      "Epoch 54/150\n",
      "101/101 [==============================] - 0s 1ms/step - loss: 0.4057 - accuracy: 0.9150\n",
      "Epoch 55/150\n",
      "101/101 [==============================] - 0s 1ms/step - loss: 0.3703 - accuracy: 0.9051\n",
      "Epoch 56/150\n",
      "101/101 [==============================] - 0s 1ms/step - loss: 0.3309 - accuracy: 0.9037\n",
      "Epoch 57/150\n",
      "101/101 [==============================] - 0s 830us/step - loss: 0.3187 - accuracy: 0.9064\n",
      "Epoch 58/150\n",
      "101/101 [==============================] - 0s 880us/step - loss: 0.3222 - accuracy: 0.9146\n",
      "Epoch 59/150\n",
      "101/101 [==============================] - 0s 1ms/step - loss: 0.3938 - accuracy: 0.9015\n",
      "Epoch 60/150\n",
      "101/101 [==============================] - 0s 940us/step - loss: 0.3365 - accuracy: 0.9083\n",
      "Epoch 61/150\n",
      "101/101 [==============================] - 0s 860us/step - loss: 0.3513 - accuracy: 0.9060\n",
      "Epoch 62/150\n",
      "101/101 [==============================] - 0s 770us/step - loss: 0.3974 - accuracy: 0.9028\n",
      "Epoch 63/150\n",
      "101/101 [==============================] - 0s 780us/step - loss: 0.3805 - accuracy: 0.9017\n",
      "Epoch 64/150\n",
      "101/101 [==============================] - 0s 790us/step - loss: 0.3250 - accuracy: 0.9093\n",
      "Epoch 65/150\n",
      "101/101 [==============================] - 0s 780us/step - loss: 0.3354 - accuracy: 0.9112\n",
      "Epoch 66/150\n",
      "101/101 [==============================] - 0s 844us/step - loss: 0.3406 - accuracy: 0.9170\n",
      "Epoch 67/150\n",
      "101/101 [==============================] - 0s 960us/step - loss: 0.3648 - accuracy: 0.9026\n",
      "Epoch 68/150\n",
      "101/101 [==============================] - 0s 860us/step - loss: 0.3267 - accuracy: 0.9105\n",
      "Epoch 69/150\n",
      "101/101 [==============================] - 0s 870us/step - loss: 0.3502 - accuracy: 0.9076\n",
      "Epoch 70/150\n",
      "101/101 [==============================] - 0s 900us/step - loss: 0.3151 - accuracy: 0.9073\n",
      "Epoch 71/150\n",
      "101/101 [==============================] - 0s 790us/step - loss: 0.3338 - accuracy: 0.9091\n",
      "Epoch 72/150\n",
      "101/101 [==============================] - 0s 798us/step - loss: 0.3229 - accuracy: 0.9136\n",
      "Epoch 73/150\n",
      "101/101 [==============================] - 0s 924us/step - loss: 0.3301 - accuracy: 0.9087\n",
      "Epoch 74/150\n",
      "101/101 [==============================] - 0s 847us/step - loss: 0.2921 - accuracy: 0.9210\n",
      "Epoch 75/150\n",
      "101/101 [==============================] - 0s 818us/step - loss: 0.3127 - accuracy: 0.9142\n",
      "Epoch 76/150\n",
      "101/101 [==============================] - 0s 813us/step - loss: 0.3482 - accuracy: 0.9103\n",
      "Epoch 77/150\n",
      "101/101 [==============================] - 0s 890us/step - loss: 0.3108 - accuracy: 0.9142\n",
      "Epoch 78/150\n",
      "101/101 [==============================] - 0s 850us/step - loss: 0.3204 - accuracy: 0.9044\n",
      "Epoch 79/150\n",
      "101/101 [==============================] - 0s 880us/step - loss: 0.3478 - accuracy: 0.9019\n"
     ]
    },
    {
     "name": "stdout",
     "output_type": "stream",
     "text": [
      "Epoch 80/150\n",
      "101/101 [==============================] - 0s 900us/step - loss: 0.3284 - accuracy: 0.9096\n",
      "Epoch 81/150\n",
      "101/101 [==============================] - 0s 900us/step - loss: 0.3040 - accuracy: 0.9170\n",
      "Epoch 82/150\n",
      "101/101 [==============================] - 0s 853us/step - loss: 0.3064 - accuracy: 0.9140\n",
      "Epoch 83/150\n",
      "101/101 [==============================] - 0s 887us/step - loss: 0.3116 - accuracy: 0.9115\n",
      "Epoch 84/150\n",
      "101/101 [==============================] - 0s 842us/step - loss: 0.3090 - accuracy: 0.9107\n",
      "Epoch 85/150\n",
      "101/101 [==============================] - 0s 803us/step - loss: 0.3085 - accuracy: 0.9124\n",
      "Epoch 86/150\n",
      "101/101 [==============================] - 0s 853us/step - loss: 0.3290 - accuracy: 0.9043\n",
      "Epoch 87/150\n",
      "101/101 [==============================] - 0s 890us/step - loss: 0.3336 - accuracy: 0.8984\n",
      "Epoch 88/150\n",
      "101/101 [==============================] - 0s 883us/step - loss: 0.3132 - accuracy: 0.9071\n",
      "Epoch 89/150\n",
      "101/101 [==============================] - 0s 910us/step - loss: 0.2908 - accuracy: 0.9159\n",
      "Epoch 90/150\n",
      "101/101 [==============================] - 0s 890us/step - loss: 0.3093 - accuracy: 0.9081\n",
      "Epoch 91/150\n",
      "101/101 [==============================] - 0s 890us/step - loss: 0.2974 - accuracy: 0.9132\n",
      "Epoch 92/150\n",
      "101/101 [==============================] - 0s 870us/step - loss: 0.3182 - accuracy: 0.9034\n",
      "Epoch 93/150\n",
      "101/101 [==============================] - 0s 990us/step - loss: 0.3062 - accuracy: 0.9104\n",
      "Epoch 94/150\n",
      "101/101 [==============================] - 0s 1ms/step - loss: 0.3142 - accuracy: 0.9057\n",
      "Epoch 95/150\n",
      "101/101 [==============================] - 0s 862us/step - loss: 0.3261 - accuracy: 0.8997\n",
      "Epoch 96/150\n",
      "101/101 [==============================] - 0s 850us/step - loss: 0.2961 - accuracy: 0.9133\n",
      "Epoch 97/150\n",
      "101/101 [==============================] - 0s 850us/step - loss: 0.3374 - accuracy: 0.8950\n",
      "Epoch 98/150\n",
      "101/101 [==============================] - 0s 816us/step - loss: 0.2850 - accuracy: 0.9196\n",
      "Epoch 99/150\n",
      "101/101 [==============================] - 0s 903us/step - loss: 0.2917 - accuracy: 0.9148\n",
      "Epoch 100/150\n",
      "101/101 [==============================] - 0s 850us/step - loss: 0.3029 - accuracy: 0.9100\n",
      "Epoch 101/150\n",
      "101/101 [==============================] - 0s 830us/step - loss: 0.2960 - accuracy: 0.9125\n",
      "Epoch 102/150\n",
      "101/101 [==============================] - 0s 910us/step - loss: 0.2957 - accuracy: 0.9130\n",
      "Epoch 103/150\n",
      "101/101 [==============================] - 0s 890us/step - loss: 0.3003 - accuracy: 0.9112\n",
      "Epoch 104/150\n",
      "101/101 [==============================] - 0s 809us/step - loss: 0.2988 - accuracy: 0.9115\n",
      "Epoch 105/150\n",
      "101/101 [==============================] - 0s 831us/step - loss: 0.2946 - accuracy: 0.9137\n",
      "Epoch 106/150\n",
      "101/101 [==============================] - 0s 886us/step - loss: 0.3034 - accuracy: 0.9099\n",
      "Epoch 107/150\n",
      "101/101 [==============================] - 0s 850us/step - loss: 0.3075 - accuracy: 0.9080\n",
      "Epoch 108/150\n",
      "101/101 [==============================] - 0s 950us/step - loss: 0.2846 - accuracy: 0.9179\n",
      "Epoch 109/150\n",
      "101/101 [==============================] - 0s 920us/step - loss: 0.2784 - accuracy: 0.9205\n",
      "Epoch 110/150\n",
      "101/101 [==============================] - 0s 1ms/step - loss: 0.3096 - accuracy: 0.9071\n",
      "Epoch 111/150\n",
      "101/101 [==============================] - 0s 970us/step - loss: 0.2778 - accuracy: 0.9206\n",
      "Epoch 112/150\n",
      "101/101 [==============================] - 0s 1000us/step - loss: 0.2979 - accuracy: 0.9122\n",
      "Epoch 113/150\n",
      "101/101 [==============================] - 0s 960us/step - loss: 0.2995 - accuracy: 0.9113\n",
      "Epoch 114/150\n",
      "101/101 [==============================] - 0s 1ms/step - loss: 0.3063 - accuracy: 0.9086\n",
      "Epoch 115/150\n",
      "101/101 [==============================] - 0s 1ms/step - loss: 0.3055 - accuracy: 0.9088\n",
      "Epoch 116/150\n",
      "101/101 [==============================] - 0s 1ms/step - loss: 0.2904 - accuracy: 0.9154\n",
      "Epoch 117/150\n",
      "101/101 [==============================] - 0s 970us/step - loss: 0.3227 - accuracy: 0.9013\n",
      "Epoch 118/150\n",
      "101/101 [==============================] - 0s 980us/step - loss: 0.3094 - accuracy: 0.9072\n",
      "Epoch 119/150\n",
      "101/101 [==============================] - 0s 1000us/step - loss: 0.3127 - accuracy: 0.9056\n",
      "Epoch 120/150\n",
      "101/101 [==============================] - 0s 1ms/step - loss: 0.3003 - accuracy: 0.9110\n",
      "Epoch 121/150\n",
      "101/101 [==============================] - 0s 970us/step - loss: 0.3020 - accuracy: 0.9103\n",
      "Epoch 122/150\n",
      "101/101 [==============================] - 0s 1ms/step - loss: 0.2956 - accuracy: 0.9129\n",
      "Epoch 123/150\n",
      "101/101 [==============================] - 0s 1ms/step - loss: 0.2996 - accuracy: 0.9115\n",
      "Epoch 124/150\n",
      "101/101 [==============================] - 0s 1ms/step - loss: 0.3046 - accuracy: 0.9093\n",
      "Epoch 125/150\n",
      "101/101 [==============================] - 0s 1ms/step - loss: 0.3028 - accuracy: 0.9099\n",
      "Epoch 126/150\n",
      "101/101 [==============================] - 0s 1ms/step - loss: 0.3058 - accuracy: 0.9088\n",
      "Epoch 127/150\n",
      "101/101 [==============================] - 0s 1000us/step - loss: 0.3156 - accuracy: 0.9044\n",
      "Epoch 128/150\n",
      "101/101 [==============================] - 0s 1ms/step - loss: 0.2826 - accuracy: 0.9186\n",
      "Epoch 129/150\n",
      "101/101 [==============================] - 0s 1ms/step - loss: 0.2891 - accuracy: 0.9158\n",
      "Epoch 130/150\n",
      "101/101 [==============================] - 0s 940us/step - loss: 0.3255 - accuracy: 0.9002\n",
      "Epoch 131/150\n",
      "101/101 [==============================] - 0s 930us/step - loss: 0.3100 - accuracy: 0.9068\n",
      "Epoch 132/150\n",
      "101/101 [==============================] - 0s 970us/step - loss: 0.2977 - accuracy: 0.9121\n",
      "Epoch 133/150\n",
      "101/101 [==============================] - 0s 1ms/step - loss: 0.3158 - accuracy: 0.9043\n",
      "Epoch 134/150\n",
      "101/101 [==============================] - 0s 920us/step - loss: 0.2898 - accuracy: 0.9155\n",
      "Epoch 135/150\n",
      "101/101 [==============================] - 0s 890us/step - loss: 0.3124 - accuracy: 0.9058\n",
      "Epoch 136/150\n",
      "101/101 [==============================] - 0s 910us/step - loss: 0.2840 - accuracy: 0.9180\n",
      "Epoch 137/150\n",
      "101/101 [==============================] - 0s 970us/step - loss: 0.2925 - accuracy: 0.9143\n",
      "Epoch 138/150\n",
      "101/101 [==============================] - 0s 1ms/step - loss: 0.3063 - accuracy: 0.9084\n",
      "Epoch 139/150\n",
      "101/101 [==============================] - 0s 1ms/step - loss: 0.3023 - accuracy: 0.9101\n",
      "Epoch 140/150\n",
      "101/101 [==============================] - 0s 1ms/step - loss: 0.2909 - accuracy: 0.9150\n",
      "Epoch 141/150\n",
      "101/101 [==============================] - 0s 1ms/step - loss: 0.3040 - accuracy: 0.9094\n",
      "Epoch 142/150\n",
      "101/101 [==============================] - 0s 1ms/step - loss: 0.2937 - accuracy: 0.9138\n",
      "Epoch 143/150\n",
      "101/101 [==============================] - 0s 980us/step - loss: 0.2818 - accuracy: 0.9189\n",
      "Epoch 144/150\n",
      "101/101 [==============================] - 0s 910us/step - loss: 0.2951 - accuracy: 0.9132\n",
      "Epoch 145/150\n",
      "101/101 [==============================] - 0s 1ms/step - loss: 0.2950 - accuracy: 0.9133\n",
      "Epoch 146/150\n",
      "101/101 [==============================] - 0s 1ms/step - loss: 0.2903 - accuracy: 0.9153\n",
      "Epoch 147/150\n",
      "101/101 [==============================] - 0s 1ms/step - loss: 0.3145 - accuracy: 0.9049\n",
      "Epoch 148/150\n",
      "101/101 [==============================] - 0s 1ms/step - loss: 0.2854 - accuracy: 0.9174\n",
      "Epoch 149/150\n",
      "101/101 [==============================] - 0s 980us/step - loss: 0.2999 - accuracy: 0.9111\n",
      "Epoch 150/150\n",
      "101/101 [==============================] - 0s 970us/step - loss: 0.2765 - accuracy: 0.9212\n"
     ]
    }
   ],
   "source": [
    "r2 = model.fit(X_train, y_train, epochs=150)"
   ]
  },
  {
   "cell_type": "markdown",
   "metadata": {
    "id": "cdbGFMKmrPsU"
   },
   "source": [
    "Plot the losses:"
   ]
  },
  {
   "cell_type": "code",
   "execution_count": 58,
   "metadata": {
    "colab": {
     "base_uri": "https://localhost:8080/",
     "height": 281
    },
    "id": "eFCAh_9Srkc9",
    "outputId": "2b1d48ad-5d05-445f-be6e-53c6c69e5da3"
   },
   "outputs": [
    {
     "data": {
      "text/plain": [
       "<matplotlib.legend.Legend at 0x253e009ea90>"
      ]
     },
     "execution_count": 58,
     "metadata": {},
     "output_type": "execute_result"
    },
    {
     "data": {
      "image/png": "[encoded data removed]",
      "text/plain": [
       "<Figure size 432x288 with 1 Axes>"
      ]
     },
     "metadata": {
      "needs_background": "light"
     },
     "output_type": "display_data"
    }
   ],
   "source": [
    "plt.plot(r2.history['loss'], label='loss')\n",
    "#plt.plot(r2.history['val_loss'], label='val_loss')\n",
    "plt.legend()"
   ]
  },
  {
   "cell_type": "markdown",
   "metadata": {
    "id": "--olrolUrRdx"
   },
   "source": [
    "Plot the accuracies:"
   ]
  },
  {
   "cell_type": "code",
   "execution_count": 59,
   "metadata": {
    "colab": {
     "base_uri": "https://localhost:8080/",
     "height": 281
    },
    "id": "LL2qwSSvrmWy",
    "outputId": "c2d1311e-7c43-4832-de14-f4b2e280520d"
   },
   "outputs": [
    {
     "data": {
      "text/plain": [
       "<matplotlib.legend.Legend at 0x253e00a4160>"
      ]
     },
     "execution_count": 59,
     "metadata": {},
     "output_type": "execute_result"
    },
    {
     "data": {
      "image/png": "[encoded data removed]",
      "text/plain": [
       "<Figure size 432x288 with 1 Axes>"
      ]
     },
     "metadata": {
      "needs_background": "light"
     },
     "output_type": "display_data"
    }
   ],
   "source": [
    "plt.plot(r2.history['accuracy'], label='acc')\n",
    "#plt.plot(r2.history['val_accuracy'], label='val_acc')\n",
    "plt.legend()"
   ]
  },
  {
   "cell_type": "code",
   "execution_count": 60,
   "metadata": {
    "colab": {
     "base_uri": "https://localhost:8080/"
    },
    "id": "uzNf6IUxro9G",
    "outputId": "68d8f4a1-10dd-4ab8-e5cc-23761d184b0d"
   },
   "outputs": [
    {
     "name": "stdout",
     "output_type": "stream",
     "text": [
      "12/12 [==============================] - 0s 818us/step - loss: 0.2681 - accuracy: 0.9248\n",
      "[0.26807019114494324, 0.9247910976409912]\n"
     ]
    }
   ],
   "source": [
    "print(model.evaluate(X_test, y_test))"
   ]
  },
  {
   "cell_type": "code",
   "execution_count": 62,
   "metadata": {},
   "outputs": [],
   "source": [
    "model.save_weights('./weights/model_full/')"
   ]
  },
  {
   "cell_type": "markdown",
   "metadata": {
    "id": "oEjqnSkkKwkP"
   },
   "source": [
    "**Applying this dataset on different models to create benchmarks to compare with Fully Connected model:**"
   ]
  },
  {
   "cell_type": "markdown",
   "metadata": {
    "id": "Up6ggCZ6K7_h"
   },
   "source": [
    "*Logistic Regression* **(linear classifier):**"
   ]
  },
  {
   "cell_type": "code",
   "execution_count": 46,
   "metadata": {
    "colab": {
     "base_uri": "https://localhost:8080/"
    },
    "id": "LbK0ykIJLls0",
    "outputId": "7bbf0310-2368-45e4-d576-e39c9f440b6d"
   },
   "outputs": [
    {
     "name": "stdout",
     "output_type": "stream",
     "text": [
      "0.9113453192808432\n",
      "0.924791086350975\n"
     ]
    },
    {
     "name": "stderr",
     "output_type": "stream",
     "text": [
      "C:\\ProgramData\\Anaconda3\\lib\\site-packages\\sklearn\\linear_model\\_logistic.py:762: ConvergenceWarning: lbfgs failed to converge (status=1):\n",
      "STOP: TOTAL NO. of ITERATIONS REACHED LIMIT.\n",
      "\n",
      "Increase the number of iterations (max_iter) or scale the data as shown in:\n",
      "    https://scikit-learn.org/stable/modules/preprocessing.html\n",
      "Please also refer to the documentation for alternative solver options:\n",
      "    https://scikit-learn.org/stable/modules/linear_model.html#logistic-regression\n",
      "  n_iter_i = _check_optimize_result(\n"
     ]
    }
   ],
   "source": [
    "from sklearn.linear_model import LogisticRegression\n",
    "model =LogisticRegression()\n",
    "model.fit(X_train, y_train)\n",
    "print(model.score(X_train, y_train))\n",
    "print(model.score(X_test,y_test))\n",
    "\n"
   ]
  },
  {
   "cell_type": "code",
   "execution_count": 47,
   "metadata": {
    "colab": {
     "base_uri": "https://localhost:8080/"
    },
    "id": "cLvXlm3Eis1R",
    "outputId": "b1cbb427-a4bd-4d82-abb2-dc382eb439d8"
   },
   "outputs": [
    {
     "name": "stdout",
     "output_type": "stream",
     "text": [
      "weight for the feature 0 : -0.001269072069105969\n",
      "weight for the feature 1 : -0.001912998093316698\n",
      "weight for the feature 2 : 0.0021300703994232392\n",
      "weight for the feature 3 : 0.008678357639568106\n",
      "weight for the feature 4 : 0.004297028507627697\n",
      "weight for the feature 5 : -0.013368846962379723\n",
      "weight for the feature 6 : -0.003938173393702886\n",
      "weight for the feature 7 : 0.008190261014102238\n",
      "weight for the feature 8 : -0.006175514618128337\n",
      "weight for the feature 9 : -0.002315577506692285\n",
      "weight for the feature 10 : -0.0006153388168114538\n",
      "weight for the feature 11 : -0.013036858065776865\n",
      "weight for the feature 12 : -0.005181563397706072\n",
      "weight for the feature 13 : -4.3683729383293066e-07\n",
      "weight for the feature 14 : -0.008780364879894267\n",
      "weight for the feature 15 : -0.01166293116274796\n",
      "weight for the feature 16 : -0.002427192807723251\n",
      "weight for the feature 17 : -0.0010810258876364372\n",
      "weight for the feature 18 : 0.0008874175115078015\n",
      "weight for the feature 19 : -0.0019423972322216313\n",
      "weight for the feature 20 : 0.015128842553832874\n",
      "weight for the feature 21 : 0.006925892660442008\n",
      "weight for the feature 22 : -0.005708794078856027\n",
      "weight for the feature 23 : 0.0043348074158236225\n",
      "weight for the feature 24 : 0.003987230193279688\n",
      "weight for the feature 25 : 0.002586103721775697\n",
      "weight for the feature 26 : -8.634444694595999e-06\n",
      "weight for the feature 27 : -0.0009543460308239057\n",
      "weight for the feature 28 : 0.0009446236091242495\n",
      "weight for the feature 29 : -0.0014541097073657533\n",
      "weight for the feature 30 : 0.0005258947370104084\n",
      "weight for the feature 31 : -0.0023724194702698896\n",
      "weight for the feature 32 : 0.0008749173800859281\n",
      "weight for the feature 33 : 0.0023379035908548274\n",
      "weight for the feature 34 : 7.809104799831407e-05\n",
      "weight for the feature 35 : 0.0004868797244473454\n",
      "weight for the feature 36 : -0.00023311910411331126\n",
      "weight for the feature 37 : -0.00026348304200282164\n",
      "weight for the feature 38 : 1.4284569290608523e-05\n",
      "weight for the feature 39 : 0.00012878976196968367\n",
      "weight for the feature 40 : 0.0014868916914257777\n",
      "weight for the feature 41 : -0.001809243133342415\n",
      "weight for the feature 42 : -0.0007646781362369627\n",
      "weight for the feature 43 : 0.00029536438972660147\n",
      "weight for the feature 44 : 0.00037781783818642653\n",
      "weight for the feature 45 : 0.00026105059724054703\n",
      "weight for the feature 46 : -6.833063902649673e-05\n",
      "weight for the feature 47 : -0.0008212192486069242\n",
      "weight for the feature 48 : 0.0008798274659601545\n",
      "weight for the feature 49 : 0.0007062197893848894\n",
      "weight for the feature 50 : -0.0008605336330792574\n",
      "weight for the feature 51 : 0.00015204709189038892\n",
      "weight for the feature 52 : -7.4556699680610736e-06\n",
      "weight for the feature 53 : 0.0001966837214204962\n",
      "weight for the feature 54 : -0.0020436542448202966\n",
      "weight for the feature 55 : 0.0018372481016778613\n",
      "weight for the feature 56 : 2.7024712736671627e-05\n",
      "weight for the feature 57 : -3.785071004673892e-05\n",
      "weight for the feature 58 : 0.0014416990034187016\n",
      "weight for the feature 59 : -0.0008846627951877877\n",
      "weight for the feature 60 : -0.0005559326326152482\n",
      "weight for the feature 61 : 9.511574943157082e-05\n",
      "weight for the feature 62 : -0.00010483817113478854\n",
      "weight for the feature 63 : -0.00018297132981419495\n",
      "weight for the feature 64 : -0.0001629751239883411\n",
      "weight for the feature 65 : -0.00026556836803530816\n",
      "weight for the feature 66 : 0.0006017924001287813\n",
      "weight for the feature 67 : 0.0017834186951141075\n",
      "weight for the feature 68 : 0.0004104634109071894\n",
      "weight for the feature 69 : -0.0005249549782198618\n",
      "weight for the feature 70 : -0.0016786495495065736\n",
      "weight for the feature 71 : -0.00010887040222938449\n",
      "weight for the feature 72 : 0.0004578447199421356\n",
      "weight for the feature 73 : -0.0001931105634233798\n",
      "weight for the feature 74 : 0.0003058583253275334\n",
      "weight for the feature 75 : 0.0003266754642646391\n",
      "weight for the feature 76 : -6.558185555109508e-05\n",
      "weight for the feature 77 : -0.0007325381100265699\n",
      "weight for the feature 78 : -0.00040544683222816036\n",
      "weight for the feature 79 : 0.00039572441052451057\n",
      "weight for the feature 80 : 0.00016423268324558183\n",
      "weight for the feature 81 : -0.00017316503414776903\n",
      "weight for the feature 82 : -7.900707931842917e-07\n",
      "weight for the feature 83 : -7.586506914910383e-05\n",
      "weight for the feature 84 : -5.572093042629296e-05\n",
      "weight for the feature 85 : 0.00012186357787489336\n",
      "weight for the feature 86 : -0.0009543460308239057\n",
      "weight for the feature 87 : 0.0009446236091242495\n",
      "weight for the feature 88 : 0.0001622379566548315\n",
      "weight for the feature 89 : -0.00015465048846221847\n",
      "weight for the feature 90 : -1.7309889910038448e-05\n",
      "weight for the feature 91 : -9.157061105174556e-05\n",
      "weight for the feature 92 : 0.00016335396828307065\n",
      "weight for the feature 93 : -8.150577893242494e-05\n",
      "weight for the feature 94 : 0.0012613896022499202\n",
      "weight for the feature 95 : -0.0012711120238986778\n",
      "weight for the feature 96 : 0.0004578447199421356\n",
      "weight for the feature 97 : -5.182221957295972e-05\n",
      "weight for the feature 98 : -6.558185555109508e-05\n",
      "weight for the feature 99 : -0.00012535734885362878\n",
      "weight for the feature 100 : 0.0003266754642646391\n",
      "weight for the feature 101 : -0.0005514811819447979\n",
      "weight for the feature 102 : -0.004342571196121358\n",
      "weight for the feature 103 : -0.02068665923117449\n",
      "weight for the feature 104 : -0.020081147694684474\n",
      "weight for the feature 105 : -0.00022511866814137096\n",
      "sorted list, positive weights contribute MORE TO DETERMINE potential fraud case and negative features conribute to make prediction as NOT FRAUD. So we can say 0 valued weights do not contribute to anything: [-2.06866592e-02 -2.00811477e-02 -1.33688470e-02 -1.30368581e-02\n",
      " -1.16629312e-02 -8.78036488e-03 -6.17551462e-03 -5.70879408e-03\n",
      " -5.18156340e-03 -4.34257120e-03 -3.93817339e-03 -2.42719281e-03\n",
      " -2.37241947e-03 -2.31557751e-03 -2.04365424e-03 -1.94239723e-03\n",
      " -1.91299809e-03 -1.80924313e-03 -1.67864955e-03 -1.45410971e-03\n",
      " -1.27111202e-03 -1.26907207e-03 -1.08102589e-03 -9.54346031e-04\n",
      " -9.54346031e-04 -8.84662795e-04 -8.60533633e-04 -8.21219249e-04\n",
      " -7.64678136e-04 -7.32538110e-04 -6.15338817e-04 -5.55932633e-04\n",
      " -5.51481182e-04 -5.24954978e-04 -4.05446832e-04 -2.65568368e-04\n",
      " -2.63483042e-04 -2.33119104e-04 -2.25118668e-04 -1.93110563e-04\n",
      " -1.82971330e-04 -1.73165034e-04 -1.62975124e-04 -1.54650488e-04\n",
      " -1.25357349e-04 -1.08870402e-04 -1.04838171e-04 -9.15706111e-05\n",
      " -8.15057789e-05 -7.58650691e-05 -6.83306390e-05 -6.55818556e-05\n",
      " -6.55818556e-05 -5.57209304e-05 -5.18222196e-05 -3.78507100e-05\n",
      " -1.73098899e-05 -8.63444469e-06 -7.45566997e-06 -7.90070793e-07\n",
      " -4.36837294e-07  1.42845693e-05  2.70247127e-05  7.80910480e-05\n",
      "  9.51157494e-05  1.21863578e-04  1.28789762e-04  1.52047092e-04\n",
      "  1.62237957e-04  1.63353968e-04  1.64232683e-04  1.96683721e-04\n",
      "  2.61050597e-04  2.95364390e-04  3.05858325e-04  3.26675464e-04\n",
      "  3.26675464e-04  3.77817838e-04  3.95724411e-04  4.10463411e-04\n",
      "  4.57844720e-04  4.57844720e-04  4.86879724e-04  5.25894737e-04\n",
      "  6.01792400e-04  7.06219789e-04  8.74917380e-04  8.79827466e-04\n",
      "  8.87417512e-04  9.44623609e-04  9.44623609e-04  1.26138960e-03\n",
      "  1.44169900e-03  1.48689169e-03  1.78341870e-03  1.83724810e-03\n",
      "  2.13007040e-03  2.33790359e-03  2.58610372e-03  3.98723019e-03\n",
      "  4.29702851e-03  4.33480742e-03  6.92589266e-03  8.19026101e-03\n",
      "  8.67835764e-03  1.51288426e-02]\n"
     ]
    }
   ],
   "source": [
    "for i in range(X_train[0].shape[0]):\n",
    " print(\"weight for the feature\",i,\":\",model.coef_[0][i])\n",
    "\n",
    "model.coef_[0].sort()\n",
    "\n",
    "print(\"sorted list, positive weights contribute MORE TO DETERMINE potential hypertension case and negative features conribute more to make prediction as NOT hypertension. So we can say 0 valued weights do not contribute to anything:\",model.coef_[0])"
   ]
  },
  {
   "cell_type": "markdown",
   "metadata": {
    "id": "F2cS87lMLDDT"
   },
   "source": [
    "*Decision Tree*  "
   ]
  },
  {
   "cell_type": "code",
   "execution_count": 48,
   "metadata": {
    "colab": {
     "base_uri": "https://localhost:8080/"
    },
    "id": "BLXjjRAFLmGd",
    "outputId": "383a288e-c694-4d7b-c7fc-dbfb311ce006"
   },
   "outputs": [
    {
     "name": "stdout",
     "output_type": "stream",
     "text": [
      "1.0\n",
      "1.0\n"
     ]
    }
   ],
   "source": [
    "from sklearn.tree import DecisionTreeClassifier\n",
    "model =DecisionTreeClassifier()\n",
    "model.fit(X_train, y_train)\n",
    "print(model.score(X_train, y_train))\n",
    "print(model.score(X_test,y_test))"
   ]
  },
  {
   "cell_type": "markdown",
   "metadata": {
    "id": "KUe9EcWyLFhl"
   },
   "source": [
    "*AdaBoost*"
   ]
  },
  {
   "cell_type": "code",
   "execution_count": 49,
   "metadata": {
    "colab": {
     "base_uri": "https://localhost:8080/"
    },
    "id": "PEk2Fd8eLmhY",
    "outputId": "6e6071e3-e2ec-4315-ffa5-1f741b628138"
   },
   "outputs": [
    {
     "name": "stdout",
     "output_type": "stream",
     "text": [
      "1.0\n",
      "1.0\n"
     ]
    }
   ],
   "source": [
    "from sklearn.ensemble import AdaBoostClassifier\n",
    "model =AdaBoostClassifier()\n",
    "model.fit(X_train, y_train)\n",
    "print(model.score(X_train, y_train))\n",
    "print(model.score(X_test,y_test))"
   ]
  },
  {
   "cell_type": "code",
   "execution_count": 51,
   "metadata": {},
   "outputs": [
    {
     "data": {
      "image/png": "[encoded data removed]",
      "text/plain": [
       "<Figure size 432x288 with 1 Axes>"
      ]
     },
     "metadata": {
      "needs_background": "light"
     },
     "output_type": "display_data"
    }
   ],
   "source": [
    "# Visualize the data (tsne is great but slow.)\n",
    "\n",
    "from sklearn.manifold import TSNE\n",
    "tsne = TSNE(n_components=2)\n",
    "transformed = tsne.fit_transform(X_train)\n",
    "\n",
    "#visualize in the 2d\n",
    "plt.scatter(transformed[:,0], transformed[:,1], c=y_train) #take first two columns in order to get 2d plot.\n",
    "plt.show()"
   ]
  },
  {
   "cell_type": "code",
   "execution_count": 52,
   "metadata": {},
   "outputs": [
    {
     "data": {
      "image/png": "[encoded data removed]",
      "text/plain": [
       "<Figure size 432x288 with 1 Axes>"
      ]
     },
     "metadata": {
      "needs_background": "light"
     },
     "output_type": "display_data"
    }
   ],
   "source": [
    "transformed = tsne.fit_transform(X_test)\n",
    "\n",
    "# visualize the clouds in 2-D\n",
    "plt.scatter(transformed[:,0], transformed[:,1], c=y_test) #take first two columns in order to get 2d plot.\n",
    "plt.show()"
   ]
  }
 ],
 "metadata": {
  "colab": {
   "collapsed_sections": [],
   "machine_shape": "hm",
   "name": "fraud_detection_model.ipynb",
   "provenance": []
  },
  "kernelspec": {
   "display_name": "Python 3",
   "language": "python",
   "name": "python3"
  },
  "language_info": {
   "codemirror_mode": {
    "name": "ipython",
    "version": 3
   },
   "file_extension": ".py",
   "mimetype": "text/x-python",
   "name": "python",
   "nbconvert_exporter": "python",
   "pygments_lexer": "ipython3",
   "version": "3.8.5"
  }
 },
 "nbformat": 4,
 "nbformat_minor": 1
}
