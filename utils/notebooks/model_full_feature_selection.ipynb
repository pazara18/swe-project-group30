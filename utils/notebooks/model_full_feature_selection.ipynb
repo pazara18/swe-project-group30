{
 "cells": [
  {
   "cell_type": "code",
   "execution_count": 13,
   "metadata": {},
   "outputs": [],
   "source": [
    "import tensorflow\n",
    "import pandas as pd\n",
    "import numpy as np\n",
    "from sklearn.preprocessing import OneHotEncoder\n",
    "import matplotlib.pyplot as plt\n",
    "from sklearn.model_selection import train_test_split"
   ]
  },
  {
   "cell_type": "code",
   "execution_count": 14,
   "metadata": {},
   "outputs": [],
   "source": [
    "\n",
    "\n",
    "health_data =  pd.read_csv('../merged_final_data_clean.csv')"
   ]
  },
  {
   "cell_type": "code",
   "execution_count": 15,
   "metadata": {
    "colab": {
     "base_uri": "https://localhost:8080/"
    },
    "id": "ZlGgwLy3Ue53",
    "outputId": "c8445da5-b78c-41cb-a139-55849a01bba9"
   },
   "outputs": [
    {
     "name": "stdout",
     "output_type": "stream",
     "text": [
      "Index(['TIME', 'PATIENT', 'Age', 'Gender', 'Race', 'Triglycerides',\n",
      "       'How many family members  including yourself  do you currently live with?',\n",
      "       'Hemoglobin [Mass/volume] in Blood', 'Body Mass Index',\n",
      "       'Low Density Lipoprotein Cholesterol', 'Calcium', 'Are you a refugee?',\n",
      "       'In the past year  have you or any family members you live with been unable to get any of the following when it was really needed?',\n",
      "       'Total Cholesterol',\n",
      "       'Stress is when someone feels tense  nervous  anxious or can't sleep at night because their mind is troubled. How stressed are you?',\n",
      "       'High Density Lipoprotein Cholesterol', 'Carbon Dioxide',\n",
      "       'Are you worried about losing your housing?',\n",
      "       'Platelets [#/volume] in Blood by Automated count', 'Body Height',\n",
      "       'How often do you see or talk to people that you care about and feel close to (For example: talking to friends on the phone  visiting friends or family  going to church or club meetings)?',\n",
      "       'Chloride', 'What is your main insurance?',\n",
      "       'During the past year  what was the total combined income for you and the family members you live with? This information will help us determine if you are eligible for any benefits.',\n",
      "       'In the past year  have you spent more than 2 nights in a row in a jail  prison  detention center  or juvenile correctional facility?',\n",
      "       'What is your current work situation?', 'Sodium',\n",
      "       'Are you Hispanic or Latino?', 'Urea Nitrogen', 'Potassium',\n",
      "       'MCH [Entitic mass] by Automated count',\n",
      "       'Do you feel physically and emotionally safe where you currently live?',\n",
      "       'Creatinine',\n",
      "       'What is the highest level of school that you have finished?',\n",
      "       'Which race(s) are you?',\n",
      "       'In the past year  have you been afraid of your partner or ex-partner?',\n",
      "       'Has lack of transportation kept you from medical appointments  meetings  work  or from getting things needed for daily living?',\n",
      "       'MCHC [Mass/volume] by Automated count',\n",
      "       'MCV [Entitic volume] by Automated count', 'Glucose',\n",
      "       'What is your housing situation today?',\n",
      "       'Pain severity - 0-10 verbal numeric rating [Score] - Reported',\n",
      "       'Respiratory rate', 'Tobacco smoking status NHIS', 'Body Weight',\n",
      "       'At any point in the past 2 years  has season or migrant farm work been your or your family's main source of income?',\n",
      "       'Have you been discharged from the armed forces of the United States?',\n",
      "       'Heart rate', 'Systolic Blood Pressure', 'Diastolic Blood Pressure',\n",
      "       'Hypertension'],\n",
      "      dtype='object')\n"
     ]
    }
   ],
   "source": [
    "print(health_data.columns)"
   ]
  },
  {
   "cell_type": "code",
   "execution_count": 106,
   "metadata": {},
   "outputs": [],
   "source": [
    "columns_to_encode = ['Tobacco smoking status NHIS',  \n",
    "                    \"Stress is when someone feels tense  nervous  anxious or can't sleep at night because their mind is troubled. How stressed are you?\", \n",
    "                     \"Are you a refugee?\", \n",
    "                     \"In the past year  have you or any family members you live with been unable to get any of the following when it was really needed?\",\n",
    "                     \"Are you worried about losing your housing?\",\n",
    "                     \"What is your main insurance?\",\n",
    "                     \"In the past year  have you spent more than 2 nights in a row in a jail  prison  detention center  or juvenile correctional facility?\",\n",
    "                     \"What is your current work situation?\",\n",
    "                     \"Are you Hispanic or Latino?\",\n",
    "                     \"Do you feel physically and emotionally safe where you currently live?\",\n",
    "                     \"What is the highest level of school that you have finished?\",\n",
    "                     \"Which race(s) are you?\",\n",
    "                     \"In the past year  have you been afraid of your partner or ex-partner?\",\n",
    "                     \"Has lack of transportation kept you from medical appointments  meetings  work  or from getting things needed for daily living?\",\n",
    "                     \"What is your housing situation today?\",\n",
    "                     \"Tobacco smoking status NHIS\",\n",
    "                     \"At any point in the past 2 years  has season or migrant farm work been your or your family's main source of income?\",\n",
    "                     \"Have you been discharged from the armed forces of the United States?\",\n",
    "                    \"Gender\", \n",
    "                     \"Race\",\n",
    "                    \"How often do you see or talk to people that you care about and feel close to (For example: talking to friends on the phone  visiting friends or family  going to church or club meetings)?\"]\n",
    "\n",
    "OHE    = OneHotEncoder(sparse=False)\n",
    "encoded_columns =    OHE.fit_transform(health_data[columns_to_encode])\n",
    "                     \n",
    "                     "
   ]
  },
  {
   "cell_type": "code",
   "execution_count": 107,
   "metadata": {},
   "outputs": [
    {
     "name": "stdout",
     "output_type": "stream",
     "text": [
      "(27408, 80)\n"
     ]
    }
   ],
   "source": [
    "print(encoded_columns.shape)"
   ]
  },
  {
   "cell_type": "code",
   "execution_count": 108,
   "metadata": {},
   "outputs": [],
   "source": [
    "column_name = OHE.get_feature_names(columns_to_encode)\n",
    "one_hot_encoded_frame =  pd.DataFrame(encoded_columns, columns= column_name)"
   ]
  },
  {
   "cell_type": "code",
   "execution_count": 109,
   "metadata": {},
   "outputs": [],
   "source": [
    "only_scalar = health_data.drop(columns_to_encode, axis=1)\n"
   ]
  },
  {
   "cell_type": "code",
   "execution_count": 110,
   "metadata": {},
   "outputs": [],
   "source": [
    "only_scalar_filtered_frame =only_scalar.drop(['TIME','PATIENT'], axis=1) #filter time and patient\n",
    "final_frame = pd.concat([one_hot_encoded_frame,only_scalar_filtered_frame], axis=1)"
   ]
  },
  {
   "cell_type": "code",
   "execution_count": 111,
   "metadata": {},
   "outputs": [],
   "source": [
    "encoded_full_column_list = final_frame.columns"
   ]
  },
  {
   "cell_type": "code",
   "execution_count": 112,
   "metadata": {},
   "outputs": [],
   "source": [
    "final_frame.to_csv(\"./feature_selection/final_Frame.csv\")"
   ]
  },
  {
   "cell_type": "markdown",
   "metadata": {
    "id": "kDSzK674s-4k"
   },
   "source": [
    "Shuffle the dataset."
   ]
  },
  {
   "cell_type": "code",
   "execution_count": 113,
   "metadata": {
    "id": "dZiwd2-oVirj"
   },
   "outputs": [],
   "source": [
    "from sklearn.utils import shuffle\n",
    "\n",
    "processed_data = shuffle(final_frame).values"
   ]
  },
  {
   "cell_type": "code",
   "execution_count": 114,
   "metadata": {},
   "outputs": [],
   "source": [
    "X = processed_data[:,:-1].astype(float)\n",
    "y = processed_data[:,-1].astype(int)\n"
   ]
  },
  {
   "cell_type": "code",
   "execution_count": 115,
   "metadata": {},
   "outputs": [],
   "source": [
    "hyper_label = list(np.where(y==1)[0])\n",
    "non_hyper_label = np.where(y==0)[0]\n",
    "new_non_hyper_label = list(np.random.choice(non_hyper_label, size = int(len(hyper_label))))\n",
    "new_label_indices = hyper_label + new_non_hyper_label\n",
    "y_balanced = y[new_label_indices]\n",
    "X_balanced =X[new_label_indices]"
   ]
  },
  {
   "cell_type": "code",
   "execution_count": 117,
   "metadata": {},
   "outputs": [
    {
     "name": "stdout",
     "output_type": "stream",
     "text": [
      "[[-0.65008361  0.65008361 -0.59523494 ... -0.99801539 -1.25264864\n",
      "  -0.04205501]\n",
      " [-0.65008361  0.65008361 -0.59523494 ... -0.19531678 -0.99582388\n",
      "  -0.93947238]\n",
      " [-0.65008361  0.65008361 -0.59523494 ... -0.03477706  0.03147516\n",
      "  -0.54062022]\n",
      " ...\n",
      " [ 1.53826368 -1.53826368  1.6800089  ...  0.36657224  0.09568135\n",
      "  -0.54062022]\n",
      " [-0.65008361  0.65008361 -0.59523494 ... -0.67693595 -0.2253496\n",
      "  -0.34119414]\n",
      " [ 1.53826368 -1.53826368 -0.59523494 ... -1.15855511 -1.12423626\n",
      "  -1.23861151]]\n"
     ]
    },
    {
     "name": "stderr",
     "output_type": "stream",
     "text": [
      "C:\\ProgramData\\Anaconda3\\lib\\site-packages\\sklearn\\feature_selection\\_univariate_selection.py:114: UserWarning: Features [26 57] are constant.\n",
      "  warnings.warn(\"Features %s are constant.\" % constant_features_idx,\n",
      "C:\\ProgramData\\Anaconda3\\lib\\site-packages\\sklearn\\feature_selection\\_univariate_selection.py:116: RuntimeWarning: invalid value encountered in true_divide\n",
      "  f = msb / msw\n"
     ]
    },
    {
     "data": {
      "text/plain": [
       "(818, 20)"
      ]
     },
     "execution_count": 117,
     "metadata": {},
     "output_type": "execute_result"
    }
   ],
   "source": [
    "from sklearn.preprocessing import StandardScaler\n",
    "from sklearn.datasets import load_digits\n",
    "from sklearn.feature_selection import SelectKBest, chi2, f_classif\n",
    "\n",
    "scaler_x = StandardScaler().fit(X_balanced)\n",
    "X_balanced = scaler_x.transform(X_balanced)\n",
    "print(X_balanced)\n",
    "\n",
    "kbest = SelectKBest(f_classif, k=20)\n",
    "X_new = kbest.fit_transform(X_balanced, y_balanced)\n",
    "X_new.shape"
   ]
  },
  {
   "cell_type": "code",
   "execution_count": 118,
   "metadata": {},
   "outputs": [
    {
     "data": {
      "text/plain": [
       "array([1.46027201e-01, 1.46027201e-01, 1.01021356e-01, 1.00369004e+00,\n",
       "       1.82455094e-01, 1.11570672e+00, 7.57350757e-03, 2.20434626e-01,\n",
       "       1.00000000e+00, 5.54682779e+00, 4.93690579e+00, 4.04160475e-01,\n",
       "       1.61904762e+00, 3.89416194e-01, 5.01173773e-02, 4.29112326e-01,\n",
       "       9.19333033e-02, 4.04160475e-01, 9.53907816e-01, 6.15692636e-32,\n",
       "       8.84994143e-03, 9.06706965e-03, 1.51621622e+01, 2.46400000e+02,\n",
       "       1.12763819e+01, 7.67704413e+01,            nan, 6.20938028e+01,\n",
       "       6.20938028e+01, 3.57532861e+00, 1.00369004e+00, 2.71796615e+00,\n",
       "       1.59929603e+00, 2.70646766e-01, 1.43763214e-01, 1.43763214e-01,\n",
       "       1.00000000e+00, 1.02344630e+00, 2.00787402e-01, 9.22821270e-01,\n",
       "       1.24392304e+01, 2.00491400e+00, 1.34762386e+01, 1.46278285e+00,\n",
       "       2.00787402e-01, 7.06417686e+00, 1.55548554e+00, 5.04950495e+00,\n",
       "       1.12087912e-01, 3.33878887e-01, 5.90256657e+00, 2.96296296e-01,\n",
       "       2.96296296e-01, 1.41617494e+00, 1.10136321e-01, 1.68160742e+00,\n",
       "       2.68863262e+00,            nan, 2.68863262e+00, 1.46027201e-01,\n",
       "       1.46027201e-01, 1.00369004e+00, 2.99312242e+00, 5.70629371e+00,\n",
       "       6.62735401e-30, 1.70301576e-01, 1.78810124e-01, 3.12733544e-01,\n",
       "       3.12733544e-01, 7.06417686e+00, 1.27221703e+00, 3.33878887e-01,\n",
       "       2.00787402e-01, 1.12087912e-01, 7.78075091e+00, 2.43146603e-01,\n",
       "       4.98533724e-03, 1.28176129e-01, 4.65617556e-31, 9.27141031e-01,\n",
       "       7.91071364e+02, 4.67913796e+01, 2.20559631e+00, 9.40872919e+01,\n",
       "       6.23185831e-02, 4.74193255e+01, 3.09528727e-01, 7.81080645e+01,\n",
       "       3.41454895e+01, 1.40171770e-01, 1.52638764e-01, 3.92629401e+00,\n",
       "       7.51860385e-01, 5.43563139e+00, 2.14842000e+00, 4.52583215e-02,\n",
       "       1.06895776e+00, 1.06979719e+00, 2.46101652e+01, 3.22816166e+00,\n",
       "       1.58895857e-01, 7.90502513e+01, 8.41076541e-01, 2.25354858e-01,\n",
       "       2.71304195e+00, 9.00800124e-01, 8.51897586e+00, 1.34593790e+01])"
      ]
     },
     "execution_count": 118,
     "metadata": {},
     "output_type": "execute_result"
    }
   ],
   "source": [
    "kbest.scores_"
   ]
  },
  {
   "cell_type": "code",
   "execution_count": 119,
   "metadata": {},
   "outputs": [
    {
     "name": "stdout",
     "output_type": "stream",
     "text": [
      "[ 22  23  24  25  27  28  40  42  69  74  80  81  83  85  87  88  98 101\n",
      " 106 107]\n"
     ]
    }
   ],
   "source": [
    "cols = kbest.get_support(indices=True)\n",
    "print(cols)\n",
    "best_columns_data_frame = final_frame.iloc[:,cols]\n",
    "\n"
   ]
  },
  {
   "cell_type": "code",
   "execution_count": 120,
   "metadata": {},
   "outputs": [
    {
     "name": "stdout",
     "output_type": "stream",
     "text": [
      "Age\n",
      "791.0713636637112\n"
     ]
    }
   ],
   "source": [
    "encoded_full_column_list = final_frame.columns\n",
    "full_column_dict = {}\n",
    "encoded_full_column_list = list(encoded_full_column_list)\n",
    "\n",
    "encoded_full_column_list.remove('Hypertension')\n",
    "\n",
    "i=0\n",
    "for _ in range(0,len(encoded_full_column_list)):\n",
    "    \n",
    "    full_column_dict[encoded_full_column_list[_]] = kbest.scores_[i]\n",
    "    i +=1\n",
    "    \n",
    "\n",
    "print(encoded_full_column_list[80])\n",
    "print(kbest.scores_[80])"
   ]
  },
  {
   "cell_type": "code",
   "execution_count": 121,
   "metadata": {},
   "outputs": [],
   "source": [
    "import csv\n",
    "#sort dictionary based on values\n",
    "sorted_full_column_dict = {k: v for k, v in sorted(full_column_dict.items(), key=lambda item: item[1], reverse=True)}\n",
    "#print(sorted_full_column_dict)\n",
    "\n",
    "with open('./feature_selection/scaled_feature_selection_importance_sorted_fclassif.csv', 'w') as csv_file:  \n",
    "    writer = csv.writer(csv_file)\n",
    "    for key, value in sorted_full_column_dict.items():\n",
    "       writer.writerow([key, value])"
   ]
  },
  {
   "cell_type": "code",
   "execution_count": 122,
   "metadata": {},
   "outputs": [],
   "source": [
    "best_columns_data_frame.to_csv('./feature_selection/best_columns_data_frame.csv')"
   ]
  },
  {
   "cell_type": "code",
   "execution_count": 123,
   "metadata": {
    "id": "UloEuNuXXe8-"
   },
   "outputs": [],
   "source": [
    " X_train, X_test, y_train, y_test = train_test_split(X_new, y_balanced, test_size=0.1)"
   ]
  },
  {
   "cell_type": "code",
   "execution_count": 124,
   "metadata": {},
   "outputs": [
    {
     "data": {
      "text/plain": [
       "(736, 20)"
      ]
     },
     "execution_count": 124,
     "metadata": {},
     "output_type": "execute_result"
    }
   ],
   "source": [
    "X_train.shape"
   ]
  },
  {
   "cell_type": "code",
   "execution_count": 125,
   "metadata": {},
   "outputs": [
    {
     "name": "stdout",
     "output_type": "stream",
     "text": [
      "float64\n"
     ]
    }
   ],
   "source": [
    "print(X_train.dtype)"
   ]
  },
  {
   "cell_type": "code",
   "execution_count": 126,
   "metadata": {},
   "outputs": [
    {
     "name": "stdout",
     "output_type": "stream",
     "text": [
      "test: {0: 40, 1: 42}\n",
      "train: {0: 369, 1: 367}\n"
     ]
    }
   ],
   "source": [
    "unique, counts = np.unique(y_test, return_counts=True)\n",
    "print(\"test:\",dict(zip(unique, counts)))\n",
    "\n",
    "\n",
    "unique, counts = np.unique(y_train, return_counts=True)\n",
    "print(\"train:\",dict(zip(unique, counts)))"
   ]
  },
  {
   "cell_type": "markdown",
   "metadata": {
    "id": "wDi9jfnRqUgJ"
   },
   "source": [
    "Fully connected neural network model with 3 hidden layers:"
   ]
  },
  {
   "cell_type": "code",
   "execution_count": 134,
   "metadata": {
    "id": "bVz5-8xuqEsy"
   },
   "outputs": [],
   "source": [
    "import tensorflow as tf \n",
    "\n",
    "model = tf.keras.models.Sequential([\n",
    "  tf.keras.Input(shape=(X_train[0].shape[0],)), #Xtrain[0].shape[0] = 108 -> input size\n",
    "  tf.keras.layers.Dense(10, activation='relu'), #represents 1st hidden layer \n",
    "  tf.keras.layers.Dropout(0.2), # dropout regularization with dropout probability 20% percent\n",
    "  tf.keras.layers.Dense(10, activation='relu'), #represents the 2nd hidden layer \n",
    "  tf.keras.layers.Dropout(0.2), # dropout regularization with dropout probability 20% percent\n",
    "  tf.keras.layers.Dense(10, activation='relu'), #represents the 3rd hidden layer \n",
    "  tf.keras.layers.Dropout(0.2), # dropout regularization with dropout probability 20% percent\n",
    "  tf.keras.layers.Dense(1, activation='sigmoid') # sigmoid activation at output since it is binary classification\n",
    "])"
   ]
  },
  {
   "cell_type": "code",
   "execution_count": 135,
   "metadata": {
    "id": "5FNnHp_QrGCv"
   },
   "outputs": [],
   "source": [
    "model.compile(optimizer='adam', \n",
    "              loss='binary_crossentropy',\n",
    "              metrics=['accuracy'])"
   ]
  },
  {
   "cell_type": "code",
   "execution_count": 136,
   "metadata": {},
   "outputs": [
    {
     "name": "stdout",
     "output_type": "stream",
     "text": [
      "Model: \"sequential_8\"\n",
      "_________________________________________________________________\n",
      "Layer (type)                 Output Shape              Param #   \n",
      "=================================================================\n",
      "dense_32 (Dense)             (None, 10)                210       \n",
      "_________________________________________________________________\n",
      "dropout_24 (Dropout)         (None, 10)                0         \n",
      "_________________________________________________________________\n",
      "dense_33 (Dense)             (None, 10)                110       \n",
      "_________________________________________________________________\n",
      "dropout_25 (Dropout)         (None, 10)                0         \n",
      "_________________________________________________________________\n",
      "dense_34 (Dense)             (None, 10)                110       \n",
      "_________________________________________________________________\n",
      "dropout_26 (Dropout)         (None, 10)                0         \n",
      "_________________________________________________________________\n",
      "dense_35 (Dense)             (None, 1)                 11        \n",
      "=================================================================\n",
      "Total params: 441\n",
      "Trainable params: 441\n",
      "Non-trainable params: 0\n",
      "_________________________________________________________________\n"
     ]
    }
   ],
   "source": [
    "model.summary()"
   ]
  },
  {
   "cell_type": "markdown",
   "metadata": {
    "id": "aS2gk-MarTGl"
   },
   "source": [
    "Train the model with 10 epochs:"
   ]
  },
  {
   "cell_type": "code",
   "execution_count": 137,
   "metadata": {
    "colab": {
     "base_uri": "https://localhost:8080/"
    },
    "id": "HxyIThDGP_gj",
    "outputId": "360b23ea-a569-412d-a2da-90a2a7eec26a"
   },
   "outputs": [
    {
     "name": "stdout",
     "output_type": "stream",
     "text": [
      "Epoch 1/500\n",
      "23/23 [==============================] - 1s 20ms/step - loss: 0.7053 - accuracy: 0.5346 - val_loss: 0.6306 - val_accuracy: 0.7317\n",
      "Epoch 2/500\n",
      "23/23 [==============================] - 0s 5ms/step - loss: 0.6698 - accuracy: 0.6021 - val_loss: 0.6139 - val_accuracy: 0.7683\n",
      "Epoch 3/500\n",
      "23/23 [==============================] - 0s 6ms/step - loss: 0.6355 - accuracy: 0.6880 - val_loss: 0.5896 - val_accuracy: 0.7683\n",
      "Epoch 4/500\n",
      "23/23 [==============================] - 0s 5ms/step - loss: 0.6231 - accuracy: 0.6511 - val_loss: 0.5595 - val_accuracy: 0.7805\n",
      "Epoch 5/500\n",
      "23/23 [==============================] - 0s 6ms/step - loss: 0.6069 - accuracy: 0.6553 - val_loss: 0.5319 - val_accuracy: 0.7805\n",
      "Epoch 6/500\n",
      "23/23 [==============================] - 0s 5ms/step - loss: 0.5839 - accuracy: 0.6897 - val_loss: 0.5087 - val_accuracy: 0.7805\n",
      "Epoch 7/500\n",
      "23/23 [==============================] - 0s 5ms/step - loss: 0.5370 - accuracy: 0.7344 - val_loss: 0.4838 - val_accuracy: 0.7927\n",
      "Epoch 8/500\n",
      "23/23 [==============================] - 0s 5ms/step - loss: 0.5338 - accuracy: 0.7572 - val_loss: 0.4627 - val_accuracy: 0.8049\n",
      "Epoch 9/500\n",
      "23/23 [==============================] - 0s 5ms/step - loss: 0.5294 - accuracy: 0.7329 - val_loss: 0.4461 - val_accuracy: 0.7927\n",
      "Epoch 10/500\n",
      "23/23 [==============================] - 0s 7ms/step - loss: 0.5127 - accuracy: 0.7189 - val_loss: 0.4341 - val_accuracy: 0.7927\n",
      "Epoch 11/500\n",
      "23/23 [==============================] - 0s 6ms/step - loss: 0.5147 - accuracy: 0.7490 - val_loss: 0.4253 - val_accuracy: 0.8049\n",
      "Epoch 12/500\n",
      "23/23 [==============================] - 0s 6ms/step - loss: 0.4813 - accuracy: 0.7730 - val_loss: 0.4175 - val_accuracy: 0.8049\n",
      "Epoch 13/500\n",
      "23/23 [==============================] - 0s 6ms/step - loss: 0.4766 - accuracy: 0.7817 - val_loss: 0.4118 - val_accuracy: 0.8171\n",
      "Epoch 14/500\n",
      "23/23 [==============================] - 0s 10ms/step - loss: 0.4393 - accuracy: 0.7943 - val_loss: 0.4086 - val_accuracy: 0.8049\n",
      "Epoch 15/500\n",
      "23/23 [==============================] - 0s 6ms/step - loss: 0.4305 - accuracy: 0.8065 - val_loss: 0.4056 - val_accuracy: 0.7927\n",
      "Epoch 16/500\n",
      "23/23 [==============================] - 0s 6ms/step - loss: 0.4343 - accuracy: 0.8069 - val_loss: 0.4022 - val_accuracy: 0.8049\n",
      "Epoch 17/500\n",
      "23/23 [==============================] - 0s 8ms/step - loss: 0.4492 - accuracy: 0.7819 - val_loss: 0.4012 - val_accuracy: 0.7927\n",
      "Epoch 18/500\n",
      "23/23 [==============================] - 0s 9ms/step - loss: 0.4329 - accuracy: 0.7940 - val_loss: 0.3973 - val_accuracy: 0.7927\n",
      "Epoch 19/500\n",
      "23/23 [==============================] - 0s 6ms/step - loss: 0.4069 - accuracy: 0.8230 - val_loss: 0.3962 - val_accuracy: 0.8049\n",
      "Epoch 20/500\n",
      "23/23 [==============================] - 0s 8ms/step - loss: 0.3942 - accuracy: 0.8368 - val_loss: 0.3952 - val_accuracy: 0.8171\n",
      "Epoch 21/500\n",
      "23/23 [==============================] - 0s 7ms/step - loss: 0.3881 - accuracy: 0.8302 - val_loss: 0.3947 - val_accuracy: 0.7927\n",
      "Epoch 22/500\n",
      "23/23 [==============================] - 0s 6ms/step - loss: 0.3923 - accuracy: 0.8441 - val_loss: 0.3945 - val_accuracy: 0.7927\n",
      "Epoch 23/500\n",
      "23/23 [==============================] - 0s 6ms/step - loss: 0.4078 - accuracy: 0.8304 - val_loss: 0.3957 - val_accuracy: 0.7927\n",
      "Epoch 24/500\n",
      "23/23 [==============================] - 0s 7ms/step - loss: 0.4032 - accuracy: 0.8047 - val_loss: 0.3947 - val_accuracy: 0.7927\n",
      "Epoch 25/500\n",
      "23/23 [==============================] - 0s 6ms/step - loss: 0.3713 - accuracy: 0.8341 - val_loss: 0.3954 - val_accuracy: 0.7927\n",
      "Epoch 26/500\n",
      "23/23 [==============================] - 0s 7ms/step - loss: 0.3715 - accuracy: 0.8161 - val_loss: 0.3944 - val_accuracy: 0.7927\n",
      "Epoch 27/500\n",
      "23/23 [==============================] - 0s 6ms/step - loss: 0.3413 - accuracy: 0.8592 - val_loss: 0.3943 - val_accuracy: 0.7805\n",
      "Epoch 28/500\n",
      "23/23 [==============================] - 0s 6ms/step - loss: 0.4215 - accuracy: 0.8111 - val_loss: 0.3930 - val_accuracy: 0.7927\n",
      "Epoch 29/500\n",
      "23/23 [==============================] - 0s 9ms/step - loss: 0.4133 - accuracy: 0.8316 - val_loss: 0.3931 - val_accuracy: 0.7805\n",
      "Epoch 30/500\n",
      "23/23 [==============================] - 0s 8ms/step - loss: 0.3451 - accuracy: 0.8317 - val_loss: 0.3935 - val_accuracy: 0.7805\n",
      "Epoch 31/500\n",
      "23/23 [==============================] - 0s 6ms/step - loss: 0.3598 - accuracy: 0.8591 - val_loss: 0.3929 - val_accuracy: 0.8049\n",
      "Epoch 32/500\n",
      "23/23 [==============================] - 0s 6ms/step - loss: 0.3933 - accuracy: 0.8060 - val_loss: 0.3925 - val_accuracy: 0.8049\n",
      "Epoch 33/500\n",
      "23/23 [==============================] - 0s 7ms/step - loss: 0.3602 - accuracy: 0.8257 - val_loss: 0.3956 - val_accuracy: 0.7683\n",
      "Epoch 34/500\n",
      "23/23 [==============================] - 0s 8ms/step - loss: 0.3430 - accuracy: 0.8434 - val_loss: 0.3917 - val_accuracy: 0.7927\n",
      "Epoch 35/500\n",
      "23/23 [==============================] - 0s 8ms/step - loss: 0.3320 - accuracy: 0.8615 - val_loss: 0.3910 - val_accuracy: 0.7927\n",
      "Epoch 36/500\n",
      "23/23 [==============================] - 0s 6ms/step - loss: 0.3469 - accuracy: 0.8575 - val_loss: 0.3887 - val_accuracy: 0.8049\n",
      "Epoch 37/500\n",
      "23/23 [==============================] - 0s 6ms/step - loss: 0.3456 - accuracy: 0.8462 - val_loss: 0.3850 - val_accuracy: 0.8171\n",
      "Epoch 38/500\n",
      "23/23 [==============================] - 0s 6ms/step - loss: 0.3565 - accuracy: 0.8492 - val_loss: 0.3837 - val_accuracy: 0.7927\n",
      "Epoch 39/500\n",
      "23/23 [==============================] - 0s 6ms/step - loss: 0.3716 - accuracy: 0.8265 - val_loss: 0.3841 - val_accuracy: 0.7927\n",
      "Epoch 40/500\n",
      "23/23 [==============================] - 0s 5ms/step - loss: 0.3866 - accuracy: 0.8108 - val_loss: 0.3831 - val_accuracy: 0.7927\n",
      "Epoch 41/500\n",
      "23/23 [==============================] - 0s 6ms/step - loss: 0.3437 - accuracy: 0.8534 - val_loss: 0.3818 - val_accuracy: 0.7927\n",
      "Epoch 42/500\n",
      "23/23 [==============================] - 0s 7ms/step - loss: 0.3296 - accuracy: 0.8443 - val_loss: 0.3875 - val_accuracy: 0.7927\n",
      "Epoch 43/500\n",
      "23/23 [==============================] - 0s 10ms/step - loss: 0.3056 - accuracy: 0.8652 - val_loss: 0.3932 - val_accuracy: 0.8049\n",
      "Epoch 44/500\n",
      "23/23 [==============================] - 0s 8ms/step - loss: 0.3805 - accuracy: 0.8367 - val_loss: 0.3931 - val_accuracy: 0.8049\n",
      "Epoch 45/500\n",
      "23/23 [==============================] - 0s 6ms/step - loss: 0.3234 - accuracy: 0.8614 - val_loss: 0.3948 - val_accuracy: 0.7927\n",
      "Epoch 46/500\n",
      "23/23 [==============================] - 0s 5ms/step - loss: 0.3468 - accuracy: 0.8604 - val_loss: 0.3987 - val_accuracy: 0.7927\n",
      "Epoch 47/500\n",
      "23/23 [==============================] - 0s 7ms/step - loss: 0.3168 - accuracy: 0.8475 - val_loss: 0.3949 - val_accuracy: 0.8049\n",
      "Epoch 48/500\n",
      "23/23 [==============================] - 0s 8ms/step - loss: 0.3214 - accuracy: 0.8839 - val_loss: 0.3955 - val_accuracy: 0.8049\n",
      "Epoch 49/500\n",
      "23/23 [==============================] - 0s 7ms/step - loss: 0.3364 - accuracy: 0.8466 - val_loss: 0.4006 - val_accuracy: 0.8049\n",
      "Epoch 50/500\n",
      "23/23 [==============================] - 0s 6ms/step - loss: 0.3234 - accuracy: 0.8643 - val_loss: 0.3957 - val_accuracy: 0.8049\n",
      "Epoch 51/500\n",
      "23/23 [==============================] - 0s 6ms/step - loss: 0.3321 - accuracy: 0.8655 - val_loss: 0.3930 - val_accuracy: 0.8049\n",
      "Epoch 52/500\n",
      "23/23 [==============================] - 0s 9ms/step - loss: 0.3006 - accuracy: 0.8767 - val_loss: 0.3955 - val_accuracy: 0.8049\n",
      "Epoch 53/500\n",
      "23/23 [==============================] - 0s 6ms/step - loss: 0.2964 - accuracy: 0.8688 - val_loss: 0.3984 - val_accuracy: 0.7927\n",
      "Epoch 54/500\n",
      "23/23 [==============================] - 0s 5ms/step - loss: 0.3298 - accuracy: 0.8574 - val_loss: 0.3979 - val_accuracy: 0.7927\n",
      "Epoch 55/500\n",
      "23/23 [==============================] - 0s 6ms/step - loss: 0.2951 - accuracy: 0.8793 - val_loss: 0.4016 - val_accuracy: 0.7927\n",
      "Epoch 56/500\n",
      "23/23 [==============================] - 0s 6ms/step - loss: 0.3477 - accuracy: 0.8781 - val_loss: 0.4005 - val_accuracy: 0.7927\n",
      "Epoch 57/500\n",
      "23/23 [==============================] - 0s 8ms/step - loss: 0.2854 - accuracy: 0.8807 - val_loss: 0.4070 - val_accuracy: 0.7927\n",
      "Epoch 58/500\n",
      "23/23 [==============================] - 0s 6ms/step - loss: 0.3097 - accuracy: 0.8840 - val_loss: 0.4094 - val_accuracy: 0.7927\n"
     ]
    },
    {
     "name": "stdout",
     "output_type": "stream",
     "text": [
      "Epoch 59/500\n",
      "23/23 [==============================] - 0s 7ms/step - loss: 0.3187 - accuracy: 0.8672 - val_loss: 0.4077 - val_accuracy: 0.7805\n",
      "Epoch 60/500\n",
      "23/23 [==============================] - 0s 7ms/step - loss: 0.3060 - accuracy: 0.8618 - val_loss: 0.4038 - val_accuracy: 0.7805\n",
      "Epoch 61/500\n",
      "23/23 [==============================] - 0s 8ms/step - loss: 0.3189 - accuracy: 0.8679 - val_loss: 0.4037 - val_accuracy: 0.7805\n",
      "Epoch 62/500\n",
      "23/23 [==============================] - 0s 8ms/step - loss: 0.3113 - accuracy: 0.8912 - val_loss: 0.4059 - val_accuracy: 0.7805\n",
      "Epoch 63/500\n",
      "23/23 [==============================] - 0s 6ms/step - loss: 0.2846 - accuracy: 0.8761 - val_loss: 0.4031 - val_accuracy: 0.7805\n",
      "Epoch 64/500\n",
      "23/23 [==============================] - 0s 6ms/step - loss: 0.3109 - accuracy: 0.8770 - val_loss: 0.4004 - val_accuracy: 0.7927\n",
      "Epoch 65/500\n",
      "23/23 [==============================] - 0s 6ms/step - loss: 0.2868 - accuracy: 0.8922 - val_loss: 0.3992 - val_accuracy: 0.7805\n",
      "Epoch 66/500\n",
      "23/23 [==============================] - 0s 5ms/step - loss: 0.2990 - accuracy: 0.8758 - val_loss: 0.4034 - val_accuracy: 0.7805\n",
      "Epoch 67/500\n",
      "23/23 [==============================] - 0s 8ms/step - loss: 0.3086 - accuracy: 0.8755 - val_loss: 0.4004 - val_accuracy: 0.7805\n",
      "Epoch 68/500\n",
      "23/23 [==============================] - 0s 6ms/step - loss: 0.3071 - accuracy: 0.8684 - val_loss: 0.3944 - val_accuracy: 0.7805\n",
      "Epoch 69/500\n",
      "23/23 [==============================] - 0s 6ms/step - loss: 0.2802 - accuracy: 0.8901 - val_loss: 0.3941 - val_accuracy: 0.7927\n",
      "Epoch 70/500\n",
      "23/23 [==============================] - 0s 13ms/step - loss: 0.2834 - accuracy: 0.8829 - val_loss: 0.4004 - val_accuracy: 0.7805\n",
      "Epoch 71/500\n",
      "23/23 [==============================] - 0s 7ms/step - loss: 0.3151 - accuracy: 0.8803 - val_loss: 0.4014 - val_accuracy: 0.7805\n",
      "Epoch 72/500\n",
      "23/23 [==============================] - 0s 6ms/step - loss: 0.2637 - accuracy: 0.8987 - val_loss: 0.3995 - val_accuracy: 0.8049\n",
      "Epoch 73/500\n",
      "23/23 [==============================] - 0s 5ms/step - loss: 0.3299 - accuracy: 0.8630 - val_loss: 0.4001 - val_accuracy: 0.7927\n",
      "Epoch 74/500\n",
      "23/23 [==============================] - 0s 6ms/step - loss: 0.2574 - accuracy: 0.8853 - val_loss: 0.4076 - val_accuracy: 0.7927\n",
      "Epoch 75/500\n",
      "23/23 [==============================] - 0s 6ms/step - loss: 0.2502 - accuracy: 0.8890 - val_loss: 0.4081 - val_accuracy: 0.7805\n",
      "Epoch 76/500\n",
      "23/23 [==============================] - 0s 5ms/step - loss: 0.2838 - accuracy: 0.8883 - val_loss: 0.4018 - val_accuracy: 0.7805\n",
      "Epoch 77/500\n",
      "23/23 [==============================] - 0s 5ms/step - loss: 0.2802 - accuracy: 0.8803 - val_loss: 0.3961 - val_accuracy: 0.7805\n",
      "Epoch 78/500\n",
      "23/23 [==============================] - 0s 5ms/step - loss: 0.2856 - accuracy: 0.8788 - val_loss: 0.3988 - val_accuracy: 0.7927\n",
      "Epoch 79/500\n",
      "23/23 [==============================] - 0s 6ms/step - loss: 0.3464 - accuracy: 0.8692 - val_loss: 0.3956 - val_accuracy: 0.7927\n",
      "Epoch 80/500\n",
      "23/23 [==============================] - 0s 5ms/step - loss: 0.2647 - accuracy: 0.8915 - val_loss: 0.3971 - val_accuracy: 0.7927\n",
      "Epoch 81/500\n",
      "23/23 [==============================] - 0s 5ms/step - loss: 0.2803 - accuracy: 0.8934 - val_loss: 0.4005 - val_accuracy: 0.8049\n",
      "Epoch 82/500\n",
      "23/23 [==============================] - 0s 5ms/step - loss: 0.2980 - accuracy: 0.8858 - val_loss: 0.3976 - val_accuracy: 0.8049\n",
      "Epoch 83/500\n",
      "23/23 [==============================] - 0s 5ms/step - loss: 0.2906 - accuracy: 0.8781 - val_loss: 0.3937 - val_accuracy: 0.8049\n",
      "Epoch 84/500\n",
      "23/23 [==============================] - 0s 5ms/step - loss: 0.2850 - accuracy: 0.8819 - val_loss: 0.3899 - val_accuracy: 0.8171\n",
      "Epoch 85/500\n",
      "23/23 [==============================] - 0s 5ms/step - loss: 0.3031 - accuracy: 0.8766 - val_loss: 0.3905 - val_accuracy: 0.7927\n",
      "Epoch 86/500\n",
      "23/23 [==============================] - 0s 5ms/step - loss: 0.2588 - accuracy: 0.8947 - val_loss: 0.3984 - val_accuracy: 0.8049\n",
      "Epoch 87/500\n",
      "23/23 [==============================] - 0s 5ms/step - loss: 0.2774 - accuracy: 0.8753 - val_loss: 0.4043 - val_accuracy: 0.8049\n",
      "Epoch 88/500\n",
      "23/23 [==============================] - 0s 5ms/step - loss: 0.2972 - accuracy: 0.8828 - val_loss: 0.3955 - val_accuracy: 0.8049\n",
      "Epoch 89/500\n",
      "23/23 [==============================] - 0s 5ms/step - loss: 0.2676 - accuracy: 0.8759 - val_loss: 0.3956 - val_accuracy: 0.7927\n",
      "Epoch 90/500\n",
      "23/23 [==============================] - 0s 5ms/step - loss: 0.3027 - accuracy: 0.8594 - val_loss: 0.3979 - val_accuracy: 0.7927\n",
      "Epoch 91/500\n",
      "23/23 [==============================] - 0s 5ms/step - loss: 0.2536 - accuracy: 0.9043 - val_loss: 0.4061 - val_accuracy: 0.7927\n",
      "Epoch 92/500\n",
      "23/23 [==============================] - 0s 5ms/step - loss: 0.2999 - accuracy: 0.8760 - val_loss: 0.4025 - val_accuracy: 0.7927\n",
      "Epoch 93/500\n",
      "23/23 [==============================] - 0s 6ms/step - loss: 0.2400 - accuracy: 0.8981 - val_loss: 0.4020 - val_accuracy: 0.7927\n",
      "Epoch 94/500\n",
      "23/23 [==============================] - 0s 5ms/step - loss: 0.2702 - accuracy: 0.8919 - val_loss: 0.4052 - val_accuracy: 0.8049\n",
      "Epoch 95/500\n",
      "23/23 [==============================] - 0s 5ms/step - loss: 0.2706 - accuracy: 0.8782 - val_loss: 0.4109 - val_accuracy: 0.7927\n",
      "Epoch 96/500\n",
      "23/23 [==============================] - 0s 5ms/step - loss: 0.2935 - accuracy: 0.8771 - val_loss: 0.4093 - val_accuracy: 0.7927\n",
      "Epoch 97/500\n",
      "23/23 [==============================] - 0s 5ms/step - loss: 0.2786 - accuracy: 0.8765 - val_loss: 0.4093 - val_accuracy: 0.8049\n",
      "Epoch 98/500\n",
      "23/23 [==============================] - 0s 6ms/step - loss: 0.2654 - accuracy: 0.8745 - val_loss: 0.4097 - val_accuracy: 0.8049\n",
      "Epoch 99/500\n",
      "23/23 [==============================] - 0s 5ms/step - loss: 0.2318 - accuracy: 0.8972 - val_loss: 0.4123 - val_accuracy: 0.8049\n",
      "Epoch 100/500\n",
      "23/23 [==============================] - 0s 5ms/step - loss: 0.2379 - accuracy: 0.9080 - val_loss: 0.4132 - val_accuracy: 0.7927\n",
      "Epoch 101/500\n",
      "23/23 [==============================] - 0s 5ms/step - loss: 0.2873 - accuracy: 0.8791 - val_loss: 0.4149 - val_accuracy: 0.7927\n",
      "Epoch 102/500\n",
      "23/23 [==============================] - 0s 5ms/step - loss: 0.3156 - accuracy: 0.8753 - val_loss: 0.4092 - val_accuracy: 0.7927\n",
      "Epoch 103/500\n",
      "23/23 [==============================] - 0s 6ms/step - loss: 0.2962 - accuracy: 0.8968 - val_loss: 0.4045 - val_accuracy: 0.8049\n",
      "Epoch 104/500\n",
      "23/23 [==============================] - 0s 5ms/step - loss: 0.2365 - accuracy: 0.8830 - val_loss: 0.4091 - val_accuracy: 0.8049\n",
      "Epoch 105/500\n",
      "23/23 [==============================] - 0s 5ms/step - loss: 0.2845 - accuracy: 0.8652 - val_loss: 0.4001 - val_accuracy: 0.8049\n",
      "Epoch 106/500\n",
      "23/23 [==============================] - 0s 5ms/step - loss: 0.2421 - accuracy: 0.9042 - val_loss: 0.4032 - val_accuracy: 0.8171\n",
      "Epoch 107/500\n",
      "23/23 [==============================] - 0s 5ms/step - loss: 0.2531 - accuracy: 0.8897 - val_loss: 0.4112 - val_accuracy: 0.8049\n",
      "Epoch 108/500\n",
      "23/23 [==============================] - 0s 5ms/step - loss: 0.2638 - accuracy: 0.8912 - val_loss: 0.4134 - val_accuracy: 0.8049\n",
      "Epoch 109/500\n",
      "23/23 [==============================] - 0s 5ms/step - loss: 0.2534 - accuracy: 0.8937 - val_loss: 0.4137 - val_accuracy: 0.8049\n",
      "Epoch 110/500\n",
      "23/23 [==============================] - 0s 5ms/step - loss: 0.2575 - accuracy: 0.8873 - val_loss: 0.4119 - val_accuracy: 0.8049\n",
      "Epoch 111/500\n",
      "23/23 [==============================] - 0s 5ms/step - loss: 0.2694 - accuracy: 0.8927 - val_loss: 0.4128 - val_accuracy: 0.8049\n",
      "Epoch 112/500\n",
      "23/23 [==============================] - 0s 6ms/step - loss: 0.2544 - accuracy: 0.8938 - val_loss: 0.4106 - val_accuracy: 0.8049\n",
      "Epoch 113/500\n",
      "23/23 [==============================] - 0s 5ms/step - loss: 0.2650 - accuracy: 0.8834 - val_loss: 0.4121 - val_accuracy: 0.8049\n",
      "Epoch 114/500\n",
      "23/23 [==============================] - 0s 5ms/step - loss: 0.2541 - accuracy: 0.9103 - val_loss: 0.4140 - val_accuracy: 0.8049\n",
      "Epoch 115/500\n",
      "23/23 [==============================] - 0s 5ms/step - loss: 0.2478 - accuracy: 0.8948 - val_loss: 0.4175 - val_accuracy: 0.7927\n",
      "Epoch 116/500\n"
     ]
    },
    {
     "name": "stdout",
     "output_type": "stream",
     "text": [
      "23/23 [==============================] - 0s 5ms/step - loss: 0.2623 - accuracy: 0.9015 - val_loss: 0.4131 - val_accuracy: 0.7927\n",
      "Epoch 117/500\n",
      "23/23 [==============================] - 0s 6ms/step - loss: 0.3001 - accuracy: 0.8704 - val_loss: 0.4054 - val_accuracy: 0.7927\n",
      "Epoch 118/500\n",
      "23/23 [==============================] - 0s 5ms/step - loss: 0.2570 - accuracy: 0.9107 - val_loss: 0.4061 - val_accuracy: 0.7927\n",
      "Epoch 119/500\n",
      "23/23 [==============================] - 0s 5ms/step - loss: 0.2360 - accuracy: 0.9152 - val_loss: 0.4043 - val_accuracy: 0.8049\n",
      "Epoch 120/500\n",
      "23/23 [==============================] - 0s 5ms/step - loss: 0.2922 - accuracy: 0.8734 - val_loss: 0.4067 - val_accuracy: 0.7927\n",
      "Epoch 121/500\n",
      "23/23 [==============================] - 0s 5ms/step - loss: 0.2577 - accuracy: 0.8967 - val_loss: 0.4092 - val_accuracy: 0.7927\n",
      "Epoch 122/500\n",
      "23/23 [==============================] - 0s 5ms/step - loss: 0.2909 - accuracy: 0.8902 - val_loss: 0.4088 - val_accuracy: 0.8049\n",
      "Epoch 123/500\n",
      "23/23 [==============================] - 0s 5ms/step - loss: 0.2826 - accuracy: 0.8827 - val_loss: 0.4090 - val_accuracy: 0.7927\n",
      "Epoch 124/500\n",
      "23/23 [==============================] - 0s 5ms/step - loss: 0.2444 - accuracy: 0.9225 - val_loss: 0.4060 - val_accuracy: 0.7927\n",
      "Epoch 125/500\n",
      "23/23 [==============================] - 0s 5ms/step - loss: 0.2474 - accuracy: 0.9105 - val_loss: 0.4039 - val_accuracy: 0.7927\n",
      "Epoch 126/500\n",
      "23/23 [==============================] - 0s 5ms/step - loss: 0.2676 - accuracy: 0.8894 - val_loss: 0.4032 - val_accuracy: 0.8049\n",
      "Epoch 127/500\n",
      "23/23 [==============================] - 0s 5ms/step - loss: 0.2807 - accuracy: 0.8915 - val_loss: 0.4062 - val_accuracy: 0.8049\n",
      "Epoch 128/500\n",
      "23/23 [==============================] - 0s 6ms/step - loss: 0.2419 - accuracy: 0.8902 - val_loss: 0.4064 - val_accuracy: 0.8049\n",
      "Epoch 129/500\n",
      "23/23 [==============================] - 0s 5ms/step - loss: 0.2541 - accuracy: 0.8972 - val_loss: 0.4062 - val_accuracy: 0.8049\n",
      "Epoch 130/500\n",
      "23/23 [==============================] - 0s 5ms/step - loss: 0.2638 - accuracy: 0.9041 - val_loss: 0.4140 - val_accuracy: 0.8049\n",
      "Epoch 131/500\n",
      "23/23 [==============================] - 0s 5ms/step - loss: 0.2711 - accuracy: 0.8895 - val_loss: 0.4053 - val_accuracy: 0.8049\n",
      "Epoch 132/500\n",
      "23/23 [==============================] - 0s 5ms/step - loss: 0.2817 - accuracy: 0.8816 - val_loss: 0.4027 - val_accuracy: 0.8049\n",
      "Epoch 133/500\n",
      "23/23 [==============================] - 0s 5ms/step - loss: 0.2468 - accuracy: 0.8894 - val_loss: 0.3972 - val_accuracy: 0.8049\n",
      "Epoch 134/500\n",
      "23/23 [==============================] - 0s 6ms/step - loss: 0.2401 - accuracy: 0.8852 - val_loss: 0.4018 - val_accuracy: 0.8049\n",
      "Epoch 135/500\n",
      "23/23 [==============================] - 0s 5ms/step - loss: 0.2540 - accuracy: 0.8862 - val_loss: 0.4040 - val_accuracy: 0.8049\n",
      "Epoch 136/500\n",
      "23/23 [==============================] - 0s 5ms/step - loss: 0.3113 - accuracy: 0.8786 - val_loss: 0.4050 - val_accuracy: 0.8049\n",
      "Epoch 137/500\n",
      "23/23 [==============================] - 0s 5ms/step - loss: 0.2267 - accuracy: 0.8982 - val_loss: 0.4114 - val_accuracy: 0.8049\n",
      "Epoch 138/500\n",
      "23/23 [==============================] - 0s 6ms/step - loss: 0.2664 - accuracy: 0.9070 - val_loss: 0.4075 - val_accuracy: 0.8049\n",
      "Epoch 139/500\n",
      "23/23 [==============================] - 0s 8ms/step - loss: 0.2371 - accuracy: 0.9114 - val_loss: 0.4110 - val_accuracy: 0.8049\n",
      "Epoch 140/500\n",
      "23/23 [==============================] - 0s 6ms/step - loss: 0.2456 - accuracy: 0.8893 - val_loss: 0.4148 - val_accuracy: 0.8049\n",
      "Epoch 141/500\n",
      "23/23 [==============================] - 0s 5ms/step - loss: 0.2194 - accuracy: 0.9173 - val_loss: 0.4196 - val_accuracy: 0.8049\n",
      "Epoch 142/500\n",
      "23/23 [==============================] - 0s 6ms/step - loss: 0.2245 - accuracy: 0.9094 - val_loss: 0.4153 - val_accuracy: 0.8049\n",
      "Epoch 143/500\n",
      "23/23 [==============================] - 0s 6ms/step - loss: 0.2642 - accuracy: 0.8961 - val_loss: 0.4119 - val_accuracy: 0.8049\n",
      "Epoch 144/500\n",
      "23/23 [==============================] - 0s 7ms/step - loss: 0.2788 - accuracy: 0.8899 - val_loss: 0.4047 - val_accuracy: 0.8049\n",
      "Epoch 145/500\n",
      "23/23 [==============================] - 0s 7ms/step - loss: 0.2427 - accuracy: 0.9000 - val_loss: 0.4016 - val_accuracy: 0.8049\n",
      "Epoch 146/500\n",
      "23/23 [==============================] - 0s 6ms/step - loss: 0.2771 - accuracy: 0.8834 - val_loss: 0.3968 - val_accuracy: 0.7927\n",
      "Epoch 147/500\n",
      "23/23 [==============================] - 0s 8ms/step - loss: 0.2546 - accuracy: 0.8851 - val_loss: 0.3985 - val_accuracy: 0.7927\n",
      "Epoch 148/500\n",
      "23/23 [==============================] - 0s 6ms/step - loss: 0.2332 - accuracy: 0.9087 - val_loss: 0.3989 - val_accuracy: 0.7927\n",
      "Epoch 149/500\n",
      "23/23 [==============================] - 0s 6ms/step - loss: 0.2459 - accuracy: 0.8949 - val_loss: 0.4079 - val_accuracy: 0.7927\n",
      "Epoch 150/500\n",
      "23/23 [==============================] - 0s 6ms/step - loss: 0.2425 - accuracy: 0.8988 - val_loss: 0.4111 - val_accuracy: 0.7927\n",
      "Epoch 151/500\n",
      "23/23 [==============================] - 0s 6ms/step - loss: 0.2670 - accuracy: 0.8986 - val_loss: 0.4146 - val_accuracy: 0.7927\n",
      "Epoch 152/500\n",
      "23/23 [==============================] - 0s 6ms/step - loss: 0.2370 - accuracy: 0.8946 - val_loss: 0.4148 - val_accuracy: 0.7927\n",
      "Epoch 153/500\n",
      "23/23 [==============================] - 0s 6ms/step - loss: 0.2435 - accuracy: 0.8999 - val_loss: 0.4089 - val_accuracy: 0.7927\n",
      "Epoch 154/500\n",
      "23/23 [==============================] - 0s 6ms/step - loss: 0.2835 - accuracy: 0.8863 - val_loss: 0.4003 - val_accuracy: 0.7927\n",
      "Epoch 155/500\n",
      "23/23 [==============================] - 0s 6ms/step - loss: 0.2500 - accuracy: 0.9032 - val_loss: 0.4043 - val_accuracy: 0.7927\n",
      "Epoch 156/500\n",
      "23/23 [==============================] - 0s 7ms/step - loss: 0.2358 - accuracy: 0.8876 - val_loss: 0.4059 - val_accuracy: 0.7927\n",
      "Epoch 157/500\n",
      "23/23 [==============================] - 0s 6ms/step - loss: 0.2259 - accuracy: 0.9151 - val_loss: 0.4167 - val_accuracy: 0.7927\n",
      "Epoch 158/500\n",
      "23/23 [==============================] - 0s 5ms/step - loss: 0.2451 - accuracy: 0.9009 - val_loss: 0.4193 - val_accuracy: 0.7927\n",
      "Epoch 159/500\n",
      "23/23 [==============================] - 0s 6ms/step - loss: 0.2368 - accuracy: 0.9055 - val_loss: 0.4128 - val_accuracy: 0.7927\n",
      "Epoch 160/500\n",
      "23/23 [==============================] - 0s 7ms/step - loss: 0.2373 - accuracy: 0.8880 - val_loss: 0.4119 - val_accuracy: 0.7927\n",
      "Epoch 161/500\n",
      "23/23 [==============================] - 0s 6ms/step - loss: 0.2431 - accuracy: 0.9010 - val_loss: 0.4187 - val_accuracy: 0.7927\n",
      "Epoch 162/500\n",
      "23/23 [==============================] - 0s 7ms/step - loss: 0.2768 - accuracy: 0.8703 - val_loss: 0.4162 - val_accuracy: 0.7927\n",
      "Epoch 163/500\n",
      "23/23 [==============================] - 0s 8ms/step - loss: 0.2575 - accuracy: 0.8823 - val_loss: 0.4153 - val_accuracy: 0.7927\n",
      "Epoch 164/500\n",
      "23/23 [==============================] - 0s 6ms/step - loss: 0.2485 - accuracy: 0.8923 - val_loss: 0.4183 - val_accuracy: 0.7927\n",
      "Epoch 165/500\n",
      "23/23 [==============================] - 0s 6ms/step - loss: 0.2686 - accuracy: 0.8793 - val_loss: 0.4152 - val_accuracy: 0.7927\n",
      "Epoch 166/500\n",
      "23/23 [==============================] - 0s 8ms/step - loss: 0.2254 - accuracy: 0.9062 - val_loss: 0.4163 - val_accuracy: 0.7927\n",
      "Epoch 167/500\n",
      "23/23 [==============================] - 0s 6ms/step - loss: 0.2638 - accuracy: 0.8980 - val_loss: 0.4066 - val_accuracy: 0.7927\n",
      "Epoch 168/500\n",
      "23/23 [==============================] - 0s 6ms/step - loss: 0.2474 - accuracy: 0.9001 - val_loss: 0.4105 - val_accuracy: 0.7927\n",
      "Epoch 169/500\n",
      "23/23 [==============================] - 0s 8ms/step - loss: 0.2373 - accuracy: 0.8964 - val_loss: 0.4137 - val_accuracy: 0.7927\n",
      "Epoch 170/500\n",
      "23/23 [==============================] - 0s 6ms/step - loss: 0.2649 - accuracy: 0.8748 - val_loss: 0.4174 - val_accuracy: 0.7927\n",
      "Epoch 171/500\n",
      "23/23 [==============================] - 0s 6ms/step - loss: 0.2091 - accuracy: 0.9222 - val_loss: 0.4218 - val_accuracy: 0.7927\n",
      "Epoch 172/500\n",
      "23/23 [==============================] - 0s 7ms/step - loss: 0.2400 - accuracy: 0.9016 - val_loss: 0.4273 - val_accuracy: 0.7927\n",
      "Epoch 173/500\n"
     ]
    },
    {
     "name": "stdout",
     "output_type": "stream",
     "text": [
      "23/23 [==============================] - 0s 6ms/step - loss: 0.2309 - accuracy: 0.9246 - val_loss: 0.4244 - val_accuracy: 0.7927\n",
      "Epoch 174/500\n",
      "23/23 [==============================] - 0s 5ms/step - loss: 0.2353 - accuracy: 0.8885 - val_loss: 0.4260 - val_accuracy: 0.7927\n",
      "Epoch 175/500\n",
      "23/23 [==============================] - 0s 6ms/step - loss: 0.2211 - accuracy: 0.9156 - val_loss: 0.4246 - val_accuracy: 0.7927\n",
      "Epoch 176/500\n",
      "23/23 [==============================] - 0s 5ms/step - loss: 0.2604 - accuracy: 0.8852 - val_loss: 0.4277 - val_accuracy: 0.8049\n",
      "Epoch 177/500\n",
      "23/23 [==============================] - 0s 6ms/step - loss: 0.2656 - accuracy: 0.8839 - val_loss: 0.4344 - val_accuracy: 0.7927\n",
      "Epoch 178/500\n",
      "23/23 [==============================] - 0s 10ms/step - loss: 0.2131 - accuracy: 0.9098 - val_loss: 0.4451 - val_accuracy: 0.7927\n",
      "Epoch 179/500\n",
      "23/23 [==============================] - 0s 6ms/step - loss: 0.2284 - accuracy: 0.9173 - val_loss: 0.4391 - val_accuracy: 0.7927\n",
      "Epoch 180/500\n",
      "23/23 [==============================] - 0s 10ms/step - loss: 0.2204 - accuracy: 0.9220 - val_loss: 0.4485 - val_accuracy: 0.7927\n",
      "Epoch 181/500\n",
      "23/23 [==============================] - 0s 7ms/step - loss: 0.2516 - accuracy: 0.9164 - val_loss: 0.4603 - val_accuracy: 0.7927\n",
      "Epoch 182/500\n",
      "23/23 [==============================] - 0s 6ms/step - loss: 0.2520 - accuracy: 0.9054 - val_loss: 0.4584 - val_accuracy: 0.7927\n",
      "Epoch 183/500\n",
      "23/23 [==============================] - 0s 10ms/step - loss: 0.2401 - accuracy: 0.9122 - val_loss: 0.4589 - val_accuracy: 0.7927\n",
      "Epoch 184/500\n",
      "23/23 [==============================] - 0s 6ms/step - loss: 0.2513 - accuracy: 0.9046 - val_loss: 0.4426 - val_accuracy: 0.7927\n",
      "Epoch 185/500\n",
      "23/23 [==============================] - 0s 6ms/step - loss: 0.2581 - accuracy: 0.8899 - val_loss: 0.4289 - val_accuracy: 0.7927\n",
      "Epoch 186/500\n",
      "23/23 [==============================] - 0s 9ms/step - loss: 0.2190 - accuracy: 0.9081 - val_loss: 0.4429 - val_accuracy: 0.7927\n",
      "Epoch 187/500\n",
      "23/23 [==============================] - 0s 6ms/step - loss: 0.1780 - accuracy: 0.9235 - val_loss: 0.4529 - val_accuracy: 0.7927\n",
      "Epoch 188/500\n",
      "23/23 [==============================] - 0s 6ms/step - loss: 0.2702 - accuracy: 0.8769 - val_loss: 0.4384 - val_accuracy: 0.7927\n",
      "Epoch 189/500\n",
      "23/23 [==============================] - 0s 8ms/step - loss: 0.2185 - accuracy: 0.9083 - val_loss: 0.4431 - val_accuracy: 0.7927\n",
      "Epoch 190/500\n",
      "23/23 [==============================] - 0s 6ms/step - loss: 0.2281 - accuracy: 0.9107 - val_loss: 0.4525 - val_accuracy: 0.7927\n",
      "Epoch 191/500\n",
      "23/23 [==============================] - 0s 8ms/step - loss: 0.2198 - accuracy: 0.9070 - val_loss: 0.4598 - val_accuracy: 0.7927\n",
      "Epoch 192/500\n",
      "23/23 [==============================] - 0s 6ms/step - loss: 0.2236 - accuracy: 0.9103 - val_loss: 0.4576 - val_accuracy: 0.7927\n",
      "Epoch 193/500\n",
      "23/23 [==============================] - 0s 7ms/step - loss: 0.2313 - accuracy: 0.8943 - val_loss: 0.4544 - val_accuracy: 0.7927\n",
      "Epoch 194/500\n",
      "23/23 [==============================] - 0s 6ms/step - loss: 0.2211 - accuracy: 0.9186 - val_loss: 0.4378 - val_accuracy: 0.7927\n",
      "Epoch 195/500\n",
      "23/23 [==============================] - 0s 6ms/step - loss: 0.2020 - accuracy: 0.9191 - val_loss: 0.4386 - val_accuracy: 0.7927\n",
      "Epoch 196/500\n",
      "23/23 [==============================] - 0s 6ms/step - loss: 0.2349 - accuracy: 0.9108 - val_loss: 0.4375 - val_accuracy: 0.7927\n",
      "Epoch 197/500\n",
      "23/23 [==============================] - 0s 6ms/step - loss: 0.2155 - accuracy: 0.9244 - val_loss: 0.4471 - val_accuracy: 0.7927\n",
      "Epoch 198/500\n",
      "23/23 [==============================] - 0s 7ms/step - loss: 0.2385 - accuracy: 0.8994 - val_loss: 0.4459 - val_accuracy: 0.7927\n",
      "Epoch 199/500\n",
      "23/23 [==============================] - 0s 6ms/step - loss: 0.2326 - accuracy: 0.9074 - val_loss: 0.4423 - val_accuracy: 0.7927\n",
      "Epoch 200/500\n",
      "23/23 [==============================] - 0s 5ms/step - loss: 0.2372 - accuracy: 0.9060 - val_loss: 0.4476 - val_accuracy: 0.7927\n",
      "Epoch 201/500\n",
      "23/23 [==============================] - 0s 6ms/step - loss: 0.2117 - accuracy: 0.9055 - val_loss: 0.4560 - val_accuracy: 0.7927\n",
      "Epoch 202/500\n",
      "23/23 [==============================] - 0s 6ms/step - loss: 0.2486 - accuracy: 0.9004 - val_loss: 0.4377 - val_accuracy: 0.8049\n",
      "Epoch 203/500\n",
      "23/23 [==============================] - 0s 8ms/step - loss: 0.2455 - accuracy: 0.9066 - val_loss: 0.4325 - val_accuracy: 0.8049\n",
      "Epoch 204/500\n",
      "23/23 [==============================] - 0s 14ms/step - loss: 0.2203 - accuracy: 0.9158 - val_loss: 0.4375 - val_accuracy: 0.8049\n",
      "Epoch 205/500\n",
      "23/23 [==============================] - 0s 8ms/step - loss: 0.2424 - accuracy: 0.8938 - val_loss: 0.4411 - val_accuracy: 0.8049\n",
      "Epoch 206/500\n",
      "23/23 [==============================] - 0s 6ms/step - loss: 0.2105 - accuracy: 0.9135 - val_loss: 0.4393 - val_accuracy: 0.8049\n",
      "Epoch 207/500\n",
      "23/23 [==============================] - 0s 6ms/step - loss: 0.2069 - accuracy: 0.9197 - val_loss: 0.4477 - val_accuracy: 0.7927\n",
      "Epoch 208/500\n",
      "23/23 [==============================] - 0s 6ms/step - loss: 0.2302 - accuracy: 0.9188 - val_loss: 0.4504 - val_accuracy: 0.7927\n",
      "Epoch 209/500\n",
      "23/23 [==============================] - 0s 7ms/step - loss: 0.2659 - accuracy: 0.8931 - val_loss: 0.4470 - val_accuracy: 0.7927\n",
      "Epoch 210/500\n",
      "23/23 [==============================] - 0s 7ms/step - loss: 0.2362 - accuracy: 0.8958 - val_loss: 0.4492 - val_accuracy: 0.7927\n",
      "Epoch 211/500\n",
      "23/23 [==============================] - 0s 6ms/step - loss: 0.2367 - accuracy: 0.8906 - val_loss: 0.4562 - val_accuracy: 0.7805\n",
      "Epoch 212/500\n",
      "23/23 [==============================] - 0s 6ms/step - loss: 0.2438 - accuracy: 0.9142 - val_loss: 0.4671 - val_accuracy: 0.7805\n",
      "Epoch 213/500\n",
      "23/23 [==============================] - 0s 7ms/step - loss: 0.2265 - accuracy: 0.8978 - val_loss: 0.4584 - val_accuracy: 0.7805\n",
      "Epoch 214/500\n",
      "23/23 [==============================] - 0s 8ms/step - loss: 0.2031 - accuracy: 0.9200 - val_loss: 0.4679 - val_accuracy: 0.7927\n",
      "Epoch 215/500\n",
      "23/23 [==============================] - 0s 7ms/step - loss: 0.2396 - accuracy: 0.9044 - val_loss: 0.4729 - val_accuracy: 0.7805\n",
      "Epoch 216/500\n",
      "23/23 [==============================] - 0s 6ms/step - loss: 0.2453 - accuracy: 0.8985 - val_loss: 0.4677 - val_accuracy: 0.7927\n",
      "Epoch 217/500\n",
      "23/23 [==============================] - 0s 6ms/step - loss: 0.2119 - accuracy: 0.9272 - val_loss: 0.4818 - val_accuracy: 0.7683\n",
      "Epoch 218/500\n",
      "23/23 [==============================] - 0s 6ms/step - loss: 0.2567 - accuracy: 0.8983 - val_loss: 0.4775 - val_accuracy: 0.7805\n",
      "Epoch 219/500\n",
      "23/23 [==============================] - 0s 6ms/step - loss: 0.2630 - accuracy: 0.8816 - val_loss: 0.4803 - val_accuracy: 0.7683\n",
      "Epoch 220/500\n",
      "23/23 [==============================] - 0s 8ms/step - loss: 0.2485 - accuracy: 0.9071 - val_loss: 0.4895 - val_accuracy: 0.7683\n",
      "Epoch 221/500\n",
      "23/23 [==============================] - 0s 8ms/step - loss: 0.2308 - accuracy: 0.9196 - val_loss: 0.4870 - val_accuracy: 0.7683\n",
      "Epoch 222/500\n",
      "23/23 [==============================] - 0s 8ms/step - loss: 0.2029 - accuracy: 0.9214 - val_loss: 0.4902 - val_accuracy: 0.7683\n",
      "Epoch 223/500\n",
      "23/23 [==============================] - 0s 6ms/step - loss: 0.2491 - accuracy: 0.9105 - val_loss: 0.4829 - val_accuracy: 0.7683\n",
      "Epoch 224/500\n",
      "23/23 [==============================] - 0s 6ms/step - loss: 0.2416 - accuracy: 0.9039 - val_loss: 0.4868 - val_accuracy: 0.7683\n",
      "Epoch 225/500\n",
      "23/23 [==============================] - 0s 12ms/step - loss: 0.2124 - accuracy: 0.9172 - val_loss: 0.4851 - val_accuracy: 0.7683\n",
      "Epoch 226/500\n",
      "23/23 [==============================] - 0s 9ms/step - loss: 0.2265 - accuracy: 0.9162 - val_loss: 0.4747 - val_accuracy: 0.8049\n",
      "Epoch 227/500\n",
      "23/23 [==============================] - 0s 13ms/step - loss: 0.2261 - accuracy: 0.9193 - val_loss: 0.4711 - val_accuracy: 0.7805\n",
      "Epoch 228/500\n",
      "23/23 [==============================] - 0s 7ms/step - loss: 0.2114 - accuracy: 0.9139 - val_loss: 0.4833 - val_accuracy: 0.7683\n",
      "Epoch 229/500\n",
      "23/23 [==============================] - 0s 9ms/step - loss: 0.2148 - accuracy: 0.9100 - val_loss: 0.4930 - val_accuracy: 0.7683\n",
      "Epoch 230/500\n"
     ]
    },
    {
     "name": "stdout",
     "output_type": "stream",
     "text": [
      "23/23 [==============================] - 0s 8ms/step - loss: 0.2396 - accuracy: 0.9019 - val_loss: 0.4828 - val_accuracy: 0.7683\n",
      "Epoch 231/500\n",
      "23/23 [==============================] - 0s 8ms/step - loss: 0.2071 - accuracy: 0.9069 - val_loss: 0.4917 - val_accuracy: 0.7683\n",
      "Epoch 232/500\n",
      "23/23 [==============================] - 0s 10ms/step - loss: 0.2255 - accuracy: 0.9099 - val_loss: 0.4780 - val_accuracy: 0.7805\n",
      "Epoch 233/500\n",
      "23/23 [==============================] - 0s 6ms/step - loss: 0.1964 - accuracy: 0.9258 - val_loss: 0.4914 - val_accuracy: 0.7805\n",
      "Epoch 234/500\n",
      "23/23 [==============================] - 0s 7ms/step - loss: 0.2511 - accuracy: 0.8932 - val_loss: 0.4821 - val_accuracy: 0.7927\n",
      "Epoch 235/500\n",
      "23/23 [==============================] - 0s 5ms/step - loss: 0.2497 - accuracy: 0.9024 - val_loss: 0.4732 - val_accuracy: 0.7927\n",
      "Epoch 236/500\n",
      "23/23 [==============================] - 0s 7ms/step - loss: 0.1987 - accuracy: 0.9216 - val_loss: 0.4762 - val_accuracy: 0.7927\n",
      "Epoch 237/500\n",
      "23/23 [==============================] - 0s 8ms/step - loss: 0.2685 - accuracy: 0.8841 - val_loss: 0.4768 - val_accuracy: 0.7805\n",
      "Epoch 238/500\n",
      "23/23 [==============================] - 0s 6ms/step - loss: 0.2397 - accuracy: 0.9004 - val_loss: 0.4885 - val_accuracy: 0.7683\n",
      "Epoch 239/500\n",
      "23/23 [==============================] - 0s 7ms/step - loss: 0.2231 - accuracy: 0.9068 - val_loss: 0.4940 - val_accuracy: 0.7683\n",
      "Epoch 240/500\n",
      "23/23 [==============================] - 0s 6ms/step - loss: 0.2136 - accuracy: 0.9092 - val_loss: 0.4889 - val_accuracy: 0.7683\n",
      "Epoch 241/500\n",
      "23/23 [==============================] - 0s 7ms/step - loss: 0.2011 - accuracy: 0.9271 - val_loss: 0.4980 - val_accuracy: 0.7683\n",
      "Epoch 242/500\n",
      "23/23 [==============================] - 0s 7ms/step - loss: 0.2068 - accuracy: 0.9222 - val_loss: 0.5000 - val_accuracy: 0.7683\n",
      "Epoch 243/500\n",
      "23/23 [==============================] - 0s 7ms/step - loss: 0.2393 - accuracy: 0.9039 - val_loss: 0.4905 - val_accuracy: 0.7683\n",
      "Epoch 244/500\n",
      "23/23 [==============================] - 0s 6ms/step - loss: 0.2098 - accuracy: 0.9111 - val_loss: 0.4909 - val_accuracy: 0.7683\n",
      "Epoch 245/500\n",
      "23/23 [==============================] - 0s 6ms/step - loss: 0.2285 - accuracy: 0.9020 - val_loss: 0.4938 - val_accuracy: 0.7683\n",
      "Epoch 246/500\n",
      "23/23 [==============================] - 0s 12ms/step - loss: 0.2163 - accuracy: 0.9173 - val_loss: 0.4897 - val_accuracy: 0.7683\n",
      "Epoch 247/500\n",
      "23/23 [==============================] - 0s 11ms/step - loss: 0.2030 - accuracy: 0.9144 - val_loss: 0.5016 - val_accuracy: 0.7683\n",
      "Epoch 248/500\n",
      "23/23 [==============================] - 0s 9ms/step - loss: 0.2416 - accuracy: 0.8853 - val_loss: 0.5050 - val_accuracy: 0.7683\n",
      "Epoch 249/500\n",
      "23/23 [==============================] - 0s 6ms/step - loss: 0.2330 - accuracy: 0.8986 - val_loss: 0.4911 - val_accuracy: 0.7683\n",
      "Epoch 250/500\n",
      "23/23 [==============================] - 0s 6ms/step - loss: 0.2231 - accuracy: 0.9153 - val_loss: 0.4990 - val_accuracy: 0.7683\n",
      "Epoch 251/500\n",
      "23/23 [==============================] - 0s 5ms/step - loss: 0.2246 - accuracy: 0.9142 - val_loss: 0.5024 - val_accuracy: 0.7683\n",
      "Epoch 252/500\n",
      "23/23 [==============================] - 0s 7ms/step - loss: 0.2289 - accuracy: 0.9046 - val_loss: 0.5006 - val_accuracy: 0.7683\n",
      "Epoch 253/500\n",
      "23/23 [==============================] - 0s 11ms/step - loss: 0.1970 - accuracy: 0.9347 - val_loss: 0.5069 - val_accuracy: 0.7683\n",
      "Epoch 254/500\n",
      "23/23 [==============================] - 0s 16ms/step - loss: 0.1824 - accuracy: 0.9381 - val_loss: 0.5159 - val_accuracy: 0.7683\n",
      "Epoch 255/500\n",
      "23/23 [==============================] - 0s 15ms/step - loss: 0.2544 - accuracy: 0.9046 - val_loss: 0.5289 - val_accuracy: 0.7683\n",
      "Epoch 256/500\n",
      "23/23 [==============================] - 0s 10ms/step - loss: 0.2314 - accuracy: 0.9177 - val_loss: 0.5157 - val_accuracy: 0.7683\n",
      "Epoch 257/500\n",
      "23/23 [==============================] - 0s 6ms/step - loss: 0.1984 - accuracy: 0.9150 - val_loss: 0.5213 - val_accuracy: 0.7683\n",
      "Epoch 258/500\n",
      "23/23 [==============================] - 0s 7ms/step - loss: 0.1801 - accuracy: 0.9256 - val_loss: 0.5347 - val_accuracy: 0.7683\n",
      "Epoch 259/500\n",
      "23/23 [==============================] - 0s 9ms/step - loss: 0.1951 - accuracy: 0.9267 - val_loss: 0.5366 - val_accuracy: 0.7683\n",
      "Epoch 260/500\n",
      "23/23 [==============================] - 0s 10ms/step - loss: 0.1946 - accuracy: 0.9256 - val_loss: 0.5350 - val_accuracy: 0.7683\n",
      "Epoch 261/500\n",
      "23/23 [==============================] - 0s 6ms/step - loss: 0.2020 - accuracy: 0.9254 - val_loss: 0.5348 - val_accuracy: 0.7683\n",
      "Epoch 262/500\n",
      "23/23 [==============================] - 0s 6ms/step - loss: 0.2604 - accuracy: 0.9061 - val_loss: 0.5265 - val_accuracy: 0.7683\n",
      "Epoch 263/500\n",
      "23/23 [==============================] - 0s 6ms/step - loss: 0.2079 - accuracy: 0.9168 - val_loss: 0.5420 - val_accuracy: 0.7683\n",
      "Epoch 264/500\n",
      "23/23 [==============================] - 0s 8ms/step - loss: 0.2192 - accuracy: 0.9099 - val_loss: 0.5303 - val_accuracy: 0.7683\n",
      "Epoch 265/500\n",
      "23/23 [==============================] - 0s 6ms/step - loss: 0.2110 - accuracy: 0.9175 - val_loss: 0.5219 - val_accuracy: 0.7683\n",
      "Epoch 266/500\n",
      "23/23 [==============================] - 0s 5ms/step - loss: 0.2415 - accuracy: 0.9037 - val_loss: 0.5439 - val_accuracy: 0.7683\n",
      "Epoch 267/500\n",
      "23/23 [==============================] - 0s 6ms/step - loss: 0.2077 - accuracy: 0.9123 - val_loss: 0.5303 - val_accuracy: 0.7683\n",
      "Epoch 268/500\n",
      "23/23 [==============================] - 0s 7ms/step - loss: 0.2374 - accuracy: 0.8991 - val_loss: 0.5277 - val_accuracy: 0.7683\n",
      "Epoch 269/500\n",
      "23/23 [==============================] - 0s 10ms/step - loss: 0.2397 - accuracy: 0.8948 - val_loss: 0.5288 - val_accuracy: 0.7683\n",
      "Epoch 270/500\n",
      "23/23 [==============================] - 0s 9ms/step - loss: 0.2189 - accuracy: 0.9254 - val_loss: 0.5315 - val_accuracy: 0.7683\n",
      "Epoch 271/500\n",
      "23/23 [==============================] - 0s 12ms/step - loss: 0.2331 - accuracy: 0.8857 - val_loss: 0.5377 - val_accuracy: 0.7683\n",
      "Epoch 272/500\n",
      "23/23 [==============================] - 0s 13ms/step - loss: 0.2161 - accuracy: 0.9098 - val_loss: 0.5419 - val_accuracy: 0.7683\n",
      "Epoch 273/500\n",
      "23/23 [==============================] - 0s 6ms/step - loss: 0.2375 - accuracy: 0.8955 - val_loss: 0.5488 - val_accuracy: 0.7683\n",
      "Epoch 274/500\n",
      "23/23 [==============================] - 0s 8ms/step - loss: 0.2061 - accuracy: 0.9146 - val_loss: 0.5419 - val_accuracy: 0.7683\n",
      "Epoch 275/500\n",
      "23/23 [==============================] - 0s 6ms/step - loss: 0.1978 - accuracy: 0.9224 - val_loss: 0.5291 - val_accuracy: 0.7683\n",
      "Epoch 276/500\n",
      "23/23 [==============================] - 0s 6ms/step - loss: 0.2030 - accuracy: 0.9087 - val_loss: 0.5274 - val_accuracy: 0.7805\n",
      "Epoch 277/500\n",
      "23/23 [==============================] - 0s 5ms/step - loss: 0.2104 - accuracy: 0.9064 - val_loss: 0.5301 - val_accuracy: 0.7683\n",
      "Epoch 278/500\n",
      "23/23 [==============================] - 0s 5ms/step - loss: 0.2041 - accuracy: 0.9005 - val_loss: 0.5420 - val_accuracy: 0.7683\n",
      "Epoch 279/500\n",
      "23/23 [==============================] - 0s 5ms/step - loss: 0.1959 - accuracy: 0.9250 - val_loss: 0.5491 - val_accuracy: 0.7683\n",
      "Epoch 280/500\n",
      "23/23 [==============================] - 0s 5ms/step - loss: 0.2273 - accuracy: 0.9189 - val_loss: 0.5442 - val_accuracy: 0.7805\n",
      "Epoch 281/500\n",
      "23/23 [==============================] - 0s 5ms/step - loss: 0.2386 - accuracy: 0.9001 - val_loss: 0.5429 - val_accuracy: 0.7805\n",
      "Epoch 282/500\n",
      "23/23 [==============================] - 0s 5ms/step - loss: 0.2552 - accuracy: 0.8933 - val_loss: 0.5302 - val_accuracy: 0.7805\n",
      "Epoch 283/500\n",
      "23/23 [==============================] - 0s 5ms/step - loss: 0.2149 - accuracy: 0.9106 - val_loss: 0.5412 - val_accuracy: 0.7805\n",
      "Epoch 284/500\n",
      "23/23 [==============================] - 0s 6ms/step - loss: 0.2145 - accuracy: 0.9085 - val_loss: 0.5484 - val_accuracy: 0.7683\n",
      "Epoch 285/500\n",
      "23/23 [==============================] - 0s 6ms/step - loss: 0.2312 - accuracy: 0.9033 - val_loss: 0.5540 - val_accuracy: 0.7805\n",
      "Epoch 286/500\n",
      "23/23 [==============================] - 0s 6ms/step - loss: 0.2193 - accuracy: 0.9227 - val_loss: 0.5574 - val_accuracy: 0.7805\n",
      "Epoch 287/500\n"
     ]
    },
    {
     "name": "stdout",
     "output_type": "stream",
     "text": [
      "23/23 [==============================] - 0s 6ms/step - loss: 0.2360 - accuracy: 0.8986 - val_loss: 0.5633 - val_accuracy: 0.7683\n",
      "Epoch 288/500\n",
      "23/23 [==============================] - 0s 6ms/step - loss: 0.1880 - accuracy: 0.9399 - val_loss: 0.5633 - val_accuracy: 0.7683\n",
      "Epoch 289/500\n",
      "23/23 [==============================] - 0s 8ms/step - loss: 0.2376 - accuracy: 0.9163 - val_loss: 0.5492 - val_accuracy: 0.7805\n",
      "Epoch 290/500\n",
      "23/23 [==============================] - 0s 5ms/step - loss: 0.2392 - accuracy: 0.8926 - val_loss: 0.5510 - val_accuracy: 0.7805\n",
      "Epoch 291/500\n",
      "23/23 [==============================] - 0s 8ms/step - loss: 0.1988 - accuracy: 0.9221 - val_loss: 0.5384 - val_accuracy: 0.7805\n",
      "Epoch 292/500\n",
      "23/23 [==============================] - 0s 11ms/step - loss: 0.2108 - accuracy: 0.9054 - val_loss: 0.5362 - val_accuracy: 0.7805\n",
      "Epoch 293/500\n",
      "23/23 [==============================] - 0s 10ms/step - loss: 0.1812 - accuracy: 0.9196 - val_loss: 0.5411 - val_accuracy: 0.7805\n",
      "Epoch 294/500\n",
      "23/23 [==============================] - 0s 7ms/step - loss: 0.1847 - accuracy: 0.9281 - val_loss: 0.5481 - val_accuracy: 0.7805\n",
      "Epoch 295/500\n",
      "23/23 [==============================] - 0s 6ms/step - loss: 0.2255 - accuracy: 0.9032 - val_loss: 0.5605 - val_accuracy: 0.7805\n",
      "Epoch 296/500\n",
      "23/23 [==============================] - 0s 5ms/step - loss: 0.1903 - accuracy: 0.9197 - val_loss: 0.5658 - val_accuracy: 0.7805\n",
      "Epoch 297/500\n",
      "23/23 [==============================] - 0s 5ms/step - loss: 0.2128 - accuracy: 0.9051 - val_loss: 0.5610 - val_accuracy: 0.7805\n",
      "Epoch 298/500\n",
      "23/23 [==============================] - 0s 11ms/step - loss: 0.1982 - accuracy: 0.9059 - val_loss: 0.5597 - val_accuracy: 0.7927\n",
      "Epoch 299/500\n",
      "23/23 [==============================] - 0s 6ms/step - loss: 0.2084 - accuracy: 0.9210 - val_loss: 0.5646 - val_accuracy: 0.8049\n",
      "Epoch 300/500\n",
      "23/23 [==============================] - 0s 6ms/step - loss: 0.2115 - accuracy: 0.9088 - val_loss: 0.5699 - val_accuracy: 0.8049\n",
      "Epoch 301/500\n",
      "23/23 [==============================] - 0s 5ms/step - loss: 0.2116 - accuracy: 0.9098 - val_loss: 0.5511 - val_accuracy: 0.7927\n",
      "Epoch 302/500\n",
      "23/23 [==============================] - 0s 5ms/step - loss: 0.1933 - accuracy: 0.9379 - val_loss: 0.5521 - val_accuracy: 0.7927\n",
      "Epoch 303/500\n",
      "23/23 [==============================] - 0s 5ms/step - loss: 0.2113 - accuracy: 0.9212 - val_loss: 0.5665 - val_accuracy: 0.7927\n",
      "Epoch 304/500\n",
      "23/23 [==============================] - 0s 5ms/step - loss: 0.2194 - accuracy: 0.8992 - val_loss: 0.5449 - val_accuracy: 0.7927\n",
      "Epoch 305/500\n",
      "23/23 [==============================] - 0s 6ms/step - loss: 0.2180 - accuracy: 0.9005 - val_loss: 0.5505 - val_accuracy: 0.7927\n",
      "Epoch 306/500\n",
      "23/23 [==============================] - 0s 7ms/step - loss: 0.1934 - accuracy: 0.9274 - val_loss: 0.5662 - val_accuracy: 0.7927\n",
      "Epoch 307/500\n",
      "23/23 [==============================] - 0s 5ms/step - loss: 0.2318 - accuracy: 0.9149 - val_loss: 0.5714 - val_accuracy: 0.7927\n",
      "Epoch 308/500\n",
      "23/23 [==============================] - 0s 5ms/step - loss: 0.2072 - accuracy: 0.9230 - val_loss: 0.5738 - val_accuracy: 0.7927\n",
      "Epoch 309/500\n",
      "23/23 [==============================] - 0s 5ms/step - loss: 0.2077 - accuracy: 0.9129 - val_loss: 0.5861 - val_accuracy: 0.7805\n",
      "Epoch 310/500\n",
      "23/23 [==============================] - 0s 8ms/step - loss: 0.2410 - accuracy: 0.8894 - val_loss: 0.5862 - val_accuracy: 0.7805\n",
      "Epoch 311/500\n",
      "23/23 [==============================] - 0s 8ms/step - loss: 0.1854 - accuracy: 0.9198 - val_loss: 0.5953 - val_accuracy: 0.7805\n",
      "Epoch 312/500\n",
      "23/23 [==============================] - 0s 5ms/step - loss: 0.2133 - accuracy: 0.9252 - val_loss: 0.5770 - val_accuracy: 0.7927\n",
      "Epoch 313/500\n",
      "23/23 [==============================] - 0s 5ms/step - loss: 0.1954 - accuracy: 0.9234 - val_loss: 0.5748 - val_accuracy: 0.7927\n",
      "Epoch 314/500\n",
      "23/23 [==============================] - 0s 5ms/step - loss: 0.2041 - accuracy: 0.9268 - val_loss: 0.5804 - val_accuracy: 0.7927\n",
      "Epoch 315/500\n",
      "23/23 [==============================] - 0s 5ms/step - loss: 0.2027 - accuracy: 0.9097 - val_loss: 0.5838 - val_accuracy: 0.7927\n",
      "Epoch 316/500\n",
      "23/23 [==============================] - 0s 5ms/step - loss: 0.2280 - accuracy: 0.8996 - val_loss: 0.5905 - val_accuracy: 0.7927\n",
      "Epoch 317/500\n",
      "23/23 [==============================] - 0s 6ms/step - loss: 0.2126 - accuracy: 0.9059 - val_loss: 0.5809 - val_accuracy: 0.7927\n",
      "Epoch 318/500\n",
      "23/23 [==============================] - 0s 8ms/step - loss: 0.2254 - accuracy: 0.9061 - val_loss: 0.5811 - val_accuracy: 0.7927\n",
      "Epoch 319/500\n",
      "23/23 [==============================] - 0s 11ms/step - loss: 0.2027 - accuracy: 0.9278 - val_loss: 0.5972 - val_accuracy: 0.7805\n",
      "Epoch 320/500\n",
      "23/23 [==============================] - 0s 7ms/step - loss: 0.1774 - accuracy: 0.9114 - val_loss: 0.6072 - val_accuracy: 0.7927\n",
      "Epoch 321/500\n",
      "23/23 [==============================] - 0s 6ms/step - loss: 0.2177 - accuracy: 0.8933 - val_loss: 0.5976 - val_accuracy: 0.7927\n",
      "Epoch 322/500\n",
      "23/23 [==============================] - 0s 6ms/step - loss: 0.1973 - accuracy: 0.9262 - val_loss: 0.5916 - val_accuracy: 0.7805\n",
      "Epoch 323/500\n",
      "23/23 [==============================] - 0s 6ms/step - loss: 0.1893 - accuracy: 0.9184 - val_loss: 0.5931 - val_accuracy: 0.7805\n",
      "Epoch 324/500\n",
      "23/23 [==============================] - 0s 5ms/step - loss: 0.2090 - accuracy: 0.9086 - val_loss: 0.5886 - val_accuracy: 0.7927\n",
      "Epoch 325/500\n",
      "23/23 [==============================] - 0s 6ms/step - loss: 0.1691 - accuracy: 0.9488 - val_loss: 0.5944 - val_accuracy: 0.7927\n",
      "Epoch 326/500\n",
      "23/23 [==============================] - 0s 8ms/step - loss: 0.1809 - accuracy: 0.9240 - val_loss: 0.6071 - val_accuracy: 0.7805\n",
      "Epoch 327/500\n",
      "23/23 [==============================] - 0s 10ms/step - loss: 0.1822 - accuracy: 0.9209 - val_loss: 0.6067 - val_accuracy: 0.7927\n",
      "Epoch 328/500\n",
      "23/23 [==============================] - 0s 7ms/step - loss: 0.2082 - accuracy: 0.9255 - val_loss: 0.5926 - val_accuracy: 0.7927\n",
      "Epoch 329/500\n",
      "23/23 [==============================] - 0s 8ms/step - loss: 0.1876 - accuracy: 0.9189 - val_loss: 0.5990 - val_accuracy: 0.7927\n",
      "Epoch 330/500\n",
      "23/23 [==============================] - 0s 5ms/step - loss: 0.2023 - accuracy: 0.9245 - val_loss: 0.6010 - val_accuracy: 0.7927\n",
      "Epoch 331/500\n",
      "23/23 [==============================] - 0s 5ms/step - loss: 0.1778 - accuracy: 0.9287 - val_loss: 0.6040 - val_accuracy: 0.7805\n",
      "Epoch 332/500\n",
      "23/23 [==============================] - 0s 5ms/step - loss: 0.2181 - accuracy: 0.9079 - val_loss: 0.5840 - val_accuracy: 0.7927\n",
      "Epoch 333/500\n",
      "23/23 [==============================] - 0s 6ms/step - loss: 0.2351 - accuracy: 0.9082 - val_loss: 0.5798 - val_accuracy: 0.8049\n",
      "Epoch 334/500\n",
      "23/23 [==============================] - 0s 6ms/step - loss: 0.1947 - accuracy: 0.9122 - val_loss: 0.6089 - val_accuracy: 0.7805\n",
      "Epoch 335/500\n",
      "23/23 [==============================] - 0s 5ms/step - loss: 0.1849 - accuracy: 0.9278 - val_loss: 0.6146 - val_accuracy: 0.8049\n",
      "Epoch 336/500\n",
      "23/23 [==============================] - 0s 5ms/step - loss: 0.1830 - accuracy: 0.9152 - val_loss: 0.6235 - val_accuracy: 0.7805\n",
      "Epoch 337/500\n",
      "23/23 [==============================] - 0s 7ms/step - loss: 0.2044 - accuracy: 0.9198 - val_loss: 0.6076 - val_accuracy: 0.7927\n",
      "Epoch 338/500\n",
      "23/23 [==============================] - 0s 5ms/step - loss: 0.2101 - accuracy: 0.9228 - val_loss: 0.5985 - val_accuracy: 0.8049\n",
      "Epoch 339/500\n",
      "23/23 [==============================] - 0s 6ms/step - loss: 0.1934 - accuracy: 0.9203 - val_loss: 0.6052 - val_accuracy: 0.8049\n",
      "Epoch 340/500\n",
      "23/23 [==============================] - 0s 5ms/step - loss: 0.1687 - accuracy: 0.9303 - val_loss: 0.6098 - val_accuracy: 0.8049\n",
      "Epoch 341/500\n",
      "23/23 [==============================] - 0s 5ms/step - loss: 0.1724 - accuracy: 0.9276 - val_loss: 0.6142 - val_accuracy: 0.7805\n",
      "Epoch 342/500\n",
      "23/23 [==============================] - 0s 7ms/step - loss: 0.1890 - accuracy: 0.9226 - val_loss: 0.6207 - val_accuracy: 0.7805\n",
      "Epoch 343/500\n",
      "23/23 [==============================] - 0s 5ms/step - loss: 0.2173 - accuracy: 0.9036 - val_loss: 0.6184 - val_accuracy: 0.7927\n",
      "Epoch 344/500\n"
     ]
    },
    {
     "name": "stdout",
     "output_type": "stream",
     "text": [
      "23/23 [==============================] - 0s 6ms/step - loss: 0.2161 - accuracy: 0.9040 - val_loss: 0.6215 - val_accuracy: 0.7927\n",
      "Epoch 345/500\n",
      "23/23 [==============================] - 0s 5ms/step - loss: 0.2073 - accuracy: 0.9029 - val_loss: 0.6111 - val_accuracy: 0.7805\n",
      "Epoch 346/500\n",
      "23/23 [==============================] - 0s 5ms/step - loss: 0.2129 - accuracy: 0.9166 - val_loss: 0.6027 - val_accuracy: 0.7927\n",
      "Epoch 347/500\n",
      "23/23 [==============================] - 0s 6ms/step - loss: 0.2150 - accuracy: 0.9234 - val_loss: 0.6104 - val_accuracy: 0.7805\n",
      "Epoch 348/500\n",
      "23/23 [==============================] - 0s 6ms/step - loss: 0.1773 - accuracy: 0.9210 - val_loss: 0.6145 - val_accuracy: 0.7805\n",
      "Epoch 349/500\n",
      "23/23 [==============================] - 0s 5ms/step - loss: 0.1807 - accuracy: 0.9281 - val_loss: 0.6256 - val_accuracy: 0.7805\n",
      "Epoch 350/500\n",
      "23/23 [==============================] - 0s 5ms/step - loss: 0.1846 - accuracy: 0.9340 - val_loss: 0.6154 - val_accuracy: 0.7805\n",
      "Epoch 351/500\n",
      "23/23 [==============================] - 0s 5ms/step - loss: 0.1998 - accuracy: 0.9279 - val_loss: 0.6130 - val_accuracy: 0.7805\n",
      "Epoch 352/500\n",
      "23/23 [==============================] - 0s 5ms/step - loss: 0.2212 - accuracy: 0.9075 - val_loss: 0.6024 - val_accuracy: 0.7805\n",
      "Epoch 353/500\n",
      "23/23 [==============================] - 0s 6ms/step - loss: 0.1817 - accuracy: 0.9185 - val_loss: 0.6245 - val_accuracy: 0.7805\n",
      "Epoch 354/500\n",
      "23/23 [==============================] - 0s 6ms/step - loss: 0.1938 - accuracy: 0.9212 - val_loss: 0.6421 - val_accuracy: 0.7805\n",
      "Epoch 355/500\n",
      "23/23 [==============================] - 0s 6ms/step - loss: 0.2118 - accuracy: 0.8918 - val_loss: 0.6235 - val_accuracy: 0.7805\n",
      "Epoch 356/500\n",
      "23/23 [==============================] - 0s 5ms/step - loss: 0.1907 - accuracy: 0.9172 - val_loss: 0.6361 - val_accuracy: 0.7805\n",
      "Epoch 357/500\n",
      "23/23 [==============================] - 0s 6ms/step - loss: 0.2061 - accuracy: 0.9094 - val_loss: 0.6371 - val_accuracy: 0.7805\n",
      "Epoch 358/500\n",
      "23/23 [==============================] - 0s 5ms/step - loss: 0.2192 - accuracy: 0.8961 - val_loss: 0.6334 - val_accuracy: 0.7805\n",
      "Epoch 359/500\n",
      "23/23 [==============================] - 0s 5ms/step - loss: 0.1547 - accuracy: 0.9308 - val_loss: 0.6257 - val_accuracy: 0.7805\n",
      "Epoch 360/500\n",
      "23/23 [==============================] - 0s 5ms/step - loss: 0.2073 - accuracy: 0.8988 - val_loss: 0.6528 - val_accuracy: 0.7805\n",
      "Epoch 361/500\n",
      "23/23 [==============================] - 0s 5ms/step - loss: 0.1819 - accuracy: 0.9116 - val_loss: 0.6327 - val_accuracy: 0.7927\n",
      "Epoch 362/500\n",
      "23/23 [==============================] - 0s 5ms/step - loss: 0.1970 - accuracy: 0.9049 - val_loss: 0.6356 - val_accuracy: 0.7927\n",
      "Epoch 363/500\n",
      "23/23 [==============================] - 0s 5ms/step - loss: 0.2044 - accuracy: 0.9120 - val_loss: 0.6426 - val_accuracy: 0.7805\n",
      "Epoch 364/500\n",
      "23/23 [==============================] - 0s 5ms/step - loss: 0.1790 - accuracy: 0.9312 - val_loss: 0.6461 - val_accuracy: 0.7805\n",
      "Epoch 365/500\n",
      "23/23 [==============================] - 0s 6ms/step - loss: 0.1665 - accuracy: 0.9311 - val_loss: 0.6491 - val_accuracy: 0.7805\n",
      "Epoch 366/500\n",
      "23/23 [==============================] - 0s 6ms/step - loss: 0.1720 - accuracy: 0.9415 - val_loss: 0.6482 - val_accuracy: 0.7805\n",
      "Epoch 367/500\n",
      "23/23 [==============================] - 0s 5ms/step - loss: 0.1998 - accuracy: 0.9150 - val_loss: 0.6813 - val_accuracy: 0.7805\n",
      "Epoch 368/500\n",
      "23/23 [==============================] - 0s 5ms/step - loss: 0.1785 - accuracy: 0.9323 - val_loss: 0.6537 - val_accuracy: 0.7927\n",
      "Epoch 369/500\n",
      "23/23 [==============================] - 0s 5ms/step - loss: 0.1928 - accuracy: 0.9218 - val_loss: 0.6491 - val_accuracy: 0.7927\n",
      "Epoch 370/500\n",
      "23/23 [==============================] - 0s 9ms/step - loss: 0.1760 - accuracy: 0.9319 - val_loss: 0.6610 - val_accuracy: 0.7927\n",
      "Epoch 371/500\n",
      "23/23 [==============================] - 0s 8ms/step - loss: 0.2044 - accuracy: 0.9159 - val_loss: 0.6697 - val_accuracy: 0.7927\n",
      "Epoch 372/500\n",
      "23/23 [==============================] - 0s 6ms/step - loss: 0.1889 - accuracy: 0.9331 - val_loss: 0.6824 - val_accuracy: 0.7805\n",
      "Epoch 373/500\n",
      "23/23 [==============================] - 0s 5ms/step - loss: 0.2069 - accuracy: 0.9117 - val_loss: 0.6678 - val_accuracy: 0.7927\n",
      "Epoch 374/500\n",
      "23/23 [==============================] - 0s 6ms/step - loss: 0.1954 - accuracy: 0.9090 - val_loss: 0.6628 - val_accuracy: 0.7927\n",
      "Epoch 375/500\n",
      "23/23 [==============================] - 0s 5ms/step - loss: 0.1804 - accuracy: 0.9228 - val_loss: 0.6748 - val_accuracy: 0.7805\n",
      "Epoch 376/500\n",
      "23/23 [==============================] - 0s 6ms/step - loss: 0.1810 - accuracy: 0.9375 - val_loss: 0.6850 - val_accuracy: 0.7805\n",
      "Epoch 377/500\n",
      "23/23 [==============================] - 0s 8ms/step - loss: 0.1916 - accuracy: 0.9288 - val_loss: 0.6668 - val_accuracy: 0.7805\n",
      "Epoch 378/500\n",
      "23/23 [==============================] - 0s 9ms/step - loss: 0.2213 - accuracy: 0.8926 - val_loss: 0.6778 - val_accuracy: 0.7805\n",
      "Epoch 379/500\n",
      "23/23 [==============================] - 0s 9ms/step - loss: 0.1788 - accuracy: 0.9269 - val_loss: 0.6827 - val_accuracy: 0.8049\n",
      "Epoch 380/500\n",
      "23/23 [==============================] - 0s 8ms/step - loss: 0.1835 - accuracy: 0.9273 - val_loss: 0.6617 - val_accuracy: 0.7805\n",
      "Epoch 381/500\n",
      "23/23 [==============================] - 0s 6ms/step - loss: 0.1843 - accuracy: 0.9313 - val_loss: 0.6894 - val_accuracy: 0.7805\n",
      "Epoch 382/500\n",
      "23/23 [==============================] - 0s 11ms/step - loss: 0.2173 - accuracy: 0.9111 - val_loss: 0.6639 - val_accuracy: 0.7927\n",
      "Epoch 383/500\n",
      "23/23 [==============================] - 0s 5ms/step - loss: 0.2247 - accuracy: 0.9119 - val_loss: 0.6636 - val_accuracy: 0.7927\n",
      "Epoch 384/500\n",
      "23/23 [==============================] - 0s 5ms/step - loss: 0.1933 - accuracy: 0.9070 - val_loss: 0.6675 - val_accuracy: 0.7927\n",
      "Epoch 385/500\n",
      "23/23 [==============================] - 0s 5ms/step - loss: 0.2031 - accuracy: 0.9139 - val_loss: 0.6678 - val_accuracy: 0.7927\n",
      "Epoch 386/500\n",
      "23/23 [==============================] - 0s 5ms/step - loss: 0.2174 - accuracy: 0.8929 - val_loss: 0.6718 - val_accuracy: 0.7927\n",
      "Epoch 387/500\n",
      "23/23 [==============================] - 0s 5ms/step - loss: 0.2022 - accuracy: 0.9063 - val_loss: 0.6630 - val_accuracy: 0.7927\n",
      "Epoch 388/500\n",
      "23/23 [==============================] - 0s 7ms/step - loss: 0.2106 - accuracy: 0.9076 - val_loss: 0.6720 - val_accuracy: 0.7927\n",
      "Epoch 389/500\n",
      "23/23 [==============================] - 0s 9ms/step - loss: 0.1796 - accuracy: 0.9305 - val_loss: 0.6828 - val_accuracy: 0.8049\n",
      "Epoch 390/500\n",
      "23/23 [==============================] - 0s 5ms/step - loss: 0.2008 - accuracy: 0.9327 - val_loss: 0.6845 - val_accuracy: 0.7927\n",
      "Epoch 391/500\n",
      "23/23 [==============================] - 0s 5ms/step - loss: 0.2122 - accuracy: 0.9182 - val_loss: 0.6522 - val_accuracy: 0.7927\n",
      "Epoch 392/500\n",
      "23/23 [==============================] - 0s 5ms/step - loss: 0.1820 - accuracy: 0.9239 - val_loss: 0.6868 - val_accuracy: 0.7805\n",
      "Epoch 393/500\n",
      "23/23 [==============================] - 0s 5ms/step - loss: 0.1886 - accuracy: 0.9285 - val_loss: 0.6815 - val_accuracy: 0.7805\n",
      "Epoch 394/500\n",
      "23/23 [==============================] - 0s 5ms/step - loss: 0.2152 - accuracy: 0.9150 - val_loss: 0.6722 - val_accuracy: 0.7805\n",
      "Epoch 395/500\n",
      "23/23 [==============================] - 0s 7ms/step - loss: 0.2056 - accuracy: 0.9116 - val_loss: 0.7007 - val_accuracy: 0.7805\n",
      "Epoch 396/500\n",
      "23/23 [==============================] - 0s 7ms/step - loss: 0.1895 - accuracy: 0.9241 - val_loss: 0.6733 - val_accuracy: 0.7805\n",
      "Epoch 397/500\n",
      "23/23 [==============================] - 0s 5ms/step - loss: 0.1860 - accuracy: 0.9213 - val_loss: 0.6870 - val_accuracy: 0.7805\n",
      "Epoch 398/500\n",
      "23/23 [==============================] - 0s 5ms/step - loss: 0.1891 - accuracy: 0.9075 - val_loss: 0.7071 - val_accuracy: 0.7805\n",
      "Epoch 399/500\n",
      "23/23 [==============================] - 0s 6ms/step - loss: 0.1860 - accuracy: 0.9200 - val_loss: 0.7048 - val_accuracy: 0.7927\n",
      "Epoch 400/500\n",
      "23/23 [==============================] - 0s 5ms/step - loss: 0.1696 - accuracy: 0.9252 - val_loss: 0.7097 - val_accuracy: 0.7927\n",
      "Epoch 401/500\n"
     ]
    },
    {
     "name": "stdout",
     "output_type": "stream",
     "text": [
      "23/23 [==============================] - 0s 5ms/step - loss: 0.2138 - accuracy: 0.9081 - val_loss: 0.6909 - val_accuracy: 0.7927\n",
      "Epoch 402/500\n",
      "23/23 [==============================] - 0s 5ms/step - loss: 0.2043 - accuracy: 0.9053 - val_loss: 0.6887 - val_accuracy: 0.7805\n",
      "Epoch 403/500\n",
      "23/23 [==============================] - 0s 5ms/step - loss: 0.1842 - accuracy: 0.9215 - val_loss: 0.6831 - val_accuracy: 0.7805\n",
      "Epoch 404/500\n",
      "23/23 [==============================] - 0s 6ms/step - loss: 0.1798 - accuracy: 0.9145 - val_loss: 0.6975 - val_accuracy: 0.7805\n",
      "Epoch 405/500\n",
      "23/23 [==============================] - 0s 6ms/step - loss: 0.1861 - accuracy: 0.9312 - val_loss: 0.6924 - val_accuracy: 0.7927\n",
      "Epoch 406/500\n",
      "23/23 [==============================] - 0s 6ms/step - loss: 0.1789 - accuracy: 0.9249 - val_loss: 0.6858 - val_accuracy: 0.7805\n",
      "Epoch 407/500\n",
      "23/23 [==============================] - 0s 6ms/step - loss: 0.1832 - accuracy: 0.9317 - val_loss: 0.6879 - val_accuracy: 0.7805\n",
      "Epoch 408/500\n",
      "23/23 [==============================] - 0s 6ms/step - loss: 0.1775 - accuracy: 0.9380 - val_loss: 0.6936 - val_accuracy: 0.7805\n",
      "Epoch 409/500\n",
      "23/23 [==============================] - 0s 6ms/step - loss: 0.1934 - accuracy: 0.9133 - val_loss: 0.6942 - val_accuracy: 0.7805\n",
      "Epoch 410/500\n",
      "23/23 [==============================] - 0s 5ms/step - loss: 0.1994 - accuracy: 0.9190 - val_loss: 0.7006 - val_accuracy: 0.7805\n",
      "Epoch 411/500\n",
      "23/23 [==============================] - 0s 8ms/step - loss: 0.1913 - accuracy: 0.9293 - val_loss: 0.7249 - val_accuracy: 0.7805\n",
      "Epoch 412/500\n",
      "23/23 [==============================] - 0s 8ms/step - loss: 0.1944 - accuracy: 0.9296 - val_loss: 0.7022 - val_accuracy: 0.7805\n",
      "Epoch 413/500\n",
      "23/23 [==============================] - 0s 5ms/step - loss: 0.1871 - accuracy: 0.9294 - val_loss: 0.6767 - val_accuracy: 0.7927\n",
      "Epoch 414/500\n",
      "23/23 [==============================] - 0s 5ms/step - loss: 0.1926 - accuracy: 0.9249 - val_loss: 0.6836 - val_accuracy: 0.7805\n",
      "Epoch 415/500\n",
      "23/23 [==============================] - 0s 5ms/step - loss: 0.2149 - accuracy: 0.9028 - val_loss: 0.6878 - val_accuracy: 0.7805\n",
      "Epoch 416/500\n",
      "23/23 [==============================] - 0s 5ms/step - loss: 0.1997 - accuracy: 0.9145 - val_loss: 0.6857 - val_accuracy: 0.7805\n",
      "Epoch 417/500\n",
      "23/23 [==============================] - 0s 6ms/step - loss: 0.1973 - accuracy: 0.9244 - val_loss: 0.6608 - val_accuracy: 0.7805\n",
      "Epoch 418/500\n",
      "23/23 [==============================] - 0s 5ms/step - loss: 0.2133 - accuracy: 0.9137 - val_loss: 0.6746 - val_accuracy: 0.7805\n",
      "Epoch 419/500\n",
      "23/23 [==============================] - 0s 6ms/step - loss: 0.1688 - accuracy: 0.9426 - val_loss: 0.7014 - val_accuracy: 0.7805\n",
      "Epoch 420/500\n",
      "23/23 [==============================] - 0s 5ms/step - loss: 0.1875 - accuracy: 0.9242 - val_loss: 0.6695 - val_accuracy: 0.8049\n",
      "Epoch 421/500\n",
      "23/23 [==============================] - 0s 9ms/step - loss: 0.1935 - accuracy: 0.9310 - val_loss: 0.7068 - val_accuracy: 0.7805\n",
      "Epoch 422/500\n",
      "23/23 [==============================] - 0s 7ms/step - loss: 0.1928 - accuracy: 0.9178 - val_loss: 0.6863 - val_accuracy: 0.7927\n",
      "Epoch 423/500\n",
      "23/23 [==============================] - 0s 5ms/step - loss: 0.1850 - accuracy: 0.9221 - val_loss: 0.7005 - val_accuracy: 0.7805\n",
      "Epoch 424/500\n",
      "23/23 [==============================] - 0s 5ms/step - loss: 0.1996 - accuracy: 0.9166 - val_loss: 0.6907 - val_accuracy: 0.7927\n",
      "Epoch 425/500\n",
      "23/23 [==============================] - 0s 7ms/step - loss: 0.1829 - accuracy: 0.9296 - val_loss: 0.6994 - val_accuracy: 0.7927\n",
      "Epoch 426/500\n",
      "23/23 [==============================] - 0s 6ms/step - loss: 0.1985 - accuracy: 0.9210 - val_loss: 0.7180 - val_accuracy: 0.7927\n",
      "Epoch 427/500\n",
      "23/23 [==============================] - 0s 6ms/step - loss: 0.1956 - accuracy: 0.9082 - val_loss: 0.7098 - val_accuracy: 0.7927\n",
      "Epoch 428/500\n",
      "23/23 [==============================] - 0s 6ms/step - loss: 0.1839 - accuracy: 0.9257 - val_loss: 0.7239 - val_accuracy: 0.7927\n",
      "Epoch 429/500\n",
      "23/23 [==============================] - 0s 6ms/step - loss: 0.1769 - accuracy: 0.9219 - val_loss: 0.7172 - val_accuracy: 0.7805\n",
      "Epoch 430/500\n",
      "23/23 [==============================] - 0s 6ms/step - loss: 0.2164 - accuracy: 0.9269 - val_loss: 0.6983 - val_accuracy: 0.7927\n",
      "Epoch 431/500\n",
      "23/23 [==============================] - 0s 6ms/step - loss: 0.2060 - accuracy: 0.9174 - val_loss: 0.7207 - val_accuracy: 0.7927\n",
      "Epoch 432/500\n",
      "23/23 [==============================] - 0s 6ms/step - loss: 0.2046 - accuracy: 0.9095 - val_loss: 0.7187 - val_accuracy: 0.7927\n",
      "Epoch 433/500\n",
      "23/23 [==============================] - 0s 6ms/step - loss: 0.1874 - accuracy: 0.9198 - val_loss: 0.7170 - val_accuracy: 0.7927\n",
      "Epoch 434/500\n",
      "23/23 [==============================] - 0s 6ms/step - loss: 0.1975 - accuracy: 0.8970 - val_loss: 0.7245 - val_accuracy: 0.7927\n",
      "Epoch 435/500\n",
      "23/23 [==============================] - 0s 5ms/step - loss: 0.2047 - accuracy: 0.9176 - val_loss: 0.7157 - val_accuracy: 0.7927\n",
      "Epoch 436/500\n",
      "23/23 [==============================] - 0s 6ms/step - loss: 0.1824 - accuracy: 0.9220 - val_loss: 0.7166 - val_accuracy: 0.7927\n",
      "Epoch 437/500\n",
      "23/23 [==============================] - 0s 6ms/step - loss: 0.1654 - accuracy: 0.9378 - val_loss: 0.7572 - val_accuracy: 0.7805\n",
      "Epoch 438/500\n",
      "23/23 [==============================] - 0s 6ms/step - loss: 0.2332 - accuracy: 0.8940 - val_loss: 0.7283 - val_accuracy: 0.7805\n",
      "Epoch 439/500\n",
      "23/23 [==============================] - 0s 9ms/step - loss: 0.1511 - accuracy: 0.9377 - val_loss: 0.7098 - val_accuracy: 0.7927\n",
      "Epoch 440/500\n",
      "23/23 [==============================] - 0s 7ms/step - loss: 0.1738 - accuracy: 0.9349 - val_loss: 0.7327 - val_accuracy: 0.7927\n",
      "Epoch 441/500\n",
      "23/23 [==============================] - 0s 6ms/step - loss: 0.1861 - accuracy: 0.9247 - val_loss: 0.7507 - val_accuracy: 0.7927\n",
      "Epoch 442/500\n",
      "23/23 [==============================] - 0s 7ms/step - loss: 0.2134 - accuracy: 0.9112 - val_loss: 0.7479 - val_accuracy: 0.7927\n",
      "Epoch 443/500\n",
      "23/23 [==============================] - 0s 6ms/step - loss: 0.2133 - accuracy: 0.9186 - val_loss: 0.7309 - val_accuracy: 0.7927\n",
      "Epoch 444/500\n",
      "23/23 [==============================] - 0s 5ms/step - loss: 0.1731 - accuracy: 0.9300 - val_loss: 0.7726 - val_accuracy: 0.7805\n",
      "Epoch 445/500\n",
      "23/23 [==============================] - 0s 6ms/step - loss: 0.1648 - accuracy: 0.9281 - val_loss: 0.7394 - val_accuracy: 0.7927\n",
      "Epoch 446/500\n",
      "23/23 [==============================] - 0s 5ms/step - loss: 0.1836 - accuracy: 0.9232 - val_loss: 0.7543 - val_accuracy: 0.7927\n",
      "Epoch 447/500\n",
      "23/23 [==============================] - 0s 5ms/step - loss: 0.1873 - accuracy: 0.9295 - val_loss: 0.7573 - val_accuracy: 0.8049\n",
      "Epoch 448/500\n",
      "23/23 [==============================] - 0s 6ms/step - loss: 0.1775 - accuracy: 0.9353 - val_loss: 0.7605 - val_accuracy: 0.7927\n",
      "Epoch 449/500\n",
      "23/23 [==============================] - 0s 5ms/step - loss: 0.1861 - accuracy: 0.9227 - val_loss: 0.7471 - val_accuracy: 0.8049\n",
      "Epoch 450/500\n",
      "23/23 [==============================] - 0s 8ms/step - loss: 0.2076 - accuracy: 0.9086 - val_loss: 0.7588 - val_accuracy: 0.8049\n",
      "Epoch 451/500\n",
      "23/23 [==============================] - 0s 9ms/step - loss: 0.1759 - accuracy: 0.9346 - val_loss: 0.7736 - val_accuracy: 0.8049\n",
      "Epoch 452/500\n",
      "23/23 [==============================] - 0s 8ms/step - loss: 0.1991 - accuracy: 0.9176 - val_loss: 0.7766 - val_accuracy: 0.7927\n",
      "Epoch 453/500\n",
      "23/23 [==============================] - 0s 9ms/step - loss: 0.1651 - accuracy: 0.9223 - val_loss: 0.7718 - val_accuracy: 0.8049\n",
      "Epoch 454/500\n",
      "23/23 [==============================] - 0s 7ms/step - loss: 0.1982 - accuracy: 0.9197 - val_loss: 0.7745 - val_accuracy: 0.7927\n",
      "Epoch 455/500\n",
      "23/23 [==============================] - 0s 6ms/step - loss: 0.1687 - accuracy: 0.9273 - val_loss: 0.7669 - val_accuracy: 0.8049\n",
      "Epoch 456/500\n",
      "23/23 [==============================] - 0s 14ms/step - loss: 0.2081 - accuracy: 0.9099 - val_loss: 0.7712 - val_accuracy: 0.8049\n",
      "Epoch 457/500\n",
      "23/23 [==============================] - 0s 10ms/step - loss: 0.1984 - accuracy: 0.9121 - val_loss: 0.7396 - val_accuracy: 0.7927\n",
      "Epoch 458/500\n"
     ]
    },
    {
     "name": "stdout",
     "output_type": "stream",
     "text": [
      "23/23 [==============================] - 0s 10ms/step - loss: 0.1860 - accuracy: 0.9177 - val_loss: 0.7303 - val_accuracy: 0.7927\n",
      "Epoch 459/500\n",
      "23/23 [==============================] - 0s 8ms/step - loss: 0.1814 - accuracy: 0.9218 - val_loss: 0.7648 - val_accuracy: 0.7927\n",
      "Epoch 460/500\n",
      "23/23 [==============================] - 0s 7ms/step - loss: 0.1742 - accuracy: 0.9273 - val_loss: 0.7850 - val_accuracy: 0.7927\n",
      "Epoch 461/500\n",
      "23/23 [==============================] - 0s 7ms/step - loss: 0.2074 - accuracy: 0.9088 - val_loss: 0.7919 - val_accuracy: 0.7927\n",
      "Epoch 462/500\n",
      "23/23 [==============================] - 0s 7ms/step - loss: 0.2163 - accuracy: 0.9087 - val_loss: 0.7807 - val_accuracy: 0.7927\n",
      "Epoch 463/500\n",
      "23/23 [==============================] - 0s 7ms/step - loss: 0.1704 - accuracy: 0.9343 - val_loss: 0.7662 - val_accuracy: 0.7927\n",
      "Epoch 464/500\n",
      "23/23 [==============================] - 0s 8ms/step - loss: 0.1583 - accuracy: 0.9446 - val_loss: 0.7930 - val_accuracy: 0.7927\n",
      "Epoch 465/500\n",
      "23/23 [==============================] - 0s 6ms/step - loss: 0.1774 - accuracy: 0.9270 - val_loss: 0.7871 - val_accuracy: 0.7927\n",
      "Epoch 466/500\n",
      "23/23 [==============================] - 0s 7ms/step - loss: 0.1874 - accuracy: 0.9274 - val_loss: 0.7844 - val_accuracy: 0.7927\n",
      "Epoch 467/500\n",
      "23/23 [==============================] - 0s 7ms/step - loss: 0.1816 - accuracy: 0.9361 - val_loss: 0.7743 - val_accuracy: 0.7927\n",
      "Epoch 468/500\n",
      "23/23 [==============================] - 0s 7ms/step - loss: 0.1780 - accuracy: 0.9361 - val_loss: 0.7894 - val_accuracy: 0.7927\n",
      "Epoch 469/500\n",
      "23/23 [==============================] - 0s 7ms/step - loss: 0.1914 - accuracy: 0.9202 - val_loss: 0.7543 - val_accuracy: 0.8049\n",
      "Epoch 470/500\n",
      "23/23 [==============================] - 0s 13ms/step - loss: 0.1985 - accuracy: 0.9152 - val_loss: 0.7538 - val_accuracy: 0.8049\n",
      "Epoch 471/500\n",
      "23/23 [==============================] - 0s 13ms/step - loss: 0.2252 - accuracy: 0.9004 - val_loss: 0.7642 - val_accuracy: 0.8049\n",
      "Epoch 472/500\n",
      "23/23 [==============================] - 0s 12ms/step - loss: 0.1612 - accuracy: 0.9353 - val_loss: 0.7887 - val_accuracy: 0.8049\n",
      "Epoch 473/500\n",
      "23/23 [==============================] - 0s 15ms/step - loss: 0.2003 - accuracy: 0.9261 - val_loss: 0.7870 - val_accuracy: 0.7927\n",
      "Epoch 474/500\n",
      "23/23 [==============================] - 0s 7ms/step - loss: 0.1642 - accuracy: 0.9287 - val_loss: 0.7805 - val_accuracy: 0.8049\n",
      "Epoch 475/500\n",
      "23/23 [==============================] - 0s 7ms/step - loss: 0.1538 - accuracy: 0.9399 - val_loss: 0.7845 - val_accuracy: 0.8049\n",
      "Epoch 476/500\n",
      "23/23 [==============================] - 0s 6ms/step - loss: 0.2039 - accuracy: 0.9120 - val_loss: 0.7864 - val_accuracy: 0.7927\n",
      "Epoch 477/500\n",
      "23/23 [==============================] - 0s 7ms/step - loss: 0.1821 - accuracy: 0.9257 - val_loss: 0.7917 - val_accuracy: 0.8049\n",
      "Epoch 478/500\n",
      "23/23 [==============================] - 0s 6ms/step - loss: 0.2152 - accuracy: 0.9017 - val_loss: 0.8123 - val_accuracy: 0.8049\n",
      "Epoch 479/500\n",
      "23/23 [==============================] - 0s 7ms/step - loss: 0.1646 - accuracy: 0.9405 - val_loss: 0.8238 - val_accuracy: 0.7927\n",
      "Epoch 480/500\n",
      "23/23 [==============================] - 0s 6ms/step - loss: 0.1923 - accuracy: 0.9199 - val_loss: 0.8147 - val_accuracy: 0.7927\n",
      "Epoch 481/500\n",
      "23/23 [==============================] - 0s 6ms/step - loss: 0.1697 - accuracy: 0.9347 - val_loss: 0.8244 - val_accuracy: 0.7927\n",
      "Epoch 482/500\n",
      "23/23 [==============================] - 0s 7ms/step - loss: 0.1773 - accuracy: 0.9479 - val_loss: 0.8698 - val_accuracy: 0.7927\n",
      "Epoch 483/500\n",
      "23/23 [==============================] - 0s 8ms/step - loss: 0.1604 - accuracy: 0.9374 - val_loss: 0.8695 - val_accuracy: 0.7927\n",
      "Epoch 484/500\n",
      "23/23 [==============================] - 0s 8ms/step - loss: 0.1670 - accuracy: 0.9396 - val_loss: 0.8401 - val_accuracy: 0.8049\n",
      "Epoch 485/500\n",
      "23/23 [==============================] - 0s 8ms/step - loss: 0.1542 - accuracy: 0.9425 - val_loss: 0.8187 - val_accuracy: 0.8049\n",
      "Epoch 486/500\n",
      "23/23 [==============================] - 0s 9ms/step - loss: 0.1822 - accuracy: 0.9268 - val_loss: 0.8209 - val_accuracy: 0.8171\n",
      "Epoch 487/500\n",
      "23/23 [==============================] - 0s 8ms/step - loss: 0.2075 - accuracy: 0.9150 - val_loss: 0.8360 - val_accuracy: 0.7927\n",
      "Epoch 488/500\n",
      "23/23 [==============================] - 0s 6ms/step - loss: 0.1823 - accuracy: 0.9214 - val_loss: 0.8257 - val_accuracy: 0.7927\n",
      "Epoch 489/500\n",
      "23/23 [==============================] - 0s 7ms/step - loss: 0.1806 - accuracy: 0.9419 - val_loss: 0.8091 - val_accuracy: 0.8049\n",
      "Epoch 490/500\n",
      "23/23 [==============================] - 0s 9ms/step - loss: 0.1978 - accuracy: 0.9064 - val_loss: 0.8333 - val_accuracy: 0.8171\n",
      "Epoch 491/500\n",
      "23/23 [==============================] - 0s 7ms/step - loss: 0.2403 - accuracy: 0.9112 - val_loss: 0.8285 - val_accuracy: 0.8049\n",
      "Epoch 492/500\n",
      "23/23 [==============================] - 0s 6ms/step - loss: 0.1852 - accuracy: 0.9166 - val_loss: 0.8269 - val_accuracy: 0.7927\n",
      "Epoch 493/500\n",
      "23/23 [==============================] - 0s 7ms/step - loss: 0.1768 - accuracy: 0.9349 - val_loss: 0.8183 - val_accuracy: 0.7927\n",
      "Epoch 494/500\n",
      "23/23 [==============================] - 0s 7ms/step - loss: 0.1635 - accuracy: 0.9333 - val_loss: 0.8362 - val_accuracy: 0.7805\n",
      "Epoch 495/500\n",
      "23/23 [==============================] - 0s 6ms/step - loss: 0.1997 - accuracy: 0.9077 - val_loss: 0.8259 - val_accuracy: 0.8049\n",
      "Epoch 496/500\n",
      "23/23 [==============================] - 0s 7ms/step - loss: 0.1488 - accuracy: 0.9415 - val_loss: 0.8884 - val_accuracy: 0.7805\n",
      "Epoch 497/500\n",
      "23/23 [==============================] - 0s 7ms/step - loss: 0.1652 - accuracy: 0.9328 - val_loss: 0.8775 - val_accuracy: 0.7927\n",
      "Epoch 498/500\n",
      "23/23 [==============================] - 0s 7ms/step - loss: 0.1740 - accuracy: 0.9352 - val_loss: 0.8452 - val_accuracy: 0.8049\n",
      "Epoch 499/500\n",
      "23/23 [==============================] - 0s 5ms/step - loss: 0.1681 - accuracy: 0.9318 - val_loss: 0.8363 - val_accuracy: 0.8049\n",
      "Epoch 500/500\n",
      "23/23 [==============================] - 0s 6ms/step - loss: 0.1896 - accuracy: 0.9277 - val_loss: 0.8330 - val_accuracy: 0.7927\n"
     ]
    }
   ],
   "source": [
    "r2 = model.fit(X_train, y_train, validation_data=(X_test,y_test), epochs=500)"
   ]
  },
  {
   "cell_type": "markdown",
   "metadata": {
    "id": "cdbGFMKmrPsU"
   },
   "source": [
    "Plot the losses:"
   ]
  },
  {
   "cell_type": "code",
   "execution_count": 131,
   "metadata": {
    "colab": {
     "base_uri": "https://localhost:8080/",
     "height": 281
    },
    "id": "eFCAh_9Srkc9",
    "outputId": "2b1d48ad-5d05-445f-be6e-53c6c69e5da3"
   },
   "outputs": [
    {
     "data": {
      "text/plain": [
       "<matplotlib.legend.Legend at 0x1e72b8a9bb0>"
      ]
     },
     "execution_count": 131,
     "metadata": {},
     "output_type": "execute_result"
    },
    {
     "data": {
      "image/png": "[encoded data removed]",
      "text/plain": [
       "<Figure size 432x288 with 1 Axes>"
      ]
     },
     "metadata": {
      "needs_background": "light"
     },
     "output_type": "display_data"
    }
   ],
   "source": [
    "plt.plot(r2.history['loss'], label='loss')\n",
    "plt.plot(r2.history['val_loss'], label='val_loss')\n",
    "plt.legend()"
   ]
  },
  {
   "cell_type": "markdown",
   "metadata": {
    "id": "--olrolUrRdx"
   },
   "source": [
    "Plot the accuracies:"
   ]
  },
  {
   "cell_type": "code",
   "execution_count": 132,
   "metadata": {
    "colab": {
     "base_uri": "https://localhost:8080/",
     "height": 281
    },
    "id": "LL2qwSSvrmWy",
    "outputId": "c2d1311e-7c43-4832-de14-f4b2e280520d"
   },
   "outputs": [
    {
     "data": {
      "text/plain": [
       "<matplotlib.legend.Legend at 0x1e729c18460>"
      ]
     },
     "execution_count": 132,
     "metadata": {},
     "output_type": "execute_result"
    },
    {
     "data": {
      "image/png": "[encoded data removed]",
      "text/plain": [
       "<Figure size 432x288 with 1 Axes>"
      ]
     },
     "metadata": {
      "needs_background": "light"
     },
     "output_type": "display_data"
    }
   ],
   "source": [
    "plt.plot(r2.history['accuracy'], label='acc')\n",
    "plt.plot(r2.history['val_accuracy'], label='val_acc')\n",
    "plt.legend()"
   ]
  },
  {
   "cell_type": "code",
   "execution_count": 133,
   "metadata": {
    "colab": {
     "base_uri": "https://localhost:8080/"
    },
    "id": "uzNf6IUxro9G",
    "outputId": "68d8f4a1-10dd-4ab8-e5cc-23761d184b0d"
   },
   "outputs": [
    {
     "name": "stdout",
     "output_type": "stream",
     "text": [
      "3/3 [==============================] - 0s 3ms/step - loss: 1.9292 - accuracy: 0.8171\n",
      "[1.9291783571243286, 0.8170731663703918]\n"
     ]
    }
   ],
   "source": [
    "print(model.evaluate(X_test, y_test))"
   ]
  },
  {
   "cell_type": "code",
   "execution_count": 68,
   "metadata": {},
   "outputs": [],
   "source": [
    "model.save_weights('../weights/best25_features/')\n"
   ]
  },
  {
   "cell_type": "markdown",
   "metadata": {
    "id": "oEjqnSkkKwkP"
   },
   "source": [
    "**Applying this dataset on different models to create benchmarks to compare with Fully Connected model:**"
   ]
  },
  {
   "cell_type": "markdown",
   "metadata": {
    "id": "Up6ggCZ6K7_h"
   },
   "source": [
    "*Logistic Regression* **(linear classifier):**"
   ]
  },
  {
   "cell_type": "code",
   "execution_count": 144,
   "metadata": {
    "colab": {
     "base_uri": "https://localhost:8080/"
    },
    "id": "LbK0ykIJLls0",
    "outputId": "7bbf0310-2368-45e4-d576-e39c9f440b6d"
   },
   "outputs": [
    {
     "name": "stdout",
     "output_type": "stream",
     "text": [
      "0.9855272226051\n",
      "0.9839474644290405\n"
     ]
    }
   ],
   "source": [
    "from sklearn.linear_model import LogisticRegression\n",
    "model =LogisticRegression()\n",
    "model.fit(X_train, y_train)\n",
    "print(model.score(X_train, y_train))\n",
    "print(model.score(X_test,y_test))\n",
    "\n"
   ]
  },
  {
   "cell_type": "code",
   "execution_count": 145,
   "metadata": {
    "colab": {
     "base_uri": "https://localhost:8080/"
    },
    "id": "cLvXlm3Eis1R",
    "outputId": "b1cbb427-a4bd-4d82-abb2-dc382eb439d8"
   },
   "outputs": [
    {
     "name": "stdout",
     "output_type": "stream",
     "text": [
      "weight for the feature 0 : -0.14062803342902322\n",
      "weight for the feature 1 : -1.2777877443869474\n",
      "weight for the feature 2 : -0.1924020139720983\n",
      "weight for the feature 3 : 0.5718029200074063\n",
      "weight for the feature 4 : 0.3560056996565792\n",
      "weight for the feature 5 : -0.23070698219064653\n",
      "weight for the feature 6 : 0.25028154428778243\n",
      "weight for the feature 7 : 0.18873072083680678\n",
      "weight for the feature 8 : 0.4902295177004325\n",
      "weight for the feature 9 : -0.0665091673947505\n",
      "weight for the feature 10 : -0.47675102277296727\n",
      "weight for the feature 11 : -1.9470404286153262\n",
      "weight for the feature 12 : 0.051944551894377175\n",
      "weight for the feature 13 : -0.4042504128423456\n",
      "weight for the feature 14 : 0.19640437523974202\n",
      "weight for the feature 15 : 0.05145719700109458\n",
      "weight for the feature 16 : 0.03281525125110459\n",
      "weight for the feature 17 : -0.4082345788292435\n",
      "weight for the feature 18 : 0.27028397726075043\n",
      "weight for the feature 19 : 0.07994595644640681\n",
      "sorted list, positive weights contribute MORE TO DETERMINE potential hypertension case and negative features conribute more to make prediction as NOT hypertension. So we can say 0 valued weights do not contribute to anything: [-1.94704043 -1.27778774 -0.47675102 -0.40823458 -0.40425041 -0.23070698\n",
      " -0.19240201 -0.14062803 -0.06650917  0.03281525  0.0514572   0.05194455\n",
      "  0.07994596  0.18873072  0.19640438  0.25028154  0.27028398  0.3560057\n",
      "  0.49022952  0.57180292]\n"
     ]
    }
   ],
   "source": [
    "for i in range(X_train[0].shape[0]):\n",
    " print(\"weight for the feature\",i,\":\",model.coef_[0][i])\n",
    "\n",
    "model.coef_[0].sort()\n",
    "\n",
    "print(\"sorted list, positive weights contribute MORE TO DETERMINE potential hypertension case and negative features conribute more to make prediction as NOT hypertension. So we can say 0 valued weights do not contribute to anything:\",model.coef_[0])"
   ]
  },
  {
   "cell_type": "markdown",
   "metadata": {
    "id": "F2cS87lMLDDT"
   },
   "source": [
    "*Decision Tree*  "
   ]
  },
  {
   "cell_type": "code",
   "execution_count": 146,
   "metadata": {
    "colab": {
     "base_uri": "https://localhost:8080/"
    },
    "id": "BLXjjRAFLmGd",
    "outputId": "383a288e-c694-4d7b-c7fc-dbfb311ce006"
   },
   "outputs": [
    {
     "name": "stdout",
     "output_type": "stream",
     "text": [
      "1.0\n",
      "0.977745348412988\n"
     ]
    }
   ],
   "source": [
    "from sklearn.tree import DecisionTreeClassifier\n",
    "model =DecisionTreeClassifier()\n",
    "model.fit(X_train, y_train)\n",
    "print(model.score(X_train, y_train))\n",
    "print(model.score(X_test,y_test))"
   ]
  },
  {
   "cell_type": "markdown",
   "metadata": {
    "id": "KUe9EcWyLFhl"
   },
   "source": [
    "*AdaBoost*"
   ]
  },
  {
   "cell_type": "code",
   "execution_count": 147,
   "metadata": {
    "colab": {
     "base_uri": "https://localhost:8080/"
    },
    "id": "PEk2Fd8eLmhY",
    "outputId": "6e6071e3-e2ec-4315-ffa5-1f741b628138"
   },
   "outputs": [
    {
     "name": "stdout",
     "output_type": "stream",
     "text": [
      "0.986135322495642\n",
      "0.9850419554906968\n"
     ]
    }
   ],
   "source": [
    "from sklearn.ensemble import AdaBoostClassifier\n",
    "model =AdaBoostClassifier()\n",
    "model.fit(X_train, y_train)\n",
    "print(model.score(X_train, y_train))\n",
    "print(model.score(X_test,y_test))"
   ]
  },
  {
   "cell_type": "code",
   "execution_count": 148,
   "metadata": {},
   "outputs": [
    {
     "name": "stdout",
     "output_type": "stream",
     "text": [
      "test: {0: 2697, 1: 44}\n",
      "train: {0: 24302, 1: 365}\n"
     ]
    }
   ],
   "source": [
    "unique, counts = np.unique(y_test, return_counts=True)\n",
    "print(\"test:\",dict(zip(unique, counts)))\n",
    "\n",
    "\n",
    "unique, counts = np.unique(y_train, return_counts=True)\n",
    "print(\"train:\",dict(zip(unique, counts)))"
   ]
  },
  {
   "cell_type": "code",
   "execution_count": 151,
   "metadata": {},
   "outputs": [
    {
     "data": {
      "image/png": "[encoded data removed]",
      "text/plain": [
       "<Figure size 432x288 with 1 Axes>"
      ]
     },
     "metadata": {
      "needs_background": "light"
     },
     "output_type": "display_data"
    }
   ],
   "source": [
    "# Visualize the data (tsne is great but slow.)\n",
    "\n",
    "from sklearn.manifold import TSNE\n",
    "tsne = TSNE(n_components=2)\n",
    "transformed = tsne.fit_transform(X_train)\n",
    "\n",
    "#visualize in the 2d\n",
    "plt.scatter(transformed[:,0], transformed[:,1], c=y_train, s=10) #take first two columns in order to get 2d plot.\n",
    "plt.show()"
   ]
  },
  {
   "cell_type": "code",
   "execution_count": 152,
   "metadata": {},
   "outputs": [
    {
     "data": {
      "image/png": "[encoded data removed]",
      "text/plain": [
       "<Figure size 432x288 with 1 Axes>"
      ]
     },
     "metadata": {
      "needs_background": "light"
     },
     "output_type": "display_data"
    }
   ],
   "source": [
    "transformed = tsne.fit_transform(X_test)\n",
    "\n",
    "# visualize the clouds in 2-D\n",
    "plt.scatter(transformed[:,0], transformed[:,1], c=y_test, s=10) #take first two columns in order to get 2d plot.\n",
    "plt.show()"
   ]
  }
 ],
 "metadata": {
  "colab": {
   "collapsed_sections": [],
   "machine_shape": "hm",
   "name": "fraud_detection_model.ipynb",
   "provenance": []
  },
  "kernelspec": {
   "display_name": "Python 3",
   "language": "python",
   "name": "python3"
  },
  "language_info": {
   "codemirror_mode": {
    "name": "ipython",
    "version": 3
   },
   "file_extension": ".py",
   "mimetype": "text/x-python",
   "name": "python",
   "nbconvert_exporter": "python",
   "pygments_lexer": "ipython3",
   "version": "3.8.5"
  }
 },
 "nbformat": 4,
 "nbformat_minor": 1
}
