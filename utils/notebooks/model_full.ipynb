{
 "cells": [
  {
   "cell_type": "code",
   "execution_count": 88,
   "metadata": {},
   "outputs": [],
   "source": [
    "import tensorflow\n",
    "import pandas as pd\n",
    "import numpy as np\n",
    "from sklearn.preprocessing import OneHotEncoder\n",
    "import matplotlib.pyplot as plt\n",
    "from sklearn.model_selection import train_test_split"
   ]
  },
  {
   "cell_type": "code",
   "execution_count": 65,
   "metadata": {},
   "outputs": [],
   "source": [
    "\n",
    "\n",
    "health_data =  pd.read_csv('../merged_final_data_clean.csv')"
   ]
  },
  {
   "cell_type": "code",
   "execution_count": 66,
   "metadata": {
    "colab": {
     "base_uri": "https://localhost:8080/"
    },
    "id": "ZlGgwLy3Ue53",
    "outputId": "c8445da5-b78c-41cb-a139-55849a01bba9"
   },
   "outputs": [
    {
     "name": "stdout",
     "output_type": "stream",
     "text": [
      "Index(['TIME', 'PATIENT', 'Age', 'Gender', 'Race', 'Triglycerides',\n",
      "       'How many family members  including yourself  do you currently live with?',\n",
      "       'Hemoglobin [Mass/volume] in Blood', 'Body Mass Index',\n",
      "       'Low Density Lipoprotein Cholesterol', 'Calcium', 'Are you a refugee?',\n",
      "       'In the past year  have you or any family members you live with been unable to get any of the following when it was really needed?',\n",
      "       'Total Cholesterol',\n",
      "       'Stress is when someone feels tense  nervous  anxious or can't sleep at night because their mind is troubled. How stressed are you?',\n",
      "       'High Density Lipoprotein Cholesterol', 'Carbon Dioxide',\n",
      "       'Are you worried about losing your housing?',\n",
      "       'Platelets [#/volume] in Blood by Automated count', 'Body Height',\n",
      "       'How often do you see or talk to people that you care about and feel close to (For example: talking to friends on the phone  visiting friends or family  going to church or club meetings)?',\n",
      "       'Chloride', 'What is your main insurance?',\n",
      "       'During the past year  what was the total combined income for you and the family members you live with? This information will help us determine if you are eligible for any benefits.',\n",
      "       'In the past year  have you spent more than 2 nights in a row in a jail  prison  detention center  or juvenile correctional facility?',\n",
      "       'What is your current work situation?', 'Sodium',\n",
      "       'Are you Hispanic or Latino?', 'Urea Nitrogen', 'Potassium',\n",
      "       'MCH [Entitic mass] by Automated count',\n",
      "       'Do you feel physically and emotionally safe where you currently live?',\n",
      "       'Creatinine',\n",
      "       'What is the highest level of school that you have finished?',\n",
      "       'Which race(s) are you?',\n",
      "       'In the past year  have you been afraid of your partner or ex-partner?',\n",
      "       'Has lack of transportation kept you from medical appointments  meetings  work  or from getting things needed for daily living?',\n",
      "       'MCHC [Mass/volume] by Automated count',\n",
      "       'MCV [Entitic volume] by Automated count', 'Glucose',\n",
      "       'What is your housing situation today?',\n",
      "       'Pain severity - 0-10 verbal numeric rating [Score] - Reported',\n",
      "       'Respiratory rate', 'Tobacco smoking status NHIS', 'Body Weight',\n",
      "       'At any point in the past 2 years  has season or migrant farm work been your or your family's main source of income?',\n",
      "       'Have you been discharged from the armed forces of the United States?',\n",
      "       'Heart rate', 'Systolic Blood Pressure', 'Diastolic Blood Pressure',\n",
      "       'Hypertension'],\n",
      "      dtype='object')\n"
     ]
    }
   ],
   "source": [
    "print(health_data.columns)"
   ]
  },
  {
   "cell_type": "code",
   "execution_count": 67,
   "metadata": {},
   "outputs": [],
   "source": [
    "columns_to_encode = ['Tobacco smoking status NHIS',  \n",
    "                    \"Stress is when someone feels tense  nervous  anxious or can't sleep at night because their mind is troubled. How stressed are you?\", \n",
    "                     \"Are you a refugee?\", \n",
    "                     \"In the past year  have you or any family members you live with been unable to get any of the following when it was really needed?\",\n",
    "                     \"Are you worried about losing your housing?\",\n",
    "                     \"What is your main insurance?\",\n",
    "                     \"In the past year  have you spent more than 2 nights in a row in a jail  prison  detention center  or juvenile correctional facility?\",\n",
    "                     \"What is your current work situation?\",\n",
    "                     \"Are you Hispanic or Latino?\",\n",
    "                     \"Do you feel physically and emotionally safe where you currently live?\",\n",
    "                     \"What is the highest level of school that you have finished?\",\n",
    "                     \"Which race(s) are you?\",\n",
    "                     \"In the past year  have you been afraid of your partner or ex-partner?\",\n",
    "                     \"Has lack of transportation kept you from medical appointments  meetings  work  or from getting things needed for daily living?\",\n",
    "                     \"What is your housing situation today?\",\n",
    "                     \"Tobacco smoking status NHIS\",\n",
    "                     \"At any point in the past 2 years  has season or migrant farm work been your or your family's main source of income?\",\n",
    "                     \"Have you been discharged from the armed forces of the United States?\",\n",
    "                    \"Gender\", \n",
    "                     \"Race\",\n",
    "                    \"How often do you see or talk to people that you care about and feel close to (For example: talking to friends on the phone  visiting friends or family  going to church or club meetings)?\"]\n",
    "\n",
    "OHE    = OneHotEncoder(sparse=False)\n",
    "encoded_columns =    OHE.fit_transform(health_data[columns_to_encode])\n",
    "                     \n",
    "                     "
   ]
  },
  {
   "cell_type": "code",
   "execution_count": 68,
   "metadata": {},
   "outputs": [
    {
     "name": "stdout",
     "output_type": "stream",
     "text": [
      "(3585, 80)\n"
     ]
    }
   ],
   "source": [
    "print(encoded_columns.shape)"
   ]
  },
  {
   "cell_type": "code",
   "execution_count": 69,
   "metadata": {},
   "outputs": [],
   "source": [
    "only_scalar = health_data.drop(columns_to_encode, axis=1).values\n"
   ]
  },
  {
   "cell_type": "code",
   "execution_count": 70,
   "metadata": {},
   "outputs": [
    {
     "name": "stdout",
     "output_type": "stream",
     "text": [
      "[['2008-09-26' '0003a94b-ff6d-f3e0-6ae6-79e07c897c7a' 59 ... 107.0 70.0 0]\n",
      " ['2021-07-04' '0014944d-3b3c-b330-0908-cdb7baff589c' 36 ... 127.0 81.0 0]\n",
      " ['2021-08-25' '001f6494-0eb7-d400-743b-c9227ddd0e7a' 57 ... 122.0 85.0 0]\n",
      " ...\n",
      " ['2013-07-19' 'fb04ca3b-b31e-2328-9d88-d4871e896f43' 35 ... 132.0 86.0 1]\n",
      " ['2014-07-01' 'fb13fe03-4236-d153-48ca-11e1021ad534' 32 ... 102.0 75.0 1]\n",
      " ['2013-09-24' 'fbe243fa-bb90-68d2-f77f-af9af6a32336' 50 ... 120.0 79.0 1]]\n"
     ]
    }
   ],
   "source": [
    "print(only_scalar)"
   ]
  },
  {
   "cell_type": "code",
   "execution_count": 71,
   "metadata": {},
   "outputs": [
    {
     "name": "stdout",
     "output_type": "stream",
     "text": [
      "(3585, 29)\n"
     ]
    }
   ],
   "source": [
    "only_scalar_filtered =only_scalar[:,2:] #filter time and patient\n",
    "print(only_scalar_filtered.shape)"
   ]
  },
  {
   "cell_type": "code",
   "execution_count": 72,
   "metadata": {},
   "outputs": [],
   "source": [
    "processed_data = np.concatenate([only_scalar_filtered, encoded_columns], axis=1)"
   ]
  },
  {
   "cell_type": "code",
   "execution_count": 73,
   "metadata": {},
   "outputs": [
    {
     "name": "stdout",
     "output_type": "stream",
     "text": [
      "(3585, 109)\n"
     ]
    }
   ],
   "source": [
    "print(processed_data.shape)"
   ]
  },
  {
   "cell_type": "markdown",
   "metadata": {
    "id": "kDSzK674s-4k"
   },
   "source": [
    "Shuffle the dataset."
   ]
  },
  {
   "cell_type": "code",
   "execution_count": 43,
   "metadata": {
    "id": "dZiwd2-oVirj"
   },
   "outputs": [],
   "source": [
    "from sklearn.utils import shuffle\n",
    "\n",
    "processed_data = shuffle(processed_data)"
   ]
  },
  {
   "cell_type": "code",
   "execution_count": 86,
   "metadata": {},
   "outputs": [],
   "source": [
    "X = processed_data[:,:-1].astype(float)\n",
    "y = processed_data[:,-1].astype(int)"
   ]
  },
  {
   "cell_type": "code",
   "execution_count": 89,
   "metadata": {
    "id": "UloEuNuXXe8-"
   },
   "outputs": [],
   "source": [
    " X_train, X_test, y_train, y_test = train_test_split(X, y, test_size=0.1)"
   ]
  },
  {
   "cell_type": "code",
   "execution_count": 112,
   "metadata": {},
   "outputs": [
    {
     "data": {
      "text/plain": [
       "108"
      ]
     },
     "execution_count": 112,
     "metadata": {},
     "output_type": "execute_result"
    }
   ],
   "source": [
    "Xtrain[0].shape[0]"
   ]
  },
  {
   "cell_type": "code",
   "execution_count": 91,
   "metadata": {},
   "outputs": [
    {
     "name": "stdout",
     "output_type": "stream",
     "text": [
      "float64\n"
     ]
    }
   ],
   "source": [
    "print(Xtrain.dtype)"
   ]
  },
  {
   "cell_type": "code",
   "execution_count": 92,
   "metadata": {},
   "outputs": [
    {
     "name": "stdout",
     "output_type": "stream",
     "text": [
      "[0 0 0 ... 0 0 0]\n"
     ]
    }
   ],
   "source": [
    "print(Ytrain)"
   ]
  },
  {
   "cell_type": "markdown",
   "metadata": {
    "id": "wDi9jfnRqUgJ"
   },
   "source": [
    "Fully connected neural network model with 3 hidden layers:"
   ]
  },
  {
   "cell_type": "code",
   "execution_count": 143,
   "metadata": {
    "id": "bVz5-8xuqEsy"
   },
   "outputs": [],
   "source": [
    "import tensorflow as tf \n",
    "\n",
    "model = tf.keras.models.Sequential([\n",
    "  tf.keras.Input(shape=(X_train[0].shape[0],)), #Xtrain[0].shape[0] = 108 -> input size\n",
    "  tf.keras.layers.Dense(15, activation='relu'), #represents 1st hidden layer \n",
    "  tf.keras.layers.Dropout(0.2), # dropout regularization with dropout probability 20% percent\n",
    "  tf.keras.layers.Dense(7, activation='relu'), #represents the 2nd hidden layer \n",
    "  tf.keras.layers.Dropout(0.2), # dropout regularization with dropout probability 20% percent\n",
    "  tf.keras.layers.Dense(4, activation='relu'), #represents the 3rd hidden layer \n",
    "  tf.keras.layers.Dropout(0.2), # dropout regularization with dropout probability 20% percent\n",
    "  tf.keras.layers.Dense(1, activation='sigmoid') # sigmoid activation at output since it is binary classification\n",
    "])"
   ]
  },
  {
   "cell_type": "code",
   "execution_count": 144,
   "metadata": {
    "id": "5FNnHp_QrGCv"
   },
   "outputs": [],
   "source": [
    "model.compile(optimizer='adam', \n",
    "              loss='binary_crossentropy',\n",
    "              metrics=['accuracy'])"
   ]
  },
  {
   "cell_type": "code",
   "execution_count": 134,
   "metadata": {},
   "outputs": [
    {
     "name": "stdout",
     "output_type": "stream",
     "text": [
      "Model: \"sequential_7\"\n",
      "_________________________________________________________________\n",
      "Layer (type)                 Output Shape              Param #   \n",
      "=================================================================\n",
      "dense_28 (Dense)             (None, 15)                1635      \n",
      "_________________________________________________________________\n",
      "dropout_21 (Dropout)         (None, 15)                0         \n",
      "_________________________________________________________________\n",
      "dense_29 (Dense)             (None, 7)                 112       \n",
      "_________________________________________________________________\n",
      "dropout_22 (Dropout)         (None, 7)                 0         \n",
      "_________________________________________________________________\n",
      "dense_30 (Dense)             (None, 4)                 32        \n",
      "_________________________________________________________________\n",
      "dropout_23 (Dropout)         (None, 4)                 0         \n",
      "_________________________________________________________________\n",
      "dense_31 (Dense)             (None, 1)                 5         \n",
      "=================================================================\n",
      "Total params: 1,784\n",
      "Trainable params: 1,784\n",
      "Non-trainable params: 0\n",
      "_________________________________________________________________\n"
     ]
    }
   ],
   "source": [
    "model.summary()"
   ]
  },
  {
   "cell_type": "markdown",
   "metadata": {
    "id": "aS2gk-MarTGl"
   },
   "source": [
    "Train the model with 10 epochs:"
   ]
  },
  {
   "cell_type": "code",
   "execution_count": 135,
   "metadata": {
    "colab": {
     "base_uri": "https://localhost:8080/"
    },
    "id": "HxyIThDGP_gj",
    "outputId": "360b23ea-a569-412d-a2da-90a2a7eec26a"
   },
   "outputs": [
    {
     "name": "stdout",
     "output_type": "stream",
     "text": [
      "Epoch 1/150\n",
      "101/101 [==============================] - 1s 1ms/step - loss: 145.9402 - accuracy: 0.8358\n",
      "Epoch 2/150\n",
      "101/101 [==============================] - 0s 1ms/step - loss: 30.3910 - accuracy: 0.7783\n",
      "Epoch 3/150\n",
      "101/101 [==============================] - 0s 960us/step - loss: 20.8436 - accuracy: 0.8890\n",
      "Epoch 4/150\n",
      "101/101 [==============================] - 0s 960us/step - loss: 12.8123 - accuracy: 0.8991\n",
      "Epoch 5/150\n",
      "101/101 [==============================] - 0s 990us/step - loss: 11.4324 - accuracy: 0.9137\n",
      "Epoch 6/150\n",
      "101/101 [==============================] - 0s 1ms/step - loss: 4.3560 - accuracy: 0.9117\n",
      "Epoch 7/150\n",
      "101/101 [==============================] - 0s 1000us/step - loss: 2.3523 - accuracy: 0.9109\n",
      "Epoch 8/150\n",
      "101/101 [==============================] - 0s 1ms/step - loss: 3.8448 - accuracy: 0.9153\n",
      "Epoch 9/150\n",
      "101/101 [==============================] - 0s 1ms/step - loss: 1.5151 - accuracy: 0.9146\n",
      "Epoch 10/150\n",
      "101/101 [==============================] - 0s 1ms/step - loss: 1.0658 - accuracy: 0.9061\n",
      "Epoch 11/150\n",
      "101/101 [==============================] - 0s 1ms/step - loss: 0.6152 - accuracy: 0.9204: 0s - loss: 0.6139 - accuracy: 0.92\n",
      "Epoch 12/150\n",
      "101/101 [==============================] - 0s 1ms/step - loss: 0.7392 - accuracy: 0.9057\n",
      "Epoch 13/150\n",
      "101/101 [==============================] - 0s 1ms/step - loss: 1.3826 - accuracy: 0.9137\n",
      "Epoch 14/150\n",
      "101/101 [==============================] - 0s 1ms/step - loss: 0.5601 - accuracy: 0.9182\n",
      "Epoch 15/150\n",
      "101/101 [==============================] - 0s 1ms/step - loss: 0.4373 - accuracy: 0.9223\n",
      "Epoch 16/150\n",
      "101/101 [==============================] - 0s 950us/step - loss: 0.7177 - accuracy: 0.9190\n",
      "Epoch 17/150\n",
      "101/101 [==============================] - 0s 940us/step - loss: 0.3467 - accuracy: 0.9114\n",
      "Epoch 18/150\n",
      "101/101 [==============================] - 0s 940us/step - loss: 0.3273 - accuracy: 0.9154\n",
      "Epoch 19/150\n",
      "101/101 [==============================] - 0s 1ms/step - loss: 0.3264 - accuracy: 0.9112\n",
      "Epoch 20/150\n",
      "101/101 [==============================] - 0s 920us/step - loss: 0.3304 - accuracy: 0.9062\n",
      "Epoch 21/150\n",
      "101/101 [==============================] - 0s 900us/step - loss: 0.3189 - accuracy: 0.9109\n",
      "Epoch 22/150\n",
      "101/101 [==============================] - 0s 890us/step - loss: 0.3067 - accuracy: 0.9160\n",
      "Epoch 23/150\n",
      "101/101 [==============================] - 0s 910us/step - loss: 0.3122 - accuracy: 0.9112\n",
      "Epoch 24/150\n",
      "101/101 [==============================] - 0s 1ms/step - loss: 0.3101 - accuracy: 0.9113\n",
      "Epoch 25/150\n",
      "101/101 [==============================] - 0s 1ms/step - loss: 0.2955 - accuracy: 0.9180\n",
      "Epoch 26/150\n",
      "101/101 [==============================] - 0s 960us/step - loss: 0.2911 - accuracy: 0.9191\n",
      "Epoch 27/150\n",
      "101/101 [==============================] - 0s 1ms/step - loss: 0.3017 - accuracy: 0.9128\n",
      "Epoch 28/150\n",
      "101/101 [==============================] - 0s 1ms/step - loss: 0.2881 - accuracy: 0.9190\n",
      "Epoch 29/150\n",
      "101/101 [==============================] - 0s 1ms/step - loss: 0.3068 - accuracy: 0.9093\n",
      "Epoch 30/150\n",
      "101/101 [==============================] - 0s 910us/step - loss: 0.2924 - accuracy: 0.9161\n",
      "Epoch 31/150\n",
      "101/101 [==============================] - 0s 910us/step - loss: 0.2855 - accuracy: 0.9190\n",
      "Epoch 32/150\n",
      "101/101 [==============================] - 0s 1ms/step - loss: 0.3017 - accuracy: 0.9110\n",
      "Epoch 33/150\n",
      "101/101 [==============================] - 0s 1ms/step - loss: 0.2944 - accuracy: 0.9142\n",
      "Epoch 34/150\n",
      "101/101 [==============================] - 0s 1ms/step - loss: 0.3004 - accuracy: 0.9112\n",
      "Epoch 35/150\n",
      "101/101 [==============================] - 0s 960us/step - loss: 0.2884 - accuracy: 0.9165\n",
      "Epoch 36/150\n",
      "101/101 [==============================] - 0s 990us/step - loss: 0.2977 - accuracy: 0.9123\n",
      "Epoch 37/150\n",
      "101/101 [==============================] - 0s 910us/step - loss: 0.2839 - accuracy: 0.9183\n",
      "Epoch 38/150\n",
      "101/101 [==============================] - 0s 910us/step - loss: 0.3008 - accuracy: 0.9105\n",
      "Epoch 39/150\n",
      "101/101 [==============================] - 0s 830us/step - loss: 0.2925 - accuracy: 0.9144\n",
      "Epoch 40/150\n",
      "101/101 [==============================] - 0s 830us/step - loss: 0.2934 - accuracy: 0.9140\n",
      "Epoch 41/150\n",
      "101/101 [==============================] - 0s 820us/step - loss: 0.2894 - accuracy: 0.9157\n",
      "Epoch 42/150\n",
      "101/101 [==============================] - 0s 850us/step - loss: 0.2849 - accuracy: 0.9174\n",
      "Epoch 43/150\n",
      "101/101 [==============================] - 0s 1ms/step - loss: 0.2896 - accuracy: 0.9154\n",
      "Epoch 44/150\n",
      "101/101 [==============================] - 0s 950us/step - loss: 0.2937 - accuracy: 0.9136\n",
      "Epoch 45/150\n",
      "101/101 [==============================] - 0s 940us/step - loss: 0.3066 - accuracy: 0.9080\n",
      "Epoch 46/150\n",
      "101/101 [==============================] - 0s 890us/step - loss: 0.3024 - accuracy: 0.9099\n",
      "Epoch 47/150\n",
      "101/101 [==============================] - 0s 900us/step - loss: 0.2744 - accuracy: 0.9218\n",
      "Epoch 48/150\n",
      "101/101 [==============================] - 0s 917us/step - loss: 0.2914 - accuracy: 0.9146\n",
      "Epoch 49/150\n",
      "101/101 [==============================] - 0s 842us/step - loss: 0.2777 - accuracy: 0.9204\n",
      "Epoch 50/150\n",
      "101/101 [==============================] - 0s 884us/step - loss: 0.3010 - accuracy: 0.9104\n",
      "Epoch 51/150\n",
      "101/101 [==============================] - 0s 844us/step - loss: 0.2773 - accuracy: 0.9205\n",
      "Epoch 52/150\n",
      "101/101 [==============================] - 0s 906us/step - loss: 0.2917 - accuracy: 0.9144\n",
      "Epoch 53/150\n",
      "101/101 [==============================] - 0s 854us/step - loss: 0.2798 - accuracy: 0.9196\n",
      "Epoch 54/150\n",
      "101/101 [==============================] - 0s 888us/step - loss: 0.2918 - accuracy: 0.9144\n",
      "Epoch 55/150\n",
      "101/101 [==============================] - 0s 940us/step - loss: 0.2983 - accuracy: 0.9116\n",
      "Epoch 56/150\n",
      "101/101 [==============================] - 0s 1ms/step - loss: 0.2943 - accuracy: 0.9135\n",
      "Epoch 57/150\n",
      "101/101 [==============================] - 0s 980us/step - loss: 0.3071 - accuracy: 0.9079\n",
      "Epoch 58/150\n",
      "101/101 [==============================] - 0s 879us/step - loss: 0.2840 - accuracy: 0.9178\n",
      "Epoch 59/150\n",
      "101/101 [==============================] - 0s 860us/step - loss: 0.3051 - accuracy: 0.9087\n",
      "Epoch 60/150\n",
      "101/101 [==============================] - 0s 842us/step - loss: 0.2954 - accuracy: 0.9129\n",
      "Epoch 61/150\n",
      "101/101 [==============================] - 0s 845us/step - loss: 0.2985 - accuracy: 0.9115\n",
      "Epoch 62/150\n",
      "101/101 [==============================] - 0s 853us/step - loss: 0.2796 - accuracy: 0.9194\n",
      "Epoch 63/150\n",
      "101/101 [==============================] - 0s 833us/step - loss: 0.2559 - accuracy: 0.9297\n",
      "Epoch 64/150\n",
      "101/101 [==============================] - 0s 1ms/step - loss: 0.2882 - accuracy: 0.9159\n",
      "Epoch 65/150\n",
      "101/101 [==============================] - 0s 1ms/step - loss: 0.3027 - accuracy: 0.9097\n",
      "Epoch 66/150\n",
      "101/101 [==============================] - 0s 880us/step - loss: 0.2836 - accuracy: 0.9179\n",
      "Epoch 67/150\n",
      "101/101 [==============================] - 0s 840us/step - loss: 0.2836 - accuracy: 0.9179\n",
      "Epoch 68/150\n",
      "101/101 [==============================] - 0s 1ms/step - loss: 0.2792 - accuracy: 0.9198\n",
      "Epoch 69/150\n",
      "101/101 [==============================] - 0s 1ms/step - loss: 0.3025 - accuracy: 0.9099\n",
      "Epoch 70/150\n",
      "101/101 [==============================] - 0s 850us/step - loss: 0.3135 - accuracy: 0.9052\n",
      "Epoch 71/150\n",
      "101/101 [==============================] - 0s 863us/step - loss: 0.2897 - accuracy: 0.9153\n",
      "Epoch 72/150\n",
      "101/101 [==============================] - 0s 839us/step - loss: 0.2944 - accuracy: 0.9133\n",
      "Epoch 73/150\n",
      "101/101 [==============================] - 0s 894us/step - loss: 0.2931 - accuracy: 0.9139\n",
      "Epoch 74/150\n",
      "101/101 [==============================] - 0s 852us/step - loss: 0.3052 - accuracy: 0.9087\n",
      "Epoch 75/150\n",
      "101/101 [==============================] - 0s 900us/step - loss: 0.2947 - accuracy: 0.9132\n",
      "Epoch 76/150\n",
      "101/101 [==============================] - 0s 890us/step - loss: 0.2757 - accuracy: 0.9212\n",
      "Epoch 77/150\n",
      "101/101 [==============================] - 0s 880us/step - loss: 0.2985 - accuracy: 0.9116\n",
      "Epoch 78/150\n",
      "101/101 [==============================] - 0s 1ms/step - loss: 0.2873 - accuracy: 0.9163\n",
      "Epoch 79/150\n",
      "101/101 [==============================] - 0s 910us/step - loss: 0.3000 - accuracy: 0.9109\n"
     ]
    },
    {
     "name": "stdout",
     "output_type": "stream",
     "text": [
      "Epoch 80/150\n",
      "101/101 [==============================] - 0s 930us/step - loss: 0.2938 - accuracy: 0.9137\n",
      "Epoch 81/150\n",
      "101/101 [==============================] - 0s 813us/step - loss: 0.2934 - accuracy: 0.9138\n",
      "Epoch 82/150\n",
      "101/101 [==============================] - 0s 839us/step - loss: 0.3221 - accuracy: 0.9016\n",
      "Epoch 83/150\n",
      "101/101 [==============================] - 0s 871us/step - loss: 0.2899 - accuracy: 0.9152\n",
      "Epoch 84/150\n",
      "101/101 [==============================] - 0s 847us/step - loss: 0.3018 - accuracy: 0.9102\n",
      "Epoch 85/150\n",
      "101/101 [==============================] - 0s 792us/step - loss: 0.2625 - accuracy: 0.9268\n",
      "Epoch 86/150\n",
      "101/101 [==============================] - 0s 900us/step - loss: 0.3101 - accuracy: 0.9066\n",
      "Epoch 87/150\n",
      "101/101 [==============================] - 0s 1ms/step - loss: 0.2962 - accuracy: 0.9126\n",
      "Epoch 88/150\n",
      "101/101 [==============================] - 0s 880us/step - loss: 0.2902 - accuracy: 0.9150\n",
      "Epoch 89/150\n",
      "101/101 [==============================] - 0s 890us/step - loss: 0.3084 - accuracy: 0.9074\n",
      "Epoch 90/150\n",
      "101/101 [==============================] - 0s 806us/step - loss: 0.2684 - accuracy: 0.9244\n",
      "Epoch 91/150\n",
      "101/101 [==============================] - 0s 860us/step - loss: 0.2809 - accuracy: 0.9191\n",
      "Epoch 92/150\n",
      "101/101 [==============================] - 0s 904us/step - loss: 0.3040 - accuracy: 0.9093\n",
      "Epoch 93/150\n",
      "101/101 [==============================] - 0s 803us/step - loss: 0.2983 - accuracy: 0.9117\n",
      "Epoch 94/150\n",
      "101/101 [==============================] - 0s 829us/step - loss: 0.2755 - accuracy: 0.9213\n",
      "Epoch 95/150\n",
      "101/101 [==============================] - 0s 834us/step - loss: 0.3115 - accuracy: 0.9061\n",
      "Epoch 96/150\n",
      "101/101 [==============================] - 0s 839us/step - loss: 0.2980 - accuracy: 0.9117\n",
      "Epoch 97/150\n",
      "101/101 [==============================] - 0s 930us/step - loss: 0.3033 - accuracy: 0.9096\n",
      "Epoch 98/150\n",
      "101/101 [==============================] - 0s 880us/step - loss: 0.2779 - accuracy: 0.9203\n",
      "Epoch 99/150\n",
      "101/101 [==============================] - 0s 900us/step - loss: 0.3000 - accuracy: 0.9111\n",
      "Epoch 100/150\n",
      "101/101 [==============================] - 0s 900us/step - loss: 0.2944 - accuracy: 0.9134\n",
      "Epoch 101/150\n",
      "101/101 [==============================] - 0s 823us/step - loss: 0.2964 - accuracy: 0.9124\n",
      "Epoch 102/150\n",
      "101/101 [==============================] - 0s 810us/step - loss: 0.3000 - accuracy: 0.9110\n",
      "Epoch 103/150\n",
      "101/101 [==============================] - 0s 824us/step - loss: 0.3041 - accuracy: 0.9092\n",
      "Epoch 104/150\n",
      "101/101 [==============================] - 0s 872us/step - loss: 0.2889 - accuracy: 0.9157\n",
      "Epoch 105/150\n",
      "101/101 [==============================] - 0s 864us/step - loss: 0.2826 - accuracy: 0.9183\n",
      "Epoch 106/150\n",
      "101/101 [==============================] - 0s 862us/step - loss: 0.3095 - accuracy: 0.9068\n",
      "Epoch 107/150\n",
      "101/101 [==============================] - 0s 861us/step - loss: 0.2859 - accuracy: 0.9170\n",
      "Epoch 108/150\n",
      "101/101 [==============================] - 0s 888us/step - loss: 0.2585 - accuracy: 0.9286\n",
      "Epoch 109/150\n",
      "101/101 [==============================] - 0s 910us/step - loss: 0.2882 - accuracy: 0.9160\n",
      "Epoch 110/150\n",
      "101/101 [==============================] - 0s 910us/step - loss: 0.2825 - accuracy: 0.9183\n",
      "Epoch 111/150\n",
      "101/101 [==============================] - 0s 890us/step - loss: 0.3049 - accuracy: 0.9089\n",
      "Epoch 112/150\n",
      "101/101 [==============================] - 0s 856us/step - loss: 0.2928 - accuracy: 0.9140\n",
      "Epoch 113/150\n",
      "101/101 [==============================] - 0s 843us/step - loss: 0.2981 - accuracy: 0.9117\n",
      "Epoch 114/150\n",
      "101/101 [==============================] - 0s 811us/step - loss: 0.2943 - accuracy: 0.9134\n",
      "Epoch 115/150\n",
      "101/101 [==============================] - 0s 902us/step - loss: 0.2790 - accuracy: 0.9199\n",
      "Epoch 116/150\n",
      "101/101 [==============================] - 0s 900us/step - loss: 0.2867 - accuracy: 0.9165\n",
      "Epoch 117/150\n",
      "101/101 [==============================] - 0s 880us/step - loss: 0.2938 - accuracy: 0.9136\n",
      "Epoch 118/150\n",
      "101/101 [==============================] - 0s 870us/step - loss: 0.2934 - accuracy: 0.9138\n",
      "Epoch 119/150\n",
      "101/101 [==============================] - 0s 900us/step - loss: 0.2871 - accuracy: 0.9164\n",
      "Epoch 120/150\n",
      "101/101 [==============================] - 0s 880us/step - loss: 0.2641 - accuracy: 0.9262\n",
      "Epoch 121/150\n",
      "101/101 [==============================] - 0s 880us/step - loss: 0.2725 - accuracy: 0.9226\n",
      "Epoch 122/150\n",
      "101/101 [==============================] - 0s 870us/step - loss: 0.2848 - accuracy: 0.9174\n",
      "Epoch 123/150\n",
      "101/101 [==============================] - 0s 880us/step - loss: 0.3037 - accuracy: 0.9093\n",
      "Epoch 124/150\n",
      "101/101 [==============================] - 0s 850us/step - loss: 0.2863 - accuracy: 0.9167\n",
      "Epoch 125/150\n",
      "101/101 [==============================] - 0s 830us/step - loss: 0.2834 - accuracy: 0.9178\n",
      "Epoch 126/150\n",
      "101/101 [==============================] - 0s 857us/step - loss: 0.3119 - accuracy: 0.9059\n",
      "Epoch 127/150\n",
      "101/101 [==============================] - 0s 871us/step - loss: 0.2903 - accuracy: 0.9150\n",
      "Epoch 128/150\n",
      "101/101 [==============================] - 0s 922us/step - loss: 0.2848 - accuracy: 0.9173\n",
      "Epoch 129/150\n",
      "101/101 [==============================] - 0s 898us/step - loss: 0.3047 - accuracy: 0.9089\n",
      "Epoch 130/150\n",
      "101/101 [==============================] - 0s 1ms/step - loss: 0.2736 - accuracy: 0.9221\n",
      "Epoch 131/150\n",
      "101/101 [==============================] - 0s 1ms/step - loss: 0.2996 - accuracy: 0.9109\n",
      "Epoch 132/150\n",
      "101/101 [==============================] - 0s 900us/step - loss: 0.3046 - accuracy: 0.9089\n",
      "Epoch 133/150\n",
      "101/101 [==============================] - 0s 900us/step - loss: 0.2797 - accuracy: 0.9196\n",
      "Epoch 134/150\n",
      "101/101 [==============================] - 0s 1ms/step - loss: 0.2960 - accuracy: 0.9126\n",
      "Epoch 135/150\n",
      "101/101 [==============================] - 0s 1ms/step - loss: 0.2788 - accuracy: 0.9199\n",
      "Epoch 136/150\n",
      "101/101 [==============================] - 0s 950us/step - loss: 0.2806 - accuracy: 0.9191\n",
      "Epoch 137/150\n",
      "101/101 [==============================] - 0s 1ms/step - loss: 0.3031 - accuracy: 0.9096\n",
      "Epoch 138/150\n",
      "101/101 [==============================] - 0s 1ms/step - loss: 0.2848 - accuracy: 0.9174\n",
      "Epoch 139/150\n",
      "101/101 [==============================] - 0s 1ms/step - loss: 0.3033 - accuracy: 0.9095\n",
      "Epoch 140/150\n",
      "101/101 [==============================] - 0s 1ms/step - loss: 0.3102 - accuracy: 0.9065\n",
      "Epoch 141/150\n",
      "101/101 [==============================] - 0s 870us/step - loss: 0.3007 - accuracy: 0.9105\n",
      "Epoch 142/150\n",
      "101/101 [==============================] - 0s 860us/step - loss: 0.3029 - accuracy: 0.9097\n",
      "Epoch 143/150\n",
      "101/101 [==============================] - 0s 920us/step - loss: 0.3013 - accuracy: 0.9104\n",
      "Epoch 144/150\n",
      "101/101 [==============================] - 0s 830us/step - loss: 0.2967 - accuracy: 0.9122\n",
      "Epoch 145/150\n",
      "101/101 [==============================] - 0s 870us/step - loss: 0.2896 - accuracy: 0.9153\n",
      "Epoch 146/150\n",
      "101/101 [==============================] - 0s 830us/step - loss: 0.3056 - accuracy: 0.9085\n",
      "Epoch 147/150\n",
      "101/101 [==============================] - 0s 960us/step - loss: 0.2935 - accuracy: 0.9137\n",
      "Epoch 148/150\n",
      "101/101 [==============================] - 0s 930us/step - loss: 0.2840 - accuracy: 0.9177\n",
      "Epoch 149/150\n",
      "101/101 [==============================] - 0s 930us/step - loss: 0.2946 - accuracy: 0.9132\n",
      "Epoch 150/150\n",
      "101/101 [==============================] - 0s 920us/step - loss: 0.2886 - accuracy: 0.9161\n"
     ]
    }
   ],
   "source": [
    "r2 = model.fit(X_train, y_train, epochs=150)"
   ]
  },
  {
   "cell_type": "markdown",
   "metadata": {
    "id": "cdbGFMKmrPsU"
   },
   "source": [
    "Plot the losses:"
   ]
  },
  {
   "cell_type": "code",
   "execution_count": 136,
   "metadata": {
    "colab": {
     "base_uri": "https://localhost:8080/",
     "height": 281
    },
    "id": "eFCAh_9Srkc9",
    "outputId": "2b1d48ad-5d05-445f-be6e-53c6c69e5da3"
   },
   "outputs": [
    {
     "data": {
      "text/plain": [
       "<matplotlib.legend.Legend at 0x22e6b3b10d0>"
      ]
     },
     "execution_count": 136,
     "metadata": {},
     "output_type": "execute_result"
    },
    {
     "data": {
      "image/png": "[encoded data removed]",
      "text/plain": [
       "<Figure size 432x288 with 1 Axes>"
      ]
     },
     "metadata": {
      "needs_background": "light"
     },
     "output_type": "display_data"
    }
   ],
   "source": [
    "plt.plot(r2.history['loss'], label='loss')\n",
    "#plt.plot(r2.history['val_loss'], label='val_loss')\n",
    "plt.legend()"
   ]
  },
  {
   "cell_type": "markdown",
   "metadata": {
    "id": "--olrolUrRdx"
   },
   "source": [
    "Plot the accuracies:"
   ]
  },
  {
   "cell_type": "code",
   "execution_count": 137,
   "metadata": {
    "colab": {
     "base_uri": "https://localhost:8080/",
     "height": 281
    },
    "id": "LL2qwSSvrmWy",
    "outputId": "c2d1311e-7c43-4832-de14-f4b2e280520d"
   },
   "outputs": [
    {
     "data": {
      "text/plain": [
       "<matplotlib.legend.Legend at 0x22e7458e1c0>"
      ]
     },
     "execution_count": 137,
     "metadata": {},
     "output_type": "execute_result"
    },
    {
     "data": {
      "image/png": "[encoded data removed]",
      "text/plain": [
       "<Figure size 432x288 with 1 Axes>"
      ]
     },
     "metadata": {
      "needs_background": "light"
     },
     "output_type": "display_data"
    }
   ],
   "source": [
    "plt.plot(r2.history['accuracy'], label='acc')\n",
    "#plt.plot(r2.history['val_accuracy'], label='val_acc')\n",
    "plt.legend()"
   ]
  },
  {
   "cell_type": "code",
   "execution_count": 138,
   "metadata": {
    "colab": {
     "base_uri": "https://localhost:8080/"
    },
    "id": "uzNf6IUxro9G",
    "outputId": "68d8f4a1-10dd-4ab8-e5cc-23761d184b0d"
   },
   "outputs": [
    {
     "name": "stdout",
     "output_type": "stream",
     "text": [
      "12/12 [==============================] - 0s 999us/step - loss: 0.3197 - accuracy: 0.9025\n",
      "[0.3196597099304199, 0.902506947517395]\n"
     ]
    }
   ],
   "source": [
    "print(model.evaluate(X_test, y_test))"
   ]
  },
  {
   "cell_type": "code",
   "execution_count": 140,
   "metadata": {},
   "outputs": [],
   "source": [
    "model.save_weights('./weights/model_systolic_diastolic_excluded/')\n"
   ]
  },
  {
   "cell_type": "markdown",
   "metadata": {
    "id": "oEjqnSkkKwkP"
   },
   "source": [
    "**Applying this dataset on different models to create benchmarks to compare with Fully Connected model:**"
   ]
  },
  {
   "cell_type": "markdown",
   "metadata": {
    "id": "Up6ggCZ6K7_h"
   },
   "source": [
    "*Logistic Regression* **(linear classifier):**"
   ]
  },
  {
   "cell_type": "code",
   "execution_count": 103,
   "metadata": {
    "colab": {
     "base_uri": "https://localhost:8080/"
    },
    "id": "LbK0ykIJLls0",
    "outputId": "7bbf0310-2368-45e4-d576-e39c9f440b6d"
   },
   "outputs": [
    {
     "name": "stdout",
     "output_type": "stream",
     "text": [
      "0.9138251704897706\n",
      "0.9025069637883009\n"
     ]
    }
   ],
   "source": [
    "from sklearn.linear_model import LogisticRegression\n",
    "model =LogisticRegression()\n",
    "model.fit(X_train, y_train)\n",
    "print(model.score(X_train, y_train))\n",
    "print(model.score(X_test,y_test))\n",
    "\n"
   ]
  },
  {
   "cell_type": "code",
   "execution_count": 105,
   "metadata": {
    "colab": {
     "base_uri": "https://localhost:8080/"
    },
    "id": "cLvXlm3Eis1R",
    "outputId": "b1cbb427-a4bd-4d82-abb2-dc382eb439d8"
   },
   "outputs": [
    {
     "name": "stdout",
     "output_type": "stream",
     "text": [
      "weight for the feature 0 : -0.002204197745180158\n",
      "weight for the feature 1 : -0.0020580556545120496\n",
      "weight for the feature 2 : -0.0018476029920989035\n",
      "weight for the feature 3 : -0.0017392015573981473\n",
      "weight for the feature 4 : -0.001309569884951161\n",
      "weight for the feature 5 : -0.0012986945766602534\n",
      "weight for the feature 6 : -0.0012558997868359195\n",
      "weight for the feature 7 : -0.001044450183718869\n",
      "weight for the feature 8 : -0.0010411694398086097\n",
      "weight for the feature 9 : -0.001003031407691053\n",
      "weight for the feature 10 : -0.0009978758145447076\n",
      "weight for the feature 11 : -0.0008635668161326685\n",
      "weight for the feature 12 : -0.0008060209811952334\n",
      "weight for the feature 13 : -0.0007723014259508736\n",
      "weight for the feature 14 : -0.00043181865850317993\n",
      "weight for the feature 15 : -0.00036305971840124495\n",
      "weight for the feature 16 : -0.00034605420873229067\n",
      "weight for the feature 17 : -0.0003215899842853878\n",
      "weight for the feature 18 : -0.00029768026994142743\n",
      "weight for the feature 19 : -0.00021503252902479187\n",
      "weight for the feature 20 : -0.00018414498287057135\n",
      "weight for the feature 21 : -0.00015214187901898255\n",
      "weight for the feature 22 : -0.00013145456687364403\n",
      "weight for the feature 23 : -9.131808199608684e-05\n",
      "weight for the feature 24 : -9.069291103926271e-05\n",
      "weight for the feature 25 : -6.26050637143378e-05\n",
      "weight for the feature 26 : -5.234520575306838e-05\n",
      "weight for the feature 27 : -4.733510538892756e-05\n",
      "weight for the feature 28 : -2.7441116057177076e-05\n",
      "weight for the feature 29 : -2.112005390565407e-05\n",
      "weight for the feature 30 : -1.9644759250143093e-05\n",
      "weight for the feature 31 : -1.6648835251829046e-05\n",
      "weight for the feature 32 : -1.438450096272556e-05\n",
      "weight for the feature 33 : -1.4192585289277e-05\n",
      "weight for the feature 34 : -1.4041359495178202e-05\n",
      "weight for the feature 35 : -1.2957218149275538e-05\n",
      "weight for the feature 36 : -1.2701743479999902e-05\n",
      "weight for the feature 37 : -1.2260372977818067e-05\n",
      "weight for the feature 38 : -1.2089988823209605e-05\n",
      "weight for the feature 39 : -1.1456858760496845e-05\n",
      "weight for the feature 40 : -1.1426565738571777e-05\n",
      "weight for the feature 41 : -1.1100513127682143e-05\n",
      "weight for the feature 42 : -1.1045382641201871e-05\n",
      "weight for the feature 43 : -1.0900586338660222e-05\n",
      "weight for the feature 44 : -1.0646041057854768e-05\n",
      "weight for the feature 45 : -8.895829558217836e-06\n",
      "weight for the feature 46 : -8.467076640820137e-06\n",
      "weight for the feature 47 : -8.46683230710532e-06\n",
      "weight for the feature 48 : -7.464918992053486e-06\n",
      "weight for the feature 49 : -6.660404497702645e-06\n",
      "weight for the feature 50 : -6.660404497702637e-06\n",
      "weight for the feature 51 : -5.585068607032158e-06\n",
      "weight for the feature 52 : -5.585068607032158e-06\n",
      "weight for the feature 53 : -5.085869355470354e-06\n",
      "weight for the feature 54 : -3.940612734408723e-06\n",
      "weight for the feature 55 : -3.684987853060102e-06\n",
      "weight for the feature 56 : -3.5138101710966967e-06\n",
      "weight for the feature 57 : -3.433581989436847e-06\n",
      "weight for the feature 58 : -2.8597817095667753e-06\n",
      "weight for the feature 59 : -2.3503274583278408e-06\n",
      "weight for the feature 60 : -2.3302029746963264e-06\n",
      "weight for the feature 61 : -1.9198180225464525e-06\n",
      "weight for the feature 62 : -1.7098052967395282e-06\n",
      "weight for the feature 63 : -1.1475896612664792e-06\n",
      "weight for the feature 64 : -1.127629282336915e-06\n",
      "weight for the feature 65 : -1.0988664126315144e-06\n",
      "weight for the feature 66 : -9.187410055737733e-07\n",
      "weight for the feature 67 : -8.706546627976764e-07\n",
      "weight for the feature 68 : -7.266318166202316e-07\n",
      "weight for the feature 69 : -5.991694140895009e-07\n",
      "weight for the feature 70 : -5.591708630871402e-07\n",
      "weight for the feature 71 : -5.270349995785656e-07\n",
      "weight for the feature 72 : -5.270349995785654e-07\n",
      "weight for the feature 73 : -5.127387071059556e-07\n",
      "weight for the feature 74 : -4.1192352710556633e-07\n",
      "weight for the feature 75 : -3.4481447533078734e-07\n",
      "weight for the feature 76 : -3.194320807046258e-07\n",
      "weight for the feature 77 : -2.9422528169894045e-07\n",
      "weight for the feature 78 : -2.2621897169226073e-07\n",
      "weight for the feature 79 : -1.9729710334979552e-07\n",
      "weight for the feature 80 : -9.22755470703345e-08\n",
      "weight for the feature 81 : 4.9322132183351365e-08\n",
      "weight for the feature 82 : 2.269975263746754e-07\n",
      "weight for the feature 83 : 2.955866648387692e-07\n",
      "weight for the feature 84 : 4.3215383668249797e-07\n",
      "weight for the feature 85 : 4.3215383668249797e-07\n",
      "weight for the feature 86 : 4.5196322290104333e-07\n",
      "weight for the feature 87 : 4.562703771415081e-07\n",
      "weight for the feature 88 : 6.443546015296859e-07\n",
      "weight for the feature 89 : 6.502938593458788e-07\n",
      "weight for the feature 90 : 7.117450453589198e-07\n",
      "weight for the feature 91 : 8.54650329545992e-07\n",
      "weight for the feature 92 : 9.64787197472597e-07\n",
      "weight for the feature 93 : 1.0149093497867197e-06\n",
      "weight for the feature 94 : 1.0262422297789211e-06\n",
      "weight for the feature 95 : 1.1670970349930403e-06\n",
      "weight for the feature 96 : 1.3989427603701783e-06\n",
      "weight for the feature 97 : 1.6152415296342415e-06\n",
      "weight for the feature 98 : 1.6152415296342415e-06\n",
      "weight for the feature 99 : 1.7844959395724763e-06\n",
      "weight for the feature 100 : 1.9143781245295206e-06\n",
      "weight for the feature 101 : 2.1390278579975307e-06\n",
      "weight for the feature 102 : 2.195553946908131e-06\n",
      "weight for the feature 103 : 2.9235156724174116e-06\n",
      "weight for the feature 104 : 3.484529034590651e-06\n",
      "weight for the feature 105 : 4.617190687997532e-06\n",
      "weight for the feature 106 : 7.909793602692546e-06\n",
      "weight for the feature 107 : 9.036461893761524e-06\n",
      "sorted list, positive weights contribute MORE TO DETERMINE potential fraud case and negative features conribute to make prediction as NOT FRAUD. So we can say 0 valued weights do not contribute to anything: [-2.20419775e-03 -2.05805565e-03 -1.84760299e-03 -1.73920156e-03\n",
      " -1.30956988e-03 -1.29869458e-03 -1.25589979e-03 -1.04445018e-03\n",
      " -1.04116944e-03 -1.00303141e-03 -9.97875815e-04 -8.63566816e-04\n",
      " -8.06020981e-04 -7.72301426e-04 -4.31818659e-04 -3.63059718e-04\n",
      " -3.46054209e-04 -3.21589984e-04 -2.97680270e-04 -2.15032529e-04\n",
      " -1.84144983e-04 -1.52141879e-04 -1.31454567e-04 -9.13180820e-05\n",
      " -9.06929110e-05 -6.26050637e-05 -5.23452058e-05 -4.73351054e-05\n",
      " -2.74411161e-05 -2.11200539e-05 -1.96447593e-05 -1.66488353e-05\n",
      " -1.43845010e-05 -1.41925853e-05 -1.40413595e-05 -1.29572181e-05\n",
      " -1.27017435e-05 -1.22603730e-05 -1.20899888e-05 -1.14568588e-05\n",
      " -1.14265657e-05 -1.11005131e-05 -1.10453826e-05 -1.09005863e-05\n",
      " -1.06460411e-05 -8.89582956e-06 -8.46707664e-06 -8.46683231e-06\n",
      " -7.46491899e-06 -6.66040450e-06 -6.66040450e-06 -5.58506861e-06\n",
      " -5.58506861e-06 -5.08586936e-06 -3.94061273e-06 -3.68498785e-06\n",
      " -3.51381017e-06 -3.43358199e-06 -2.85978171e-06 -2.35032746e-06\n",
      " -2.33020297e-06 -1.91981802e-06 -1.70980530e-06 -1.14758966e-06\n",
      " -1.12762928e-06 -1.09886641e-06 -9.18741006e-07 -8.70654663e-07\n",
      " -7.26631817e-07 -5.99169414e-07 -5.59170863e-07 -5.27035000e-07\n",
      " -5.27035000e-07 -5.12738707e-07 -4.11923527e-07 -3.44814475e-07\n",
      " -3.19432081e-07 -2.94225282e-07 -2.26218972e-07 -1.97297103e-07\n",
      " -9.22755471e-08  4.93221322e-08  2.26997526e-07  2.95586665e-07\n",
      "  4.32153837e-07  4.32153837e-07  4.51963223e-07  4.56270377e-07\n",
      "  6.44354602e-07  6.50293859e-07  7.11745045e-07  8.54650330e-07\n",
      "  9.64787197e-07  1.01490935e-06  1.02624223e-06  1.16709703e-06\n",
      "  1.39894276e-06  1.61524153e-06  1.61524153e-06  1.78449594e-06\n",
      "  1.91437812e-06  2.13902786e-06  2.19555395e-06  2.92351567e-06\n",
      "  3.48452903e-06  4.61719069e-06  7.90979360e-06  9.03646189e-06]\n"
     ]
    }
   ],
   "source": [
    "for i in range(X_train[0].shape[0]):\n",
    " print(\"weight for the feature\",i,\":\",model.coef_[0][i])\n",
    "\n",
    "model.coef_[0].sort()\n",
    "\n",
    "print(\"sorted list, positive weights contribute MORE TO DETERMINE potential hypertension case and negative features conribute more to make prediction as NOT hypertension. So we can say 0 valued weights do not contribute to anything:\",model.coef_[0])"
   ]
  },
  {
   "cell_type": "markdown",
   "metadata": {
    "id": "F2cS87lMLDDT"
   },
   "source": [
    "*Decision Tree*  "
   ]
  },
  {
   "cell_type": "code",
   "execution_count": 107,
   "metadata": {
    "colab": {
     "base_uri": "https://localhost:8080/"
    },
    "id": "BLXjjRAFLmGd",
    "outputId": "383a288e-c694-4d7b-c7fc-dbfb311ce006"
   },
   "outputs": [
    {
     "name": "stdout",
     "output_type": "stream",
     "text": [
      "1.0\n",
      "1.0\n"
     ]
    }
   ],
   "source": [
    "from sklearn.tree import DecisionTreeClassifier\n",
    "model =DecisionTreeClassifier()\n",
    "model.fit(X_train, y_train)\n",
    "print(model.score(X_train, y_train))\n",
    "print(model.score(X_test,y_test))"
   ]
  },
  {
   "cell_type": "markdown",
   "metadata": {
    "id": "KUe9EcWyLFhl"
   },
   "source": [
    "*AdaBoost*"
   ]
  },
  {
   "cell_type": "code",
   "execution_count": 108,
   "metadata": {
    "colab": {
     "base_uri": "https://localhost:8080/"
    },
    "id": "PEk2Fd8eLmhY",
    "outputId": "6e6071e3-e2ec-4315-ffa5-1f741b628138"
   },
   "outputs": [
    {
     "name": "stdout",
     "output_type": "stream",
     "text": [
      "1.0\n",
      "1.0\n"
     ]
    }
   ],
   "source": [
    "from sklearn.ensemble import AdaBoostClassifier\n",
    "model =AdaBoostClassifier()\n",
    "model.fit(X_train, y_train)\n",
    "print(model.score(X_train, y_train))\n",
    "print(model.score(X_test,y_test))"
   ]
  },
  {
   "cell_type": "code",
   "execution_count": 127,
   "metadata": {},
   "outputs": [
    {
     "data": {
      "image/png": "[encoded data removed]",
      "text/plain": [
       "<Figure size 432x288 with 1 Axes>"
      ]
     },
     "metadata": {
      "needs_background": "light"
     },
     "output_type": "display_data"
    }
   ],
   "source": [
    "# Visualize the data (tsne is great but slow.)\n",
    "\n",
    "from sklearn.manifold import TSNE\n",
    "tsne = TSNE(n_components=2)\n",
    "transformed = tsne.fit_transform(X_train)\n",
    "\n",
    "#visualize in the 2d\n",
    "plt.scatter(transformed[:,0], transformed[:,1], c=y_train) #take first two columns in order to get 2d plot.\n",
    "plt.show()"
   ]
  },
  {
   "cell_type": "code",
   "execution_count": 131,
   "metadata": {},
   "outputs": [
    {
     "data": {
      "image/png": "[encoded data removed]",
      "text/plain": [
       "<Figure size 432x288 with 1 Axes>"
      ]
     },
     "metadata": {
      "needs_background": "light"
     },
     "output_type": "display_data"
    }
   ],
   "source": [
    "transformed = tsne.fit_transform(X_test)\n",
    "\n",
    "# visualize the clouds in 2-D\n",
    "plt.scatter(transformed[:,0], transformed[:,1], c=y_test) #take first two columns in order to get 2d plot.\n",
    "plt.show()"
   ]
  }
 ],
 "metadata": {
  "colab": {
   "collapsed_sections": [],
   "machine_shape": "hm",
   "name": "fraud_detection_model.ipynb",
   "provenance": []
  },
  "kernelspec": {
   "display_name": "Python 3",
   "language": "python",
   "name": "python3"
  },
  "language_info": {
   "codemirror_mode": {
    "name": "ipython",
    "version": 3
   },
   "file_extension": ".py",
   "mimetype": "text/x-python",
   "name": "python",
   "nbconvert_exporter": "python",
   "pygments_lexer": "ipython3",
   "version": "3.8.5"
  }
 },
 "nbformat": 4,
 "nbformat_minor": 1
}
